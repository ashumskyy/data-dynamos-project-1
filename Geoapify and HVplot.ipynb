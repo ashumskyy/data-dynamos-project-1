{
 "cells": [
  {
   "cell_type": "code",
   "execution_count": 29,
   "id": "eaa60674",
   "metadata": {},
   "outputs": [],
   "source": [
    "# Import the required libraries\n",
    "import hvplot.pandas\n",
    "import pandas as pd\n",
    "import requests\n",
    "import json\n",
    "import geopandas as gpd\n",
    "import matplotlib.pyplot as plt\n",
    "import plotly.express as px\n",
    "from PIL import Image\n",
    "\n",
    "\n",
    "# Turn off warning messages\n",
    "import warnings\n",
    "warnings.filterwarnings(\"ignore\")\n",
    "\n",
    "# Import the GeoAPIFy Key\n",
    "from config_api_keys import geo_api_key"
   ]
  },
  {
   "cell_type": "code",
   "execution_count": 2,
   "id": "4c82dc6f",
   "metadata": {},
   "outputs": [
    {
     "data": {
      "text/html": [
       "<div>\n",
       "<style scoped>\n",
       "    .dataframe tbody tr th:only-of-type {\n",
       "        vertical-align: middle;\n",
       "    }\n",
       "\n",
       "    .dataframe tbody tr th {\n",
       "        vertical-align: top;\n",
       "    }\n",
       "\n",
       "    .dataframe thead th {\n",
       "        text-align: right;\n",
       "    }\n",
       "</style>\n",
       "<table border=\"1\" class=\"dataframe\">\n",
       "  <thead>\n",
       "    <tr style=\"text-align: right;\">\n",
       "      <th></th>\n",
       "      <th>Unnamed: 0</th>\n",
       "      <th>Country Name</th>\n",
       "      <th>Country Code</th>\n",
       "      <th>Region</th>\n",
       "      <th>Happiness Score</th>\n",
       "      <th>Life Expectancy</th>\n",
       "      <th>Suicide Rate</th>\n",
       "      <th>Unemployment Rate</th>\n",
       "      <th>Inflation</th>\n",
       "      <th>Net National Income Total ($) billions</th>\n",
       "      <th>GDP Total ($) billions</th>\n",
       "    </tr>\n",
       "  </thead>\n",
       "  <tbody>\n",
       "    <tr>\n",
       "      <th>0</th>\n",
       "      <td>0</td>\n",
       "      <td>Albania</td>\n",
       "      <td>ALB</td>\n",
       "      <td>Europe</td>\n",
       "      <td>5.199</td>\n",
       "      <td>79.003400</td>\n",
       "      <td>4.60</td>\n",
       "      <td>14.0000</td>\n",
       "      <td>1.726728</td>\n",
       "      <td>10.95</td>\n",
       "      <td>13.37</td>\n",
       "    </tr>\n",
       "    <tr>\n",
       "      <th>1</th>\n",
       "      <td>1</td>\n",
       "      <td>Algeria</td>\n",
       "      <td>DZA</td>\n",
       "      <td>Africa</td>\n",
       "      <td>5.122</td>\n",
       "      <td>75.927400</td>\n",
       "      <td>2.56</td>\n",
       "      <td>10.5352</td>\n",
       "      <td>4.599003</td>\n",
       "      <td>134.99</td>\n",
       "      <td>168.56</td>\n",
       "    </tr>\n",
       "    <tr>\n",
       "      <th>2</th>\n",
       "      <td>2</td>\n",
       "      <td>Armenia</td>\n",
       "      <td>ARM</td>\n",
       "      <td>Europe</td>\n",
       "      <td>5.399</td>\n",
       "      <td>74.901800</td>\n",
       "      <td>4.06</td>\n",
       "      <td>18.1700</td>\n",
       "      <td>1.452263</td>\n",
       "      <td>10.39</td>\n",
       "      <td>11.74</td>\n",
       "    </tr>\n",
       "    <tr>\n",
       "      <th>3</th>\n",
       "      <td>3</td>\n",
       "      <td>Australia</td>\n",
       "      <td>AUS</td>\n",
       "      <td>Asia</td>\n",
       "      <td>7.162</td>\n",
       "      <td>82.599512</td>\n",
       "      <td>12.68</td>\n",
       "      <td>5.5620</td>\n",
       "      <td>1.651235</td>\n",
       "      <td>1040.77</td>\n",
       "      <td>1340.84</td>\n",
       "    </tr>\n",
       "    <tr>\n",
       "      <th>4</th>\n",
       "      <td>4</td>\n",
       "      <td>Austria</td>\n",
       "      <td>AUT</td>\n",
       "      <td>Europe</td>\n",
       "      <td>7.163</td>\n",
       "      <td>81.612683</td>\n",
       "      <td>15.44</td>\n",
       "      <td>5.3140</td>\n",
       "      <td>1.479740</td>\n",
       "      <td>340.09</td>\n",
       "      <td>418.94</td>\n",
       "    </tr>\n",
       "    <tr>\n",
       "      <th>...</th>\n",
       "      <td>...</td>\n",
       "      <td>...</td>\n",
       "      <td>...</td>\n",
       "      <td>...</td>\n",
       "      <td>...</td>\n",
       "      <td>...</td>\n",
       "      <td>...</td>\n",
       "      <td>...</td>\n",
       "      <td>...</td>\n",
       "      <td>...</td>\n",
       "      <td>...</td>\n",
       "    </tr>\n",
       "    <tr>\n",
       "      <th>106</th>\n",
       "      <td>106</td>\n",
       "      <td>Ukraine</td>\n",
       "      <td>UKR</td>\n",
       "      <td>Europe</td>\n",
       "      <td>5.084</td>\n",
       "      <td>71.571366</td>\n",
       "      <td>21.42</td>\n",
       "      <td>8.9960</td>\n",
       "      <td>19.177894</td>\n",
       "      <td>103.15</td>\n",
       "      <td>116.25</td>\n",
       "    </tr>\n",
       "    <tr>\n",
       "      <th>107</th>\n",
       "      <td>107</td>\n",
       "      <td>United States</td>\n",
       "      <td>USA</td>\n",
       "      <td>Americas</td>\n",
       "      <td>6.977</td>\n",
       "      <td>78.639024</td>\n",
       "      <td>15.44</td>\n",
       "      <td>4.4160</td>\n",
       "      <td>1.553023</td>\n",
       "      <td>16846.90</td>\n",
       "      <td>19658.50</td>\n",
       "    </tr>\n",
       "    <tr>\n",
       "      <th>108</th>\n",
       "      <td>108</td>\n",
       "      <td>Uruguay</td>\n",
       "      <td>URY</td>\n",
       "      <td>Americas</td>\n",
       "      <td>6.474</td>\n",
       "      <td>77.559600</td>\n",
       "      <td>20.58</td>\n",
       "      <td>8.0880</td>\n",
       "      <td>8.002460</td>\n",
       "      <td>48.04</td>\n",
       "      <td>60.10</td>\n",
       "    </tr>\n",
       "    <tr>\n",
       "      <th>109</th>\n",
       "      <td>109</td>\n",
       "      <td>Vietnam</td>\n",
       "      <td>VNM</td>\n",
       "      <td>Asia</td>\n",
       "      <td>5.485</td>\n",
       "      <td>73.969200</td>\n",
       "      <td>7.64</td>\n",
       "      <td>1.7540</td>\n",
       "      <td>2.631032</td>\n",
       "      <td>178.12</td>\n",
       "      <td>284.44</td>\n",
       "    </tr>\n",
       "    <tr>\n",
       "      <th>110</th>\n",
       "      <td>110</td>\n",
       "      <td>Zambia</td>\n",
       "      <td>ZMB</td>\n",
       "      <td>Africa</td>\n",
       "      <td>3.760</td>\n",
       "      <td>62.051400</td>\n",
       "      <td>8.22</td>\n",
       "      <td>11.4314</td>\n",
       "      <td>10.240505</td>\n",
       "      <td>18.44</td>\n",
       "      <td>23.54</td>\n",
       "    </tr>\n",
       "  </tbody>\n",
       "</table>\n",
       "<p>111 rows × 11 columns</p>\n",
       "</div>"
      ],
      "text/plain": [
       "     Unnamed: 0   Country Name Country Code    Region  Happiness Score  \\\n",
       "0             0        Albania          ALB    Europe            5.199   \n",
       "1             1        Algeria          DZA    Africa            5.122   \n",
       "2             2        Armenia          ARM    Europe            5.399   \n",
       "3             3      Australia          AUS      Asia            7.162   \n",
       "4             4        Austria          AUT    Europe            7.163   \n",
       "..          ...            ...          ...       ...              ...   \n",
       "106         106        Ukraine          UKR    Europe            5.084   \n",
       "107         107  United States          USA  Americas            6.977   \n",
       "108         108        Uruguay          URY  Americas            6.474   \n",
       "109         109        Vietnam          VNM      Asia            5.485   \n",
       "110         110         Zambia          ZMB    Africa            3.760   \n",
       "\n",
       "     Life Expectancy  Suicide Rate  Unemployment Rate  Inflation  \\\n",
       "0          79.003400          4.60            14.0000   1.726728   \n",
       "1          75.927400          2.56            10.5352   4.599003   \n",
       "2          74.901800          4.06            18.1700   1.452263   \n",
       "3          82.599512         12.68             5.5620   1.651235   \n",
       "4          81.612683         15.44             5.3140   1.479740   \n",
       "..               ...           ...                ...        ...   \n",
       "106        71.571366         21.42             8.9960  19.177894   \n",
       "107        78.639024         15.44             4.4160   1.553023   \n",
       "108        77.559600         20.58             8.0880   8.002460   \n",
       "109        73.969200          7.64             1.7540   2.631032   \n",
       "110        62.051400          8.22            11.4314  10.240505   \n",
       "\n",
       "     Net National Income Total ($) billions  GDP Total ($) billions  \n",
       "0                                     10.95                   13.37  \n",
       "1                                    134.99                  168.56  \n",
       "2                                     10.39                   11.74  \n",
       "3                                   1040.77                 1340.84  \n",
       "4                                    340.09                  418.94  \n",
       "..                                      ...                     ...  \n",
       "106                                  103.15                  116.25  \n",
       "107                                16846.90                19658.50  \n",
       "108                                   48.04                   60.10  \n",
       "109                                  178.12                  284.44  \n",
       "110                                   18.44                   23.54  \n",
       "\n",
       "[111 rows x 11 columns]"
      ]
     },
     "execution_count": 2,
     "metadata": {},
     "output_type": "execute_result"
    }
   ],
   "source": [
    "# Read CSV\n",
    "final_combined_happiness_csv = pd.read_csv('resources/final_mean_df.csv')\n",
    "final_combined_happiness_csv"
   ]
  },
  {
   "cell_type": "code",
   "execution_count": 3,
   "id": "d93ccd42",
   "metadata": {},
   "outputs": [
    {
     "data": {
      "text/html": [
       "<div>\n",
       "<style scoped>\n",
       "    .dataframe tbody tr th:only-of-type {\n",
       "        vertical-align: middle;\n",
       "    }\n",
       "\n",
       "    .dataframe tbody tr th {\n",
       "        vertical-align: top;\n",
       "    }\n",
       "\n",
       "    .dataframe thead th {\n",
       "        text-align: right;\n",
       "    }\n",
       "</style>\n",
       "<table border=\"1\" class=\"dataframe\">\n",
       "  <thead>\n",
       "    <tr style=\"text-align: right;\">\n",
       "      <th></th>\n",
       "      <th>Unnamed: 0</th>\n",
       "      <th>Country Name</th>\n",
       "      <th>Country Code</th>\n",
       "      <th>Region</th>\n",
       "      <th>Happiness Score</th>\n",
       "      <th>Life Expectancy</th>\n",
       "      <th>Suicide Rate</th>\n",
       "      <th>Unemployment Rate</th>\n",
       "      <th>Inflation</th>\n",
       "      <th>Net National Income Total ($) billions</th>\n",
       "      <th>GDP Total ($) billions</th>\n",
       "    </tr>\n",
       "  </thead>\n",
       "  <tbody>\n",
       "    <tr>\n",
       "      <th>0</th>\n",
       "      <td>0</td>\n",
       "      <td>Albania</td>\n",
       "      <td>ALB</td>\n",
       "      <td>Europe</td>\n",
       "      <td>5.199</td>\n",
       "      <td>79.003400</td>\n",
       "      <td>4.60</td>\n",
       "      <td>14.0000</td>\n",
       "      <td>1.726728</td>\n",
       "      <td>10.95</td>\n",
       "      <td>13.37</td>\n",
       "    </tr>\n",
       "    <tr>\n",
       "      <th>1</th>\n",
       "      <td>1</td>\n",
       "      <td>Algeria</td>\n",
       "      <td>DZA</td>\n",
       "      <td>Africa</td>\n",
       "      <td>5.122</td>\n",
       "      <td>75.927400</td>\n",
       "      <td>2.56</td>\n",
       "      <td>10.5352</td>\n",
       "      <td>4.599003</td>\n",
       "      <td>134.99</td>\n",
       "      <td>168.56</td>\n",
       "    </tr>\n",
       "    <tr>\n",
       "      <th>2</th>\n",
       "      <td>2</td>\n",
       "      <td>Armenia</td>\n",
       "      <td>ARM</td>\n",
       "      <td>Europe</td>\n",
       "      <td>5.399</td>\n",
       "      <td>74.901800</td>\n",
       "      <td>4.06</td>\n",
       "      <td>18.1700</td>\n",
       "      <td>1.452263</td>\n",
       "      <td>10.39</td>\n",
       "      <td>11.74</td>\n",
       "    </tr>\n",
       "    <tr>\n",
       "      <th>3</th>\n",
       "      <td>3</td>\n",
       "      <td>Australia</td>\n",
       "      <td>AUS</td>\n",
       "      <td>Asia</td>\n",
       "      <td>7.162</td>\n",
       "      <td>82.599512</td>\n",
       "      <td>12.68</td>\n",
       "      <td>5.5620</td>\n",
       "      <td>1.651235</td>\n",
       "      <td>1040.77</td>\n",
       "      <td>1340.84</td>\n",
       "    </tr>\n",
       "    <tr>\n",
       "      <th>4</th>\n",
       "      <td>4</td>\n",
       "      <td>Austria</td>\n",
       "      <td>AUT</td>\n",
       "      <td>Europe</td>\n",
       "      <td>7.163</td>\n",
       "      <td>81.612683</td>\n",
       "      <td>15.44</td>\n",
       "      <td>5.3140</td>\n",
       "      <td>1.479740</td>\n",
       "      <td>340.09</td>\n",
       "      <td>418.94</td>\n",
       "    </tr>\n",
       "  </tbody>\n",
       "</table>\n",
       "</div>"
      ],
      "text/plain": [
       "   Unnamed: 0 Country Name Country Code  Region  Happiness Score  \\\n",
       "0           0      Albania          ALB  Europe            5.199   \n",
       "1           1      Algeria          DZA  Africa            5.122   \n",
       "2           2      Armenia          ARM  Europe            5.399   \n",
       "3           3    Australia          AUS    Asia            7.162   \n",
       "4           4      Austria          AUT  Europe            7.163   \n",
       "\n",
       "   Life Expectancy  Suicide Rate  Unemployment Rate  Inflation  \\\n",
       "0        79.003400          4.60            14.0000   1.726728   \n",
       "1        75.927400          2.56            10.5352   4.599003   \n",
       "2        74.901800          4.06            18.1700   1.452263   \n",
       "3        82.599512         12.68             5.5620   1.651235   \n",
       "4        81.612683         15.44             5.3140   1.479740   \n",
       "\n",
       "   Net National Income Total ($) billions  GDP Total ($) billions  \n",
       "0                                   10.95                   13.37  \n",
       "1                                  134.99                  168.56  \n",
       "2                                   10.39                   11.74  \n",
       "3                                 1040.77                 1340.84  \n",
       "4                                  340.09                  418.94  "
      ]
     },
     "execution_count": 3,
     "metadata": {},
     "output_type": "execute_result"
    }
   ],
   "source": [
    "# Create a Data Frame\n",
    "final_combined_happiness_df = pd.DataFrame(final_combined_happiness_csv)\n",
    "\n",
    "final_combined_happiness_df.head()"
   ]
  },
  {
   "cell_type": "code",
   "execution_count": 4,
   "id": "badd8275",
   "metadata": {},
   "outputs": [],
   "source": [
    "# Reduce the columns in the Data Frame\n",
    "final_combined_happiness_reduced = final_combined_happiness_df[['Country Name',\n",
    "                                                               'Region',\n",
    "                                                               'Happiness Score',\n",
    "                                                               'Suicide Rate']]"
   ]
  },
  {
   "cell_type": "code",
   "execution_count": 5,
   "id": "ddbe9a3c",
   "metadata": {},
   "outputs": [
    {
     "data": {
      "text/html": [
       "<div>\n",
       "<style scoped>\n",
       "    .dataframe tbody tr th:only-of-type {\n",
       "        vertical-align: middle;\n",
       "    }\n",
       "\n",
       "    .dataframe tbody tr th {\n",
       "        vertical-align: top;\n",
       "    }\n",
       "\n",
       "    .dataframe thead th {\n",
       "        text-align: right;\n",
       "    }\n",
       "</style>\n",
       "<table border=\"1\" class=\"dataframe\">\n",
       "  <thead>\n",
       "    <tr style=\"text-align: right;\">\n",
       "      <th></th>\n",
       "      <th>Country Name</th>\n",
       "      <th>Region</th>\n",
       "      <th>Happiness Score</th>\n",
       "      <th>Suicide Rate</th>\n",
       "    </tr>\n",
       "  </thead>\n",
       "  <tbody>\n",
       "    <tr>\n",
       "      <th>0</th>\n",
       "      <td>Albania</td>\n",
       "      <td>Europe</td>\n",
       "      <td>5.199</td>\n",
       "      <td>4.60</td>\n",
       "    </tr>\n",
       "    <tr>\n",
       "      <th>1</th>\n",
       "      <td>Algeria</td>\n",
       "      <td>Africa</td>\n",
       "      <td>5.122</td>\n",
       "      <td>2.56</td>\n",
       "    </tr>\n",
       "    <tr>\n",
       "      <th>2</th>\n",
       "      <td>Armenia</td>\n",
       "      <td>Europe</td>\n",
       "      <td>5.399</td>\n",
       "      <td>4.06</td>\n",
       "    </tr>\n",
       "    <tr>\n",
       "      <th>3</th>\n",
       "      <td>Australia</td>\n",
       "      <td>Asia</td>\n",
       "      <td>7.162</td>\n",
       "      <td>12.68</td>\n",
       "    </tr>\n",
       "    <tr>\n",
       "      <th>4</th>\n",
       "      <td>Austria</td>\n",
       "      <td>Europe</td>\n",
       "      <td>7.163</td>\n",
       "      <td>15.44</td>\n",
       "    </tr>\n",
       "  </tbody>\n",
       "</table>\n",
       "</div>"
      ],
      "text/plain": [
       "  Country Name  Region  Happiness Score  Suicide Rate\n",
       "0      Albania  Europe            5.199          4.60\n",
       "1      Algeria  Africa            5.122          2.56\n",
       "2      Armenia  Europe            5.399          4.06\n",
       "3    Australia    Asia            7.162         12.68\n",
       "4      Austria  Europe            7.163         15.44"
      ]
     },
     "execution_count": 5,
     "metadata": {},
     "output_type": "execute_result"
    }
   ],
   "source": [
    "final_combined_happiness_reduced.head()"
   ]
  },
  {
   "cell_type": "code",
   "execution_count": 6,
   "id": "51d222fa",
   "metadata": {},
   "outputs": [],
   "source": [
    "# final_combined_happiness_reduced['Location'] = None\n",
    "\n",
    "# for index, row in final_combined_happiness_reduced.iterrows():\n",
    "#     country = row['Country Name']\n",
    "#     api_key = geo_api_key\n",
    "#     url = f'https://api.geoapify.com/v1/geocode/search?text={country}&limit=1&apiKey={api_key}'\n",
    "#     response = requests.get(url)\n",
    "#     data = response.json()\n",
    "#     location = data['features'][0]['geometry']['coordinates']\n",
    "#     final_combined_happiness_reduced.at[index, 'location'] = location"
   ]
  },
  {
   "cell_type": "code",
   "execution_count": 7,
   "id": "eae127d4",
   "metadata": {},
   "outputs": [
    {
     "data": {
      "text/html": [
       "<div>\n",
       "<style scoped>\n",
       "    .dataframe tbody tr th:only-of-type {\n",
       "        vertical-align: middle;\n",
       "    }\n",
       "\n",
       "    .dataframe tbody tr th {\n",
       "        vertical-align: top;\n",
       "    }\n",
       "\n",
       "    .dataframe thead th {\n",
       "        text-align: right;\n",
       "    }\n",
       "</style>\n",
       "<table border=\"1\" class=\"dataframe\">\n",
       "  <thead>\n",
       "    <tr style=\"text-align: right;\">\n",
       "      <th></th>\n",
       "      <th>Country Name</th>\n",
       "      <th>Region</th>\n",
       "      <th>Happiness Score</th>\n",
       "      <th>Suicide Rate</th>\n",
       "    </tr>\n",
       "  </thead>\n",
       "  <tbody>\n",
       "    <tr>\n",
       "      <th>34</th>\n",
       "      <td>Finland</td>\n",
       "      <td>Europe</td>\n",
       "      <td>7.821</td>\n",
       "      <td>15.32</td>\n",
       "    </tr>\n",
       "    <tr>\n",
       "      <th>26</th>\n",
       "      <td>Denmark</td>\n",
       "      <td>Europe</td>\n",
       "      <td>7.636</td>\n",
       "      <td>11.04</td>\n",
       "    </tr>\n",
       "    <tr>\n",
       "      <th>100</th>\n",
       "      <td>Switzerland</td>\n",
       "      <td>Europe</td>\n",
       "      <td>7.512</td>\n",
       "      <td>14.54</td>\n",
       "    </tr>\n",
       "    <tr>\n",
       "      <th>74</th>\n",
       "      <td>Netherlands</td>\n",
       "      <td>Europe</td>\n",
       "      <td>7.415</td>\n",
       "      <td>11.80</td>\n",
       "    </tr>\n",
       "    <tr>\n",
       "      <th>61</th>\n",
       "      <td>Luxembourg</td>\n",
       "      <td>Europe</td>\n",
       "      <td>7.404</td>\n",
       "      <td>10.82</td>\n",
       "    </tr>\n",
       "    <tr>\n",
       "      <th>99</th>\n",
       "      <td>Sweden</td>\n",
       "      <td>Europe</td>\n",
       "      <td>7.384</td>\n",
       "      <td>14.98</td>\n",
       "    </tr>\n",
       "    <tr>\n",
       "      <th>80</th>\n",
       "      <td>Norway</td>\n",
       "      <td>Europe</td>\n",
       "      <td>7.365</td>\n",
       "      <td>12.20</td>\n",
       "    </tr>\n",
       "    <tr>\n",
       "      <th>49</th>\n",
       "      <td>Israel</td>\n",
       "      <td>Asia</td>\n",
       "      <td>7.364</td>\n",
       "      <td>5.10</td>\n",
       "    </tr>\n",
       "    <tr>\n",
       "      <th>75</th>\n",
       "      <td>New Zealand</td>\n",
       "      <td>Asia</td>\n",
       "      <td>7.200</td>\n",
       "      <td>11.80</td>\n",
       "    </tr>\n",
       "    <tr>\n",
       "      <th>4</th>\n",
       "      <td>Austria</td>\n",
       "      <td>Europe</td>\n",
       "      <td>7.163</td>\n",
       "      <td>15.44</td>\n",
       "    </tr>\n",
       "  </tbody>\n",
       "</table>\n",
       "</div>"
      ],
      "text/plain": [
       "    Country Name  Region  Happiness Score  Suicide Rate\n",
       "34       Finland  Europe            7.821         15.32\n",
       "26       Denmark  Europe            7.636         11.04\n",
       "100  Switzerland  Europe            7.512         14.54\n",
       "74   Netherlands  Europe            7.415         11.80\n",
       "61    Luxembourg  Europe            7.404         10.82\n",
       "99        Sweden  Europe            7.384         14.98\n",
       "80        Norway  Europe            7.365         12.20\n",
       "49        Israel    Asia            7.364          5.10\n",
       "75   New Zealand    Asia            7.200         11.80\n",
       "4        Austria  Europe            7.163         15.44"
      ]
     },
     "execution_count": 7,
     "metadata": {},
     "output_type": "execute_result"
    }
   ],
   "source": [
    "# DF of the countries with 10 highest Happiness Score\n",
    "final_combined_happiness_sorted = final_combined_happiness_reduced.sort_values(by='Happiness Score',ascending=False).iloc[:10,:]\n",
    "final_combined_happiness_sorted"
   ]
  },
  {
   "cell_type": "code",
   "execution_count": 8,
   "id": "8d7324a3",
   "metadata": {},
   "outputs": [
    {
     "data": {
      "text/html": [
       "<div>\n",
       "<style scoped>\n",
       "    .dataframe tbody tr th:only-of-type {\n",
       "        vertical-align: middle;\n",
       "    }\n",
       "\n",
       "    .dataframe tbody tr th {\n",
       "        vertical-align: top;\n",
       "    }\n",
       "\n",
       "    .dataframe thead th {\n",
       "        text-align: right;\n",
       "    }\n",
       "</style>\n",
       "<table border=\"1\" class=\"dataframe\">\n",
       "  <thead>\n",
       "    <tr style=\"text-align: right;\">\n",
       "      <th></th>\n",
       "      <th>Country Name</th>\n",
       "      <th>Region</th>\n",
       "      <th>Happiness Score</th>\n",
       "      <th>Suicide Rate</th>\n",
       "    </tr>\n",
       "  </thead>\n",
       "  <tbody>\n",
       "    <tr>\n",
       "      <th>59</th>\n",
       "      <td>Lesotho</td>\n",
       "      <td>Africa</td>\n",
       "      <td>3.512</td>\n",
       "      <td>81.34</td>\n",
       "    </tr>\n",
       "    <tr>\n",
       "      <th>32</th>\n",
       "      <td>Eswatini</td>\n",
       "      <td>Africa</td>\n",
       "      <td>4.396</td>\n",
       "      <td>31.24</td>\n",
       "    </tr>\n",
       "    <tr>\n",
       "      <th>60</th>\n",
       "      <td>Lithuania</td>\n",
       "      <td>Europe</td>\n",
       "      <td>6.446</td>\n",
       "      <td>30.18</td>\n",
       "    </tr>\n",
       "    <tr>\n",
       "      <th>89</th>\n",
       "      <td>Russian Federation</td>\n",
       "      <td>Europe</td>\n",
       "      <td>5.459</td>\n",
       "      <td>28.68</td>\n",
       "    </tr>\n",
       "    <tr>\n",
       "      <th>96</th>\n",
       "      <td>South Africa</td>\n",
       "      <td>Africa</td>\n",
       "      <td>5.194</td>\n",
       "      <td>24.34</td>\n",
       "    </tr>\n",
       "    <tr>\n",
       "      <th>8</th>\n",
       "      <td>Belarus</td>\n",
       "      <td>Europe</td>\n",
       "      <td>5.821</td>\n",
       "      <td>23.16</td>\n",
       "    </tr>\n",
       "    <tr>\n",
       "      <th>106</th>\n",
       "      <td>Ukraine</td>\n",
       "      <td>Europe</td>\n",
       "      <td>5.084</td>\n",
       "      <td>21.42</td>\n",
       "    </tr>\n",
       "    <tr>\n",
       "      <th>108</th>\n",
       "      <td>Uruguay</td>\n",
       "      <td>Americas</td>\n",
       "      <td>6.474</td>\n",
       "      <td>20.58</td>\n",
       "    </tr>\n",
       "    <tr>\n",
       "      <th>58</th>\n",
       "      <td>Latvia</td>\n",
       "      <td>Europe</td>\n",
       "      <td>6.180</td>\n",
       "      <td>20.50</td>\n",
       "    </tr>\n",
       "    <tr>\n",
       "      <th>54</th>\n",
       "      <td>Kazakhstan</td>\n",
       "      <td>Asia</td>\n",
       "      <td>6.234</td>\n",
       "      <td>20.46</td>\n",
       "    </tr>\n",
       "  </tbody>\n",
       "</table>\n",
       "</div>"
      ],
      "text/plain": [
       "           Country Name    Region  Happiness Score  Suicide Rate\n",
       "59              Lesotho    Africa            3.512         81.34\n",
       "32             Eswatini    Africa            4.396         31.24\n",
       "60            Lithuania    Europe            6.446         30.18\n",
       "89   Russian Federation    Europe            5.459         28.68\n",
       "96         South Africa    Africa            5.194         24.34\n",
       "8               Belarus    Europe            5.821         23.16\n",
       "106             Ukraine    Europe            5.084         21.42\n",
       "108             Uruguay  Americas            6.474         20.58\n",
       "58               Latvia    Europe            6.180         20.50\n",
       "54           Kazakhstan      Asia            6.234         20.46"
      ]
     },
     "execution_count": 8,
     "metadata": {},
     "output_type": "execute_result"
    }
   ],
   "source": [
    "# DF of the countries with 10 highest Suicide Rate\n",
    "final_combined_suicide_sorted = final_combined_happiness_reduced.sort_values(by='Suicide Rate',ascending=False).iloc[:10,:]\n",
    "final_combined_suicide_sorted"
   ]
  },
  {
   "cell_type": "code",
   "execution_count": 9,
   "id": "26a6aa52",
   "metadata": {},
   "outputs": [],
   "source": [
    "# -----------------------------\n",
    "# Retrive the coordinate of the final_combined_happiness_sorted data frame"
   ]
  },
  {
   "cell_type": "code",
   "execution_count": 10,
   "id": "38e1d4cd",
   "metadata": {},
   "outputs": [],
   "source": [
    "# New columns for Latitude and Longitude\n",
    "final_combined_happiness_sorted['Latitude'] = ''\n",
    "final_combined_happiness_sorted['Longitude'] = ''"
   ]
  },
  {
   "cell_type": "code",
   "execution_count": 11,
   "id": "43036021",
   "metadata": {},
   "outputs": [],
   "source": [
    "\n",
    "for index, row in final_combined_happiness_sorted.iterrows():\n",
    "    country = row['Country Name']\n",
    "    url = f'https://api.geoapify.com/v1/geocode/search?text={country}&limit=1&apiKey={geo_api_key}'\n",
    "    response = requests.get(url)\n",
    "    data = response.json()\n",
    "    try:\n",
    "        latitude = data['features'][0]['geometry']['coordinates'][1]\n",
    "        longitude = data['features'][0]['geometry']['coordinates'][0]\n",
    "        final_combined_happiness_sorted.at[index, 'Latitude'] = latitude\n",
    "        final_combined_happiness_sorted.at[index, 'Longitude'] = longitude\n",
    "    except (IndexError, KeyError):\n",
    "        # In case the API returns no data or the JSON structure is different\n",
    "        pass"
   ]
  },
  {
   "cell_type": "code",
   "execution_count": 12,
   "id": "fc92c6e6",
   "metadata": {},
   "outputs": [
    {
     "data": {
      "text/html": [
       "<div>\n",
       "<style scoped>\n",
       "    .dataframe tbody tr th:only-of-type {\n",
       "        vertical-align: middle;\n",
       "    }\n",
       "\n",
       "    .dataframe tbody tr th {\n",
       "        vertical-align: top;\n",
       "    }\n",
       "\n",
       "    .dataframe thead th {\n",
       "        text-align: right;\n",
       "    }\n",
       "</style>\n",
       "<table border=\"1\" class=\"dataframe\">\n",
       "  <thead>\n",
       "    <tr style=\"text-align: right;\">\n",
       "      <th></th>\n",
       "      <th>Country Name</th>\n",
       "      <th>Region</th>\n",
       "      <th>Happiness Score</th>\n",
       "      <th>Suicide Rate</th>\n",
       "      <th>Latitude</th>\n",
       "      <th>Longitude</th>\n",
       "    </tr>\n",
       "  </thead>\n",
       "  <tbody>\n",
       "    <tr>\n",
       "      <th>1</th>\n",
       "      <td>Finland</td>\n",
       "      <td>Europe</td>\n",
       "      <td>7.821</td>\n",
       "      <td>15.32</td>\n",
       "      <td>63.246778</td>\n",
       "      <td>25.920916</td>\n",
       "    </tr>\n",
       "    <tr>\n",
       "      <th>2</th>\n",
       "      <td>Denmark</td>\n",
       "      <td>Europe</td>\n",
       "      <td>7.636</td>\n",
       "      <td>11.04</td>\n",
       "      <td>55.670249</td>\n",
       "      <td>10.333328</td>\n",
       "    </tr>\n",
       "    <tr>\n",
       "      <th>3</th>\n",
       "      <td>Switzerland</td>\n",
       "      <td>Europe</td>\n",
       "      <td>7.512</td>\n",
       "      <td>14.54</td>\n",
       "      <td>46.798562</td>\n",
       "      <td>8.231974</td>\n",
       "    </tr>\n",
       "    <tr>\n",
       "      <th>4</th>\n",
       "      <td>Netherlands</td>\n",
       "      <td>Europe</td>\n",
       "      <td>7.415</td>\n",
       "      <td>11.80</td>\n",
       "      <td>52.243498</td>\n",
       "      <td>5.634323</td>\n",
       "    </tr>\n",
       "    <tr>\n",
       "      <th>5</th>\n",
       "      <td>Luxembourg</td>\n",
       "      <td>Europe</td>\n",
       "      <td>7.404</td>\n",
       "      <td>10.82</td>\n",
       "      <td>49.815868</td>\n",
       "      <td>6.129675</td>\n",
       "    </tr>\n",
       "    <tr>\n",
       "      <th>6</th>\n",
       "      <td>Sweden</td>\n",
       "      <td>Europe</td>\n",
       "      <td>7.384</td>\n",
       "      <td>14.98</td>\n",
       "      <td>59.674971</td>\n",
       "      <td>14.520858</td>\n",
       "    </tr>\n",
       "    <tr>\n",
       "      <th>7</th>\n",
       "      <td>Norway</td>\n",
       "      <td>Europe</td>\n",
       "      <td>7.365</td>\n",
       "      <td>12.20</td>\n",
       "      <td>61.152939</td>\n",
       "      <td>8.787665</td>\n",
       "    </tr>\n",
       "    <tr>\n",
       "      <th>8</th>\n",
       "      <td>Israel</td>\n",
       "      <td>Asia</td>\n",
       "      <td>7.364</td>\n",
       "      <td>5.10</td>\n",
       "      <td>30.812425</td>\n",
       "      <td>34.859476</td>\n",
       "    </tr>\n",
       "    <tr>\n",
       "      <th>9</th>\n",
       "      <td>New Zealand</td>\n",
       "      <td>Asia</td>\n",
       "      <td>7.200</td>\n",
       "      <td>11.80</td>\n",
       "      <td>-41.500083</td>\n",
       "      <td>172.834408</td>\n",
       "    </tr>\n",
       "    <tr>\n",
       "      <th>10</th>\n",
       "      <td>Austria</td>\n",
       "      <td>Europe</td>\n",
       "      <td>7.163</td>\n",
       "      <td>15.44</td>\n",
       "      <td>47.59397</td>\n",
       "      <td>14.12456</td>\n",
       "    </tr>\n",
       "  </tbody>\n",
       "</table>\n",
       "</div>"
      ],
      "text/plain": [
       "   Country Name  Region  Happiness Score  Suicide Rate   Latitude   Longitude\n",
       "1       Finland  Europe            7.821         15.32  63.246778   25.920916\n",
       "2       Denmark  Europe            7.636         11.04  55.670249   10.333328\n",
       "3   Switzerland  Europe            7.512         14.54  46.798562    8.231974\n",
       "4   Netherlands  Europe            7.415         11.80  52.243498    5.634323\n",
       "5    Luxembourg  Europe            7.404         10.82  49.815868    6.129675\n",
       "6        Sweden  Europe            7.384         14.98  59.674971   14.520858\n",
       "7        Norway  Europe            7.365         12.20  61.152939    8.787665\n",
       "8        Israel    Asia            7.364          5.10  30.812425   34.859476\n",
       "9   New Zealand    Asia            7.200         11.80 -41.500083  172.834408\n",
       "10      Austria  Europe            7.163         15.44   47.59397    14.12456"
      ]
     },
     "execution_count": 12,
     "metadata": {},
     "output_type": "execute_result"
    }
   ],
   "source": [
    "final_combined_happiness_sorted = final_combined_happiness_sorted.reset_index(drop=True)\n",
    "final_combined_happiness_sorted.index = final_combined_happiness_sorted.index + 1\n",
    "final_combined_happiness_sorted"
   ]
  },
  {
   "cell_type": "code",
   "execution_count": 13,
   "id": "9b7419b0",
   "metadata": {},
   "outputs": [
    {
     "data": {},
     "metadata": {},
     "output_type": "display_data"
    },
    {
     "data": {
      "application/vnd.holoviews_exec.v0+json": "",
      "text/html": [
       "<div id='1004'>\n",
       "  <div class=\"bk-root\" id=\"5924b333-d7e3-465b-a002-336e7801ffdc\" data-root-id=\"1004\"></div>\n",
       "</div>\n",
       "<script type=\"application/javascript\">(function(root) {\n",
       "  function embed_document(root) {\n",
       "    var docs_json = {\"c5ff3187-a657-40c8-a7d2-ec1ebfa39cac\":{\"defs\":[{\"extends\":null,\"module\":null,\"name\":\"ReactiveHTML1\",\"overrides\":[],\"properties\":[]},{\"extends\":null,\"module\":null,\"name\":\"FlexBox1\",\"overrides\":[],\"properties\":[{\"default\":\"flex-start\",\"kind\":null,\"name\":\"align_content\"},{\"default\":\"flex-start\",\"kind\":null,\"name\":\"align_items\"},{\"default\":\"row\",\"kind\":null,\"name\":\"flex_direction\"},{\"default\":\"wrap\",\"kind\":null,\"name\":\"flex_wrap\"},{\"default\":\"flex-start\",\"kind\":null,\"name\":\"justify_content\"}]},{\"extends\":null,\"module\":null,\"name\":\"GridStack1\",\"overrides\":[],\"properties\":[{\"default\":\"warn\",\"kind\":null,\"name\":\"mode\"},{\"default\":null,\"kind\":null,\"name\":\"ncols\"},{\"default\":null,\"kind\":null,\"name\":\"nrows\"},{\"default\":true,\"kind\":null,\"name\":\"allow_resize\"},{\"default\":true,\"kind\":null,\"name\":\"allow_drag\"},{\"default\":[],\"kind\":null,\"name\":\"state\"}]},{\"extends\":null,\"module\":null,\"name\":\"click1\",\"overrides\":[],\"properties\":[{\"default\":\"\",\"kind\":null,\"name\":\"terminal_output\"},{\"default\":\"\",\"kind\":null,\"name\":\"debug_name\"},{\"default\":0,\"kind\":null,\"name\":\"clears\"}]},{\"extends\":null,\"module\":null,\"name\":\"NotificationAreaBase1\",\"overrides\":[],\"properties\":[{\"default\":\"bottom-right\",\"kind\":null,\"name\":\"position\"},{\"default\":0,\"kind\":null,\"name\":\"_clear\"}]},{\"extends\":null,\"module\":null,\"name\":\"NotificationArea1\",\"overrides\":[],\"properties\":[{\"default\":[],\"kind\":null,\"name\":\"notifications\"},{\"default\":\"bottom-right\",\"kind\":null,\"name\":\"position\"},{\"default\":0,\"kind\":null,\"name\":\"_clear\"},{\"default\":[{\"background\":\"#ffc107\",\"icon\":{\"className\":\"fas fa-exclamation-triangle\",\"color\":\"white\",\"tagName\":\"i\"},\"type\":\"warning\"},{\"background\":\"#007bff\",\"icon\":{\"className\":\"fas fa-info-circle\",\"color\":\"white\",\"tagName\":\"i\"},\"type\":\"info\"}],\"kind\":null,\"name\":\"types\"}]},{\"extends\":null,\"module\":null,\"name\":\"Notification\",\"overrides\":[],\"properties\":[{\"default\":null,\"kind\":null,\"name\":\"background\"},{\"default\":3000,\"kind\":null,\"name\":\"duration\"},{\"default\":null,\"kind\":null,\"name\":\"icon\"},{\"default\":\"\",\"kind\":null,\"name\":\"message\"},{\"default\":null,\"kind\":null,\"name\":\"notification_type\"},{\"default\":false,\"kind\":null,\"name\":\"_destroyed\"}]},{\"extends\":null,\"module\":null,\"name\":\"TemplateActions1\",\"overrides\":[],\"properties\":[{\"default\":0,\"kind\":null,\"name\":\"open_modal\"},{\"default\":0,\"kind\":null,\"name\":\"close_modal\"}]},{\"extends\":null,\"module\":null,\"name\":\"MaterialTemplateActions1\",\"overrides\":[],\"properties\":[{\"default\":0,\"kind\":null,\"name\":\"open_modal\"},{\"default\":0,\"kind\":null,\"name\":\"close_modal\"}]}],\"roots\":{\"references\":[{\"attributes\":{\"fill_alpha\":{\"value\":0.1},\"fill_color\":{\"field\":\"color\",\"transform\":{\"id\":\"1081\"}},\"hatch_alpha\":{\"value\":0.1},\"hatch_color\":{\"field\":\"color\",\"transform\":{\"id\":\"1081\"}},\"line_alpha\":{\"value\":0.1},\"line_color\":{\"field\":\"color\",\"transform\":{\"id\":\"1081\"}},\"size\":{\"field\":\"size\"},\"x\":{\"field\":\"Longitude\"},\"y\":{\"field\":\"Latitude\"}},\"id\":\"1086\",\"type\":\"Scatter\"},{\"attributes\":{\"dimension\":\"lon\"},\"id\":\"1050\",\"type\":\"MercatorTickFormatter\"},{\"attributes\":{\"dimension\":\"lat\"},\"id\":\"1051\",\"type\":\"MercatorTicker\"},{\"attributes\":{\"dimension\":\"lat\"},\"id\":\"1052\",\"type\":\"MercatorTickFormatter\"},{\"attributes\":{\"data\":{\"Country_Name\":[\"Finland\",\"Denmark\",\"Switzerland\",\"Netherlands\",\"Luxembourg\",\"Sweden\",\"Norway\",\"Israel\",\"New Zealand\",\"Austria\"],\"Happiness_Score\":{\"__ndarray__\":\"YhBYObRIH0AlBoGVQ4seQD81XrpJDB5AKVyPwvWoHUAEVg4tsp0dQPCnxks3iR1A9ihcj8J1HUDb+X5qvHQdQM3MzMzMzBxA9P3UeOmmHEA=\",\"dtype\":\"float64\",\"order\":\"little\",\"shape\":[10]},\"Latitude\":{\"__ndarray__\":\"tc3SVyd5YUEa9fRqbpVcQYyjmgXCilZBpdb4U9wbWkG8VBUVHHhYQQCo+KeLxF9B7MBZIQSFYEEbFANnrodLQQJZC4AsZ1PBwdIfcgQKV0E=\",\"dtype\":\"float64\",\"order\":\"little\",\"shape\":[10]},\"Longitude\":{\"__ndarray__\":\"PiV2m78DRkHKzTTYXI0xQYQWADg29ytBiPAr3hMkI0G5ESmf4NIkQVzAHpBGqjhBjqpY2nzaLUHTYeiRLZtNQYaHG+Q5WXJBQ1iu0/L9N0E=\",\"dtype\":\"float64\",\"order\":\"little\",\"shape\":[10]},\"Region\":[\"Europe\",\"Europe\",\"Europe\",\"Europe\",\"Europe\",\"Europe\",\"Europe\",\"Asia\",\"Asia\",\"Europe\"],\"color\":[\"Finland\",\"Denmark\",\"Switzerland\",\"Netherlands\",\"Luxembourg\",\"Sweden\",\"Norway\",\"Israel\",\"New Zealand\",\"Austria\"],\"hover_line_color\":{\"__ndarray__\":\"YhBYObRIH0AlBoGVQ4seQD81XrpJDB5AKVyPwvWoHUAEVg4tsp0dQPCnxks3iR1A9ihcj8J1HUDb+X5qvHQdQM3MzMzMzBxA9P3UeOmmHEA=\",\"dtype\":\"float64\",\"order\":\"little\",\"shape\":[10]},\"size\":{\"__ndarray__\":\"9VKWfHJfJkAVMt5zTRsmQDVx/gQq7SVAeXAhUM7IJUBgRVX3qsQlQJKb5NwivSVAl4ehvvi1JUDiwIglmLUlQGPyT1RcdyVASEuE8jhpJUA=\",\"dtype\":\"float64\",\"order\":\"little\",\"shape\":[10]}},\"selected\":{\"id\":\"1083\"},\"selection_policy\":{\"id\":\"1095\"}},\"id\":\"1082\",\"type\":\"ColumnDataSource\"},{\"attributes\":{\"fill_color\":{\"field\":\"color\",\"transform\":{\"id\":\"1081\"}},\"hatch_color\":{\"field\":\"color\",\"transform\":{\"id\":\"1081\"}},\"line_color\":{\"field\":\"hover_line_color\",\"transform\":{\"id\":\"1080\"}},\"line_width\":{\"value\":2},\"size\":{\"field\":\"size\"},\"x\":{\"field\":\"Longitude\"},\"y\":{\"field\":\"Latitude\"}},\"id\":\"1088\",\"type\":\"Scatter\"},{\"attributes\":{},\"id\":\"1083\",\"type\":\"Selection\"},{\"attributes\":{\"click_policy\":\"mute\",\"coordinates\":null,\"group\":null,\"items\":[{\"id\":\"1099\"}],\"location\":[0,0]},\"id\":\"1098\",\"type\":\"Legend\"},{\"attributes\":{},\"id\":\"1095\",\"type\":\"UnionRenderers\"},{\"attributes\":{\"attribution\":\"&copy; <a href=\\\"https://www.openstreetmap.org/copyright\\\">OpenStreetMap</a> contributors\",\"url\":\"https://c.tile.openstreetmap.org/{Z}/{X}/{Y}.png\"},\"id\":\"1075\",\"type\":\"WMTSTileSource\"},{\"attributes\":{},\"id\":\"1034\",\"type\":\"SaveTool\"},{\"attributes\":{\"below\":[{\"id\":\"1026\"}],\"center\":[{\"id\":\"1029\"},{\"id\":\"1033\"}],\"frame_height\":500,\"frame_width\":700,\"height\":null,\"left\":[{\"id\":\"1030\"}],\"margin\":[5,5,5,5],\"match_aspect\":true,\"min_border_bottom\":10,\"min_border_left\":10,\"min_border_right\":10,\"min_border_top\":10,\"renderers\":[{\"id\":\"1078\"},{\"id\":\"1090\"}],\"right\":[{\"id\":\"1098\"}],\"sizing_mode\":\"fixed\",\"title\":{\"id\":\"1018\"},\"toolbar\":{\"id\":\"1040\"},\"width\":null,\"x_range\":{\"id\":\"1010\"},\"x_scale\":{\"id\":\"1022\"},\"y_range\":{\"id\":\"1011\"},\"y_scale\":{\"id\":\"1024\"}},\"id\":\"1017\",\"subtype\":\"Figure\",\"type\":\"Plot\"},{\"attributes\":{},\"id\":\"1035\",\"type\":\"PanTool\"},{\"attributes\":{\"dimension\":\"lon\"},\"id\":\"1049\",\"type\":\"MercatorTicker\"},{\"attributes\":{\"high\":7.821,\"low\":7.163,\"palette\":[\"#b3fef5\",\"#b0fef5\",\"#adfdf5\",\"#a9fcf5\",\"#a6fbf6\",\"#a3faf6\",\"#a0faf6\",\"#9df9f6\",\"#9af8f6\",\"#97f7f6\",\"#93f7f6\",\"#90f6f6\",\"#8df5f6\",\"#8af4f7\",\"#87f3f7\",\"#83f2f7\",\"#80f2f7\",\"#7df1f7\",\"#79f0f7\",\"#76eff7\",\"#73eef7\",\"#6fedf8\",\"#6cecf8\",\"#68ecf8\",\"#65ebf8\",\"#61eaf8\",\"#5ee9f8\",\"#5ae8f8\",\"#57e7f8\",\"#53e6f8\",\"#50e5f9\",\"#4ce4f9\",\"#49e3f9\",\"#45e2f9\",\"#42e1f9\",\"#3ee0f9\",\"#3bdff9\",\"#38def9\",\"#35ddf9\",\"#32dcf9\",\"#30dbfa\",\"#2ed9fa\",\"#2dd8fa\",\"#2cd7fa\",\"#2bd6fa\",\"#2bd5fa\",\"#2ad3fa\",\"#2ad2fa\",\"#29d1fa\",\"#29d0fb\",\"#29cffb\",\"#28cdfb\",\"#28ccfb\",\"#28cbfb\",\"#28cafb\",\"#28c8fb\",\"#28c7fb\",\"#29c6fb\",\"#29c5fb\",\"#29c4fb\",\"#29c2fb\",\"#2ac1fb\",\"#2ac0fb\",\"#2bbffb\",\"#2bbdfc\",\"#2cbcfc\",\"#2dbbfc\",\"#2db9fc\",\"#2eb8fc\",\"#2fb7fc\",\"#2fb6fc\",\"#30b4fc\",\"#31b3fc\",\"#32b2fc\",\"#32b0fc\",\"#33affc\",\"#33aefc\",\"#34adfc\",\"#34abfc\",\"#34aafc\",\"#35a9fc\",\"#35a8fc\",\"#35a6fc\",\"#35a5fc\",\"#35a4fc\",\"#35a3fc\",\"#35a1fc\",\"#35a0fc\",\"#359ffc\",\"#359dfc\",\"#359cfc\",\"#359bfc\",\"#349afd\",\"#3498fd\",\"#3497fd\",\"#3396fd\",\"#3395fd\",\"#3293fd\",\"#3292fd\",\"#3191fd\",\"#3090fd\",\"#308ffd\",\"#2f8dfd\",\"#2f8cfd\",\"#2e8bfd\",\"#2e8afd\",\"#2d88fd\",\"#2d87fd\",\"#2c86fd\",\"#2c84fd\",\"#2c83fd\",\"#2c82fd\",\"#2b81fd\",\"#2b7ffd\",\"#2b7efd\",\"#2b7dfd\",\"#2b7bfd\",\"#2b7afd\",\"#2b79fd\",\"#2b77fd\",\"#2b76fd\",\"#2b75fd\",\"#2b73fd\",\"#2c72fd\",\"#2c71fd\",\"#2c6ffd\",\"#2c6efd\",\"#2d6cfd\",\"#2d6bfd\",\"#2d6afc\",\"#2e68fc\",\"#2e67fc\",\"#2e65fc\",\"#2e64fc\",\"#2f62fc\",\"#2f61fc\",\"#2f5ffc\",\"#2f5efc\",\"#2f5dfc\",\"#2f5bfc\",\"#2f5afc\",\"#2f58fb\",\"#2f57fb\",\"#2f55fb\",\"#2f53fb\",\"#2f52fb\",\"#2f50fb\",\"#2f4ffb\",\"#2f4dfb\",\"#2e4cfb\",\"#2e4afb\",\"#2e48fb\",\"#2e47fa\",\"#2d45fa\",\"#2d43fa\",\"#2d42fa\",\"#2d40fa\",\"#2c3efa\",\"#2c3dfa\",\"#2b3bf9\",\"#2b39f9\",\"#2a37f9\",\"#2a36f8\",\"#2934f8\",\"#2832f7\",\"#2831f7\",\"#272ff6\",\"#262ef5\",\"#252cf5\",\"#252af4\",\"#2429f3\",\"#2327f2\",\"#2226f1\",\"#2124f0\",\"#2023ef\",\"#1f22ee\",\"#1e20ed\",\"#1d1feb\",\"#1c1eea\",\"#1b1ce9\",\"#1a1be7\",\"#181ae6\",\"#1719e5\",\"#1618e3\",\"#1417e1\",\"#1316e0\",\"#1215de\",\"#1014dc\",\"#0f13db\",\"#0e12d9\",\"#0d11d7\",\"#0c10d5\",\"#0b0fd3\",\"#0a0ed1\",\"#090dd0\",\"#080dce\",\"#080ccc\",\"#070bca\",\"#070ac8\",\"#0709c6\",\"#0708c4\",\"#0707c2\",\"#0707bf\",\"#0806bd\",\"#0806bb\",\"#0905b9\",\"#0904b7\",\"#0a04b5\",\"#0a04b2\",\"#0b03b0\",\"#0c03ae\",\"#0d02ab\",\"#0e02a9\",\"#0e02a7\",\"#0f02a4\",\"#0f01a2\",\"#1001a0\",\"#10019d\",\"#10019b\",\"#100199\",\"#100197\",\"#100194\",\"#0f0192\",\"#0f0190\",\"#0f018e\",\"#0e018b\",\"#0e0189\",\"#0d0187\",\"#0d0185\",\"#0c0183\",\"#0b0181\",\"#0b017e\",\"#0a017c\",\"#09017a\",\"#090178\",\"#080276\",\"#070274\",\"#060272\",\"#060270\",\"#05026e\",\"#04026c\",\"#030269\",\"#030267\",\"#020265\",\"#010263\",\"#010261\",\"#00025f\",\"#00025d\",\"#00025b\",\"#000259\",\"#000257\",\"#000255\",\"#000154\",\"#000152\",\"#000150\",\"#00004e\"]},\"id\":\"1080\",\"type\":\"LinearColorMapper\"},{\"attributes\":{\"coordinates\":null,\"group\":null,\"text\":\"Top 10 Countries With Highest Happiness Score\",\"text_color\":\"black\",\"text_font_size\":\"12pt\"},\"id\":\"1018\",\"type\":\"Title\"},{\"attributes\":{\"coordinates\":null,\"data_source\":{\"id\":\"1082\"},\"glyph\":{\"id\":\"1085\"},\"group\":null,\"hover_glyph\":{\"id\":\"1088\"},\"muted_glyph\":{\"id\":\"1089\"},\"nonselection_glyph\":{\"id\":\"1086\"},\"selection_glyph\":{\"id\":\"1087\"},\"view\":{\"id\":\"1091\"}},\"id\":\"1090\",\"type\":\"GlyphRenderer\"},{\"attributes\":{\"zoom_on_axis\":false},\"id\":\"1036\",\"type\":\"WheelZoomTool\"},{\"attributes\":{\"tools\":[{\"id\":\"1014\"},{\"id\":\"1034\"},{\"id\":\"1035\"},{\"id\":\"1036\"},{\"id\":\"1037\"},{\"id\":\"1038\"}]},\"id\":\"1040\",\"type\":\"Toolbar\"},{\"attributes\":{\"fill_color\":{\"field\":\"color\",\"transform\":{\"id\":\"1081\"}},\"hatch_color\":{\"field\":\"color\",\"transform\":{\"id\":\"1081\"}},\"line_color\":{\"field\":\"color\",\"transform\":{\"id\":\"1081\"}},\"size\":{\"field\":\"size\"},\"x\":{\"field\":\"Longitude\"},\"y\":{\"field\":\"Latitude\"}},\"id\":\"1085\",\"type\":\"Scatter\"},{\"attributes\":{\"match_aspect\":true,\"overlay\":{\"id\":\"1039\"}},\"id\":\"1037\",\"type\":\"BoxZoomTool\"},{\"attributes\":{\"source\":{\"id\":\"1082\"}},\"id\":\"1091\",\"type\":\"CDSView\"},{\"attributes\":{},\"id\":\"1022\",\"type\":\"LinearScale\"},{\"attributes\":{\"label\":{\"field\":\"color\"},\"renderers\":[{\"id\":\"1090\"}]},\"id\":\"1099\",\"type\":\"LegendItem\"},{\"attributes\":{\"code\":\"\\n        var projections = Bokeh.require(\\\"core/util/projections\\\");\\n        var x = special_vars.data_x\\n        var y = special_vars.data_y\\n        var coords = projections.wgs84_mercator.invert(x, y)\\n        return \\\"\\\" + (coords[0]).toFixed(4)\\n    \"},\"id\":\"1100\",\"type\":\"CustomJSHover\"},{\"attributes\":{},\"id\":\"1024\",\"type\":\"LinearScale\"},{\"attributes\":{\"code\":\"\\n        var projections = Bokeh.require(\\\"core/util/projections\\\");\\n        var x = special_vars.data_x\\n        var y = special_vars.data_y\\n        var coords = projections.wgs84_mercator.invert(x, y)\\n        return \\\"\\\" + (coords[1]).toFixed(4)\\n    \"},\"id\":\"1101\",\"type\":\"CustomJSHover\"},{\"attributes\":{},\"id\":\"1038\",\"type\":\"ResetTool\"},{\"attributes\":{\"axis_label\":\"x\",\"coordinates\":null,\"formatter\":{\"id\":\"1050\"},\"group\":null,\"major_label_policy\":{\"id\":\"1055\"},\"ticker\":{\"id\":\"1049\"}},\"id\":\"1026\",\"type\":\"LinearAxis\"},{\"attributes\":{\"axis_label\":\"y\",\"coordinates\":null,\"formatter\":{\"id\":\"1052\"},\"group\":null,\"major_label_policy\":{\"id\":\"1062\"},\"ticker\":{\"id\":\"1051\"}},\"id\":\"1030\",\"type\":\"LinearAxis\"},{\"attributes\":{\"bottom_units\":\"screen\",\"coordinates\":null,\"fill_alpha\":0.5,\"fill_color\":\"lightgrey\",\"group\":null,\"left_units\":\"screen\",\"level\":\"overlay\",\"line_alpha\":1.0,\"line_color\":\"black\",\"line_dash\":[4,4],\"line_width\":2,\"right_units\":\"screen\",\"syncable\":false,\"top_units\":\"screen\"},\"id\":\"1039\",\"type\":\"BoxAnnotation\"},{\"attributes\":{\"axis\":{\"id\":\"1030\"},\"coordinates\":null,\"dimension\":1,\"grid_line_color\":null,\"group\":null,\"ticker\":null},\"id\":\"1033\",\"type\":\"Grid\"},{\"attributes\":{\"margin\":[5,5,5,5],\"name\":\"HSpacer01546\",\"sizing_mode\":\"stretch_width\"},\"id\":\"1005\",\"type\":\"Spacer\"},{\"attributes\":{\"callback\":null,\"formatters\":{\"$x\":{\"id\":\"1100\"},\"$y\":{\"id\":\"1101\"}},\"renderers\":[{\"id\":\"1090\"}],\"tags\":[\"hv_created\"],\"tooltips\":[[\"Longitude\",\"$x{custom}\"],[\"Latitude\",\"$y{custom}\"],[\"Happiness Score\",\"@{Happiness_Score}\"],[\"Country Name\",\"@{Country_Name}\"],[\"Region\",\"@{Region}\"]]},\"id\":\"1014\",\"type\":\"HoverTool\"},{\"attributes\":{\"factors\":[\"Finland\",\"Denmark\",\"Switzerland\",\"Netherlands\",\"Luxembourg\",\"Sweden\",\"Norway\",\"Israel\",\"New Zealand\",\"Austria\"],\"palette\":[\"#b3fef5\",\"#57e7f8\",\"#28c7fb\",\"#35a3fc\",\"#2b7ffd\",\"#2f57fb\",\"#2429f3\",\"#0709c6\",\"#0d0187\",\"#00004e\"]},\"id\":\"1081\",\"type\":\"CategoricalColorMapper\"},{\"attributes\":{\"end\":21901343.748692814,\"min_interval\":5,\"reset_end\":21901343.748692814,\"reset_start\":-2034295.5580427917,\"start\":-2034295.5580427917,\"tags\":[[[\"Longitude\",\"Longitude\",null]]]},\"id\":\"1010\",\"type\":\"Range1d\"},{\"attributes\":{},\"id\":\"1062\",\"type\":\"AllLabels\"},{\"attributes\":{},\"id\":\"1055\",\"type\":\"AllLabels\"},{\"attributes\":{\"margin\":[5,5,5,5],\"name\":\"HSpacer01547\",\"sizing_mode\":\"stretch_width\"},\"id\":\"1108\",\"type\":\"Spacer\"},{\"attributes\":{\"children\":[{\"id\":\"1005\"},{\"id\":\"1017\"},{\"id\":\"1108\"}],\"margin\":[0,0,0,0],\"name\":\"Row01542\",\"tags\":[\"embedded\"]},\"id\":\"1004\",\"type\":\"Row\"},{\"attributes\":{\"axis\":{\"id\":\"1026\"},\"coordinates\":null,\"grid_line_color\":null,\"group\":null,\"ticker\":null},\"id\":\"1029\",\"type\":\"Grid\"},{\"attributes\":{\"fill_color\":{\"field\":\"color\",\"transform\":{\"id\":\"1081\"}},\"hatch_color\":{\"field\":\"color\",\"transform\":{\"id\":\"1081\"}},\"line_color\":{\"field\":\"color\",\"transform\":{\"id\":\"1081\"}},\"size\":{\"field\":\"size\"},\"x\":{\"field\":\"Longitude\"},\"y\":{\"field\":\"Latitude\"}},\"id\":\"1087\",\"type\":\"Scatter\"},{\"attributes\":{\"fill_alpha\":{\"value\":0.2},\"fill_color\":{\"field\":\"color\",\"transform\":{\"id\":\"1081\"}},\"hatch_alpha\":{\"value\":0.2},\"hatch_color\":{\"field\":\"color\",\"transform\":{\"id\":\"1081\"}},\"line_alpha\":{\"value\":0.2},\"line_color\":{\"field\":\"color\",\"transform\":{\"id\":\"1081\"}},\"size\":{\"field\":\"size\"},\"x\":{\"field\":\"Longitude\"},\"y\":{\"field\":\"Latitude\"}},\"id\":\"1089\",\"type\":\"Scatter\"},{\"attributes\":{\"coordinates\":null,\"group\":null,\"level\":\"glyph\",\"tile_source\":{\"id\":\"1075\"}},\"id\":\"1078\",\"type\":\"TileRenderer\"},{\"attributes\":{\"end\":10585758.932112645,\"min_interval\":5,\"reset_end\":10585758.932112645,\"reset_start\":-6511126.2869842155,\"start\":-6511126.2869842155,\"tags\":[[[\"Latitude\",\"Latitude\",null]]]},\"id\":\"1011\",\"type\":\"Range1d\"}],\"root_ids\":[\"1004\"]},\"title\":\"Bokeh Application\",\"version\":\"2.4.3\"}};\n",
       "    var render_items = [{\"docid\":\"c5ff3187-a657-40c8-a7d2-ec1ebfa39cac\",\"root_ids\":[\"1004\"],\"roots\":{\"1004\":\"5924b333-d7e3-465b-a002-336e7801ffdc\"}}];\n",
       "    root.Bokeh.embed.embed_items_notebook(docs_json, render_items);\n",
       "  }\n",
       "  if (root.Bokeh !== undefined && root.Bokeh.Panel !== undefined) {\n",
       "    embed_document(root);\n",
       "  } else {\n",
       "    var attempts = 0;\n",
       "    var timer = setInterval(function(root) {\n",
       "      if (root.Bokeh !== undefined && root.Bokeh.Panel !== undefined) {\n",
       "        clearInterval(timer);\n",
       "        embed_document(root);\n",
       "      } else if (document.readyState == \"complete\") {\n",
       "        attempts++;\n",
       "        if (attempts > 200) {\n",
       "          clearInterval(timer);\n",
       "          console.log(\"Bokeh: ERROR: Unable to run BokehJS code because BokehJS library is missing\");\n",
       "        }\n",
       "      }\n",
       "    }, 25, root)\n",
       "  }\n",
       "})(window);</script>"
      ],
      "text/plain": [
       ":Overlay\n",
       "   .Tiles.I  :Tiles   [x,y]\n",
       "   .Points.I :Points   [Longitude,Latitude]   (Happiness Score,Country Name,Region)"
      ]
     },
     "execution_count": 13,
     "metadata": {
      "application/vnd.holoviews_exec.v0+json": {
       "id": "1004"
      }
     },
     "output_type": "execute_result"
    }
   ],
   "source": [
    "happiness_map_plot = final_combined_happiness_sorted.hvplot.points(\n",
    "    x = \"Longitude\",\n",
    "    y = \"Latitude\",\n",
    "    geo = True,\n",
    "    title = 'Top 10 Countries With Highest Happiness Score',\n",
    "    tiles = \"OSM\",\n",
    "    hover_cols = [\"Country Name\", \"Region\", \"Happiness Score\"],\n",
    "    size = \"Happiness Score\",\n",
    "    scale = 4,\n",
    "    frame_width = 700,\n",
    "    frame_height = 500,\n",
    "    color = ['Country Name','Happiness Score'],\n",
    "    hover_line_color = \"Happiness Score\",\n",
    "    hover_line_width = 2,\n",
    ")\n",
    "\n",
    "# Display the map plot\n",
    "happiness_map_plot\n"
   ]
  },
  {
   "cell_type": "code",
   "execution_count": 36,
   "id": "31f7d2b4",
   "metadata": {},
   "outputs": [
    {
     "ename": "AttributeError",
     "evalue": "'Overlay' object has no attribute to.",
     "output_type": "error",
     "traceback": [
      "\u001b[0;31m---------------------------------------------------------------------------\u001b[0m",
      "\u001b[0;31mAttributeError\u001b[0m                            Traceback (most recent call last)",
      "\u001b[0;32m/var/folders/cc/r2gd9wfx5ds1_z7gtrmfk39m0000gn/T/ipykernel_9423/1411994924.py\u001b[0m in \u001b[0;36m<module>\u001b[0;34m\u001b[0m\n\u001b[1;32m      1\u001b[0m \u001b[0;31m# Save the map plot as a PNG file\u001b[0m\u001b[0;34m\u001b[0m\u001b[0;34m\u001b[0m\u001b[0;34m\u001b[0m\u001b[0m\n\u001b[1;32m      2\u001b[0m \u001b[0mpng_save_path\u001b[0m \u001b[0;34m=\u001b[0m \u001b[0;34m'happiness_map_plot.png'\u001b[0m\u001b[0;34m\u001b[0m\u001b[0;34m\u001b[0m\u001b[0m\n\u001b[0;32m----> 3\u001b[0;31m \u001b[0mfig\u001b[0m \u001b[0;34m=\u001b[0m \u001b[0mhappiness_map_plot\u001b[0m\u001b[0;34m.\u001b[0m\u001b[0moptions\u001b[0m\u001b[0;34m(\u001b[0m\u001b[0mtoolbar\u001b[0m\u001b[0;34m=\u001b[0m\u001b[0;32mNone\u001b[0m\u001b[0;34m)\u001b[0m\u001b[0;34m.\u001b[0m\u001b[0mopts\u001b[0m\u001b[0;34m(\u001b[0m\u001b[0mwidth\u001b[0m\u001b[0;34m=\u001b[0m\u001b[0;36m700\u001b[0m\u001b[0;34m,\u001b[0m \u001b[0mheight\u001b[0m\u001b[0;34m=\u001b[0m\u001b[0;36m500\u001b[0m\u001b[0;34m)\u001b[0m\u001b[0;34m.\u001b[0m\u001b[0mto\u001b[0m\u001b[0;34m.\u001b[0m\u001b[0mplot\u001b[0m\u001b[0;34m(\u001b[0m\u001b[0;34m)\u001b[0m\u001b[0;34m\u001b[0m\u001b[0;34m\u001b[0m\u001b[0m\n\u001b[0m\u001b[1;32m      4\u001b[0m \u001b[0mfig\u001b[0m\u001b[0;34m.\u001b[0m\u001b[0msavefig\u001b[0m\u001b[0;34m(\u001b[0m\u001b[0mpng_save_path\u001b[0m\u001b[0;34m)\u001b[0m\u001b[0;34m\u001b[0m\u001b[0;34m\u001b[0m\u001b[0m\n",
      "\u001b[0;32m~/opt/anaconda3/envs/PythonData/lib/python3.7/site-packages/holoviews/core/tree.py\u001b[0m in \u001b[0;36m__getattr__\u001b[0;34m(self, identifier)\u001b[0m\n\u001b[1;32m    272\u001b[0m         \u001b[0;32melse\u001b[0m\u001b[0;34m:\u001b[0m\u001b[0;34m\u001b[0m\u001b[0;34m\u001b[0m\u001b[0m\n\u001b[1;32m    273\u001b[0m             raise AttributeError('%r object has no attribute %s.' %\n\u001b[0;32m--> 274\u001b[0;31m                                  (type(self).__name__, identifier))\n\u001b[0m\u001b[1;32m    275\u001b[0m \u001b[0;34m\u001b[0m\u001b[0m\n\u001b[1;32m    276\u001b[0m \u001b[0;34m\u001b[0m\u001b[0m\n",
      "\u001b[0;31mAttributeError\u001b[0m: 'Overlay' object has no attribute to."
     ]
    }
   ],
   "source": [
    "# Save the map plot as a PNG file\n",
    "png_save_path = 'happiness_map_plot.png'\n",
    "fig = happiness_map_plot.options(toolbar=None).opts(width=700, height=500).to.plot()\n",
    "fig.savefig(png_save_path)\n"
   ]
  },
  {
   "cell_type": "code",
   "execution_count": 14,
   "id": "f79ae953",
   "metadata": {},
   "outputs": [],
   "source": [
    "# -----------------------------\n",
    "# Retrive the coordinate of the final_combined_happiness_sorted data frame"
   ]
  },
  {
   "cell_type": "code",
   "execution_count": 15,
   "id": "ca6e15ee",
   "metadata": {},
   "outputs": [],
   "source": [
    "# New columns for Latitude and Longitude\n",
    "final_combined_suicide_sorted['Latitude'] = ''\n",
    "final_combined_suicide_sorted['Longitude'] = ''"
   ]
  },
  {
   "cell_type": "code",
   "execution_count": 16,
   "id": "bde799dd",
   "metadata": {},
   "outputs": [],
   "source": [
    "for index, row in final_combined_suicide_sorted.iterrows():\n",
    "    country = row['Country Name']\n",
    "    url = f'https://api.geoapify.com/v1/geocode/search?text={country}&limit=1&apiKey={geo_api_key}'\n",
    "    response = requests.get(url)\n",
    "    data = response.json()\n",
    "    try:\n",
    "        latitude = data['features'][0]['geometry']['coordinates'][1]\n",
    "        longitude = data['features'][0]['geometry']['coordinates'][0]\n",
    "        final_combined_suicide_sorted.at[index, 'Latitude'] = latitude\n",
    "        final_combined_suicide_sorted.at[index, 'Longitude'] = longitude\n",
    "    except (IndexError, KeyError):\n",
    "        # In case the API returns no data or the JSON structure is different\n",
    "        pass"
   ]
  },
  {
   "cell_type": "code",
   "execution_count": 17,
   "id": "5dceb821",
   "metadata": {},
   "outputs": [
    {
     "data": {
      "text/html": [
       "<div>\n",
       "<style scoped>\n",
       "    .dataframe tbody tr th:only-of-type {\n",
       "        vertical-align: middle;\n",
       "    }\n",
       "\n",
       "    .dataframe tbody tr th {\n",
       "        vertical-align: top;\n",
       "    }\n",
       "\n",
       "    .dataframe thead th {\n",
       "        text-align: right;\n",
       "    }\n",
       "</style>\n",
       "<table border=\"1\" class=\"dataframe\">\n",
       "  <thead>\n",
       "    <tr style=\"text-align: right;\">\n",
       "      <th></th>\n",
       "      <th>Country Name</th>\n",
       "      <th>Region</th>\n",
       "      <th>Happiness Score</th>\n",
       "      <th>Suicide Rate</th>\n",
       "      <th>Latitude</th>\n",
       "      <th>Longitude</th>\n",
       "    </tr>\n",
       "  </thead>\n",
       "  <tbody>\n",
       "    <tr>\n",
       "      <th>1</th>\n",
       "      <td>Lesotho</td>\n",
       "      <td>Africa</td>\n",
       "      <td>3.512</td>\n",
       "      <td>81.34</td>\n",
       "      <td>-29.603927</td>\n",
       "      <td>28.335019</td>\n",
       "    </tr>\n",
       "    <tr>\n",
       "      <th>2</th>\n",
       "      <td>Eswatini</td>\n",
       "      <td>Africa</td>\n",
       "      <td>4.396</td>\n",
       "      <td>31.24</td>\n",
       "      <td>-26.562481</td>\n",
       "      <td>31.399132</td>\n",
       "    </tr>\n",
       "    <tr>\n",
       "      <th>3</th>\n",
       "      <td>Lithuania</td>\n",
       "      <td>Europe</td>\n",
       "      <td>6.446</td>\n",
       "      <td>30.18</td>\n",
       "      <td>55.35</td>\n",
       "      <td>23.75</td>\n",
       "    </tr>\n",
       "    <tr>\n",
       "      <th>4</th>\n",
       "      <td>Russian Federation</td>\n",
       "      <td>Europe</td>\n",
       "      <td>5.459</td>\n",
       "      <td>28.68</td>\n",
       "      <td>64.686314</td>\n",
       "      <td>97.745306</td>\n",
       "    </tr>\n",
       "    <tr>\n",
       "      <th>5</th>\n",
       "      <td>South Africa</td>\n",
       "      <td>Africa</td>\n",
       "      <td>5.194</td>\n",
       "      <td>24.34</td>\n",
       "      <td>-28.816624</td>\n",
       "      <td>24.991639</td>\n",
       "    </tr>\n",
       "    <tr>\n",
       "      <th>6</th>\n",
       "      <td>Belarus</td>\n",
       "      <td>Europe</td>\n",
       "      <td>5.821</td>\n",
       "      <td>23.16</td>\n",
       "      <td>53.425061</td>\n",
       "      <td>27.697136</td>\n",
       "    </tr>\n",
       "    <tr>\n",
       "      <th>7</th>\n",
       "      <td>Ukraine</td>\n",
       "      <td>Europe</td>\n",
       "      <td>5.084</td>\n",
       "      <td>21.42</td>\n",
       "      <td>49.487197</td>\n",
       "      <td>31.271832</td>\n",
       "    </tr>\n",
       "    <tr>\n",
       "      <th>8</th>\n",
       "      <td>Uruguay</td>\n",
       "      <td>Americas</td>\n",
       "      <td>6.474</td>\n",
       "      <td>20.58</td>\n",
       "      <td>-32.875555</td>\n",
       "      <td>-56.020153</td>\n",
       "    </tr>\n",
       "    <tr>\n",
       "      <th>9</th>\n",
       "      <td>Latvia</td>\n",
       "      <td>Europe</td>\n",
       "      <td>6.180</td>\n",
       "      <td>20.50</td>\n",
       "      <td>56.840649</td>\n",
       "      <td>24.753764</td>\n",
       "    </tr>\n",
       "    <tr>\n",
       "      <th>10</th>\n",
       "      <td>Kazakhstan</td>\n",
       "      <td>Asia</td>\n",
       "      <td>6.234</td>\n",
       "      <td>20.46</td>\n",
       "      <td>48.101295</td>\n",
       "      <td>66.778082</td>\n",
       "    </tr>\n",
       "  </tbody>\n",
       "</table>\n",
       "</div>"
      ],
      "text/plain": [
       "          Country Name    Region  Happiness Score  Suicide Rate   Latitude  \\\n",
       "1              Lesotho    Africa            3.512         81.34 -29.603927   \n",
       "2             Eswatini    Africa            4.396         31.24 -26.562481   \n",
       "3            Lithuania    Europe            6.446         30.18      55.35   \n",
       "4   Russian Federation    Europe            5.459         28.68  64.686314   \n",
       "5         South Africa    Africa            5.194         24.34 -28.816624   \n",
       "6              Belarus    Europe            5.821         23.16  53.425061   \n",
       "7              Ukraine    Europe            5.084         21.42  49.487197   \n",
       "8              Uruguay  Americas            6.474         20.58 -32.875555   \n",
       "9               Latvia    Europe            6.180         20.50  56.840649   \n",
       "10          Kazakhstan      Asia            6.234         20.46  48.101295   \n",
       "\n",
       "    Longitude  \n",
       "1   28.335019  \n",
       "2   31.399132  \n",
       "3       23.75  \n",
       "4   97.745306  \n",
       "5   24.991639  \n",
       "6   27.697136  \n",
       "7   31.271832  \n",
       "8  -56.020153  \n",
       "9   24.753764  \n",
       "10  66.778082  "
      ]
     },
     "execution_count": 17,
     "metadata": {},
     "output_type": "execute_result"
    }
   ],
   "source": [
    "final_combined_suicide_sorted = final_combined_suicide_sorted.reset_index(drop=True)\n",
    "final_combined_suicide_sorted.index = final_combined_suicide_sorted.index + 1\n",
    "final_combined_suicide_sorted"
   ]
  },
  {
   "cell_type": "code",
   "execution_count": 18,
   "id": "3e1b561a",
   "metadata": {},
   "outputs": [
    {
     "data": {},
     "metadata": {},
     "output_type": "display_data"
    },
    {
     "data": {
      "application/vnd.holoviews_exec.v0+json": "",
      "text/html": [
       "<div id='1140'>\n",
       "  <div class=\"bk-root\" id=\"2f9e2a04-8809-4d92-9f9e-f7e3a9b5fa0f\" data-root-id=\"1140\"></div>\n",
       "</div>\n",
       "<script type=\"application/javascript\">(function(root) {\n",
       "  function embed_document(root) {\n",
       "    var docs_json = {\"cead6dd5-94c3-4b19-a1ae-2259f126de4b\":{\"defs\":[{\"extends\":null,\"module\":null,\"name\":\"ReactiveHTML1\",\"overrides\":[],\"properties\":[]},{\"extends\":null,\"module\":null,\"name\":\"FlexBox1\",\"overrides\":[],\"properties\":[{\"default\":\"flex-start\",\"kind\":null,\"name\":\"align_content\"},{\"default\":\"flex-start\",\"kind\":null,\"name\":\"align_items\"},{\"default\":\"row\",\"kind\":null,\"name\":\"flex_direction\"},{\"default\":\"wrap\",\"kind\":null,\"name\":\"flex_wrap\"},{\"default\":\"flex-start\",\"kind\":null,\"name\":\"justify_content\"}]},{\"extends\":null,\"module\":null,\"name\":\"GridStack1\",\"overrides\":[],\"properties\":[{\"default\":\"warn\",\"kind\":null,\"name\":\"mode\"},{\"default\":null,\"kind\":null,\"name\":\"ncols\"},{\"default\":null,\"kind\":null,\"name\":\"nrows\"},{\"default\":true,\"kind\":null,\"name\":\"allow_resize\"},{\"default\":true,\"kind\":null,\"name\":\"allow_drag\"},{\"default\":[],\"kind\":null,\"name\":\"state\"}]},{\"extends\":null,\"module\":null,\"name\":\"click1\",\"overrides\":[],\"properties\":[{\"default\":\"\",\"kind\":null,\"name\":\"terminal_output\"},{\"default\":\"\",\"kind\":null,\"name\":\"debug_name\"},{\"default\":0,\"kind\":null,\"name\":\"clears\"}]},{\"extends\":null,\"module\":null,\"name\":\"NotificationAreaBase1\",\"overrides\":[],\"properties\":[{\"default\":\"bottom-right\",\"kind\":null,\"name\":\"position\"},{\"default\":0,\"kind\":null,\"name\":\"_clear\"}]},{\"extends\":null,\"module\":null,\"name\":\"NotificationArea1\",\"overrides\":[],\"properties\":[{\"default\":[],\"kind\":null,\"name\":\"notifications\"},{\"default\":\"bottom-right\",\"kind\":null,\"name\":\"position\"},{\"default\":0,\"kind\":null,\"name\":\"_clear\"},{\"default\":[{\"background\":\"#ffc107\",\"icon\":{\"className\":\"fas fa-exclamation-triangle\",\"color\":\"white\",\"tagName\":\"i\"},\"type\":\"warning\"},{\"background\":\"#007bff\",\"icon\":{\"className\":\"fas fa-info-circle\",\"color\":\"white\",\"tagName\":\"i\"},\"type\":\"info\"}],\"kind\":null,\"name\":\"types\"}]},{\"extends\":null,\"module\":null,\"name\":\"Notification\",\"overrides\":[],\"properties\":[{\"default\":null,\"kind\":null,\"name\":\"background\"},{\"default\":3000,\"kind\":null,\"name\":\"duration\"},{\"default\":null,\"kind\":null,\"name\":\"icon\"},{\"default\":\"\",\"kind\":null,\"name\":\"message\"},{\"default\":null,\"kind\":null,\"name\":\"notification_type\"},{\"default\":false,\"kind\":null,\"name\":\"_destroyed\"}]},{\"extends\":null,\"module\":null,\"name\":\"TemplateActions1\",\"overrides\":[],\"properties\":[{\"default\":0,\"kind\":null,\"name\":\"open_modal\"},{\"default\":0,\"kind\":null,\"name\":\"close_modal\"}]},{\"extends\":null,\"module\":null,\"name\":\"MaterialTemplateActions1\",\"overrides\":[],\"properties\":[{\"default\":0,\"kind\":null,\"name\":\"open_modal\"},{\"default\":0,\"kind\":null,\"name\":\"close_modal\"}]}],\"roots\":{\"references\":[{\"attributes\":{\"dimension\":\"lat\"},\"id\":\"1187\",\"type\":\"MercatorTicker\"},{\"attributes\":{\"factors\":[\"Lesotho\",\"Eswatini\",\"Lithuania\",\"Russian Federation\",\"South Africa\",\"Belarus\",\"Ukraine\",\"Uruguay\",\"Latvia\",\"Kazakhstan\"],\"palette\":[\"#b3fef5\",\"#57e7f8\",\"#28c7fb\",\"#35a3fc\",\"#2b7ffd\",\"#2f57fb\",\"#2429f3\",\"#0709c6\",\"#0d0187\",\"#00004e\"]},\"id\":\"1217\",\"type\":\"CategoricalColorMapper\"},{\"attributes\":{},\"id\":\"1231\",\"type\":\"UnionRenderers\"},{\"attributes\":{\"dimension\":\"lat\"},\"id\":\"1188\",\"type\":\"MercatorTickFormatter\"},{\"attributes\":{},\"id\":\"1170\",\"type\":\"SaveTool\"},{\"attributes\":{\"dimension\":\"lon\"},\"id\":\"1185\",\"type\":\"MercatorTicker\"},{\"attributes\":{},\"id\":\"1171\",\"type\":\"PanTool\"},{\"attributes\":{\"children\":[{\"id\":\"1141\"},{\"id\":\"1153\"},{\"id\":\"1244\"}],\"margin\":[0,0,0,0],\"name\":\"Row01686\",\"tags\":[\"embedded\"]},\"id\":\"1140\",\"type\":\"Row\"},{\"attributes\":{\"zoom_on_axis\":false},\"id\":\"1172\",\"type\":\"WheelZoomTool\"},{\"attributes\":{\"coordinates\":null,\"group\":null,\"text\":\"10 Countries With Highest Suicide Rate\",\"text_color\":\"black\",\"text_font_size\":\"12pt\"},\"id\":\"1154\",\"type\":\"Title\"},{\"attributes\":{\"tools\":[{\"id\":\"1150\"},{\"id\":\"1170\"},{\"id\":\"1171\"},{\"id\":\"1172\"},{\"id\":\"1173\"},{\"id\":\"1174\"}]},\"id\":\"1176\",\"type\":\"Toolbar\"},{\"attributes\":{\"below\":[{\"id\":\"1162\"}],\"center\":[{\"id\":\"1165\"},{\"id\":\"1169\"}],\"frame_height\":500,\"frame_width\":700,\"height\":null,\"left\":[{\"id\":\"1166\"}],\"margin\":[5,5,5,5],\"match_aspect\":true,\"min_border_bottom\":10,\"min_border_left\":10,\"min_border_right\":10,\"min_border_top\":10,\"renderers\":[{\"id\":\"1214\"},{\"id\":\"1226\"}],\"right\":[{\"id\":\"1234\"}],\"sizing_mode\":\"fixed\",\"title\":{\"id\":\"1154\"},\"toolbar\":{\"id\":\"1176\"},\"width\":null,\"x_range\":{\"id\":\"1146\"},\"x_scale\":{\"id\":\"1158\"},\"y_range\":{\"id\":\"1147\"},\"y_scale\":{\"id\":\"1160\"}},\"id\":\"1153\",\"subtype\":\"Figure\",\"type\":\"Plot\"},{\"attributes\":{\"fill_color\":{\"field\":\"color\",\"transform\":{\"id\":\"1217\"}},\"hatch_color\":{\"field\":\"color\",\"transform\":{\"id\":\"1217\"}},\"line_color\":{\"field\":\"color\",\"transform\":{\"id\":\"1217\"}},\"size\":{\"field\":\"size\"},\"x\":{\"field\":\"Longitude\"},\"y\":{\"field\":\"Latitude\"}},\"id\":\"1223\",\"type\":\"Scatter\"},{\"attributes\":{\"match_aspect\":true,\"overlay\":{\"id\":\"1175\"}},\"id\":\"1173\",\"type\":\"BoxZoomTool\"},{\"attributes\":{\"source\":{\"id\":\"1218\"}},\"id\":\"1227\",\"type\":\"CDSView\"},{\"attributes\":{},\"id\":\"1158\",\"type\":\"LinearScale\"},{\"attributes\":{\"margin\":[5,5,5,5],\"name\":\"HSpacer01691\",\"sizing_mode\":\"stretch_width\"},\"id\":\"1244\",\"type\":\"Spacer\"},{\"attributes\":{\"high\":81.34,\"low\":20.46,\"palette\":[\"#b3fef5\",\"#b0fef5\",\"#adfdf5\",\"#a9fcf5\",\"#a6fbf6\",\"#a3faf6\",\"#a0faf6\",\"#9df9f6\",\"#9af8f6\",\"#97f7f6\",\"#93f7f6\",\"#90f6f6\",\"#8df5f6\",\"#8af4f7\",\"#87f3f7\",\"#83f2f7\",\"#80f2f7\",\"#7df1f7\",\"#79f0f7\",\"#76eff7\",\"#73eef7\",\"#6fedf8\",\"#6cecf8\",\"#68ecf8\",\"#65ebf8\",\"#61eaf8\",\"#5ee9f8\",\"#5ae8f8\",\"#57e7f8\",\"#53e6f8\",\"#50e5f9\",\"#4ce4f9\",\"#49e3f9\",\"#45e2f9\",\"#42e1f9\",\"#3ee0f9\",\"#3bdff9\",\"#38def9\",\"#35ddf9\",\"#32dcf9\",\"#30dbfa\",\"#2ed9fa\",\"#2dd8fa\",\"#2cd7fa\",\"#2bd6fa\",\"#2bd5fa\",\"#2ad3fa\",\"#2ad2fa\",\"#29d1fa\",\"#29d0fb\",\"#29cffb\",\"#28cdfb\",\"#28ccfb\",\"#28cbfb\",\"#28cafb\",\"#28c8fb\",\"#28c7fb\",\"#29c6fb\",\"#29c5fb\",\"#29c4fb\",\"#29c2fb\",\"#2ac1fb\",\"#2ac0fb\",\"#2bbffb\",\"#2bbdfc\",\"#2cbcfc\",\"#2dbbfc\",\"#2db9fc\",\"#2eb8fc\",\"#2fb7fc\",\"#2fb6fc\",\"#30b4fc\",\"#31b3fc\",\"#32b2fc\",\"#32b0fc\",\"#33affc\",\"#33aefc\",\"#34adfc\",\"#34abfc\",\"#34aafc\",\"#35a9fc\",\"#35a8fc\",\"#35a6fc\",\"#35a5fc\",\"#35a4fc\",\"#35a3fc\",\"#35a1fc\",\"#35a0fc\",\"#359ffc\",\"#359dfc\",\"#359cfc\",\"#359bfc\",\"#349afd\",\"#3498fd\",\"#3497fd\",\"#3396fd\",\"#3395fd\",\"#3293fd\",\"#3292fd\",\"#3191fd\",\"#3090fd\",\"#308ffd\",\"#2f8dfd\",\"#2f8cfd\",\"#2e8bfd\",\"#2e8afd\",\"#2d88fd\",\"#2d87fd\",\"#2c86fd\",\"#2c84fd\",\"#2c83fd\",\"#2c82fd\",\"#2b81fd\",\"#2b7ffd\",\"#2b7efd\",\"#2b7dfd\",\"#2b7bfd\",\"#2b7afd\",\"#2b79fd\",\"#2b77fd\",\"#2b76fd\",\"#2b75fd\",\"#2b73fd\",\"#2c72fd\",\"#2c71fd\",\"#2c6ffd\",\"#2c6efd\",\"#2d6cfd\",\"#2d6bfd\",\"#2d6afc\",\"#2e68fc\",\"#2e67fc\",\"#2e65fc\",\"#2e64fc\",\"#2f62fc\",\"#2f61fc\",\"#2f5ffc\",\"#2f5efc\",\"#2f5dfc\",\"#2f5bfc\",\"#2f5afc\",\"#2f58fb\",\"#2f57fb\",\"#2f55fb\",\"#2f53fb\",\"#2f52fb\",\"#2f50fb\",\"#2f4ffb\",\"#2f4dfb\",\"#2e4cfb\",\"#2e4afb\",\"#2e48fb\",\"#2e47fa\",\"#2d45fa\",\"#2d43fa\",\"#2d42fa\",\"#2d40fa\",\"#2c3efa\",\"#2c3dfa\",\"#2b3bf9\",\"#2b39f9\",\"#2a37f9\",\"#2a36f8\",\"#2934f8\",\"#2832f7\",\"#2831f7\",\"#272ff6\",\"#262ef5\",\"#252cf5\",\"#252af4\",\"#2429f3\",\"#2327f2\",\"#2226f1\",\"#2124f0\",\"#2023ef\",\"#1f22ee\",\"#1e20ed\",\"#1d1feb\",\"#1c1eea\",\"#1b1ce9\",\"#1a1be7\",\"#181ae6\",\"#1719e5\",\"#1618e3\",\"#1417e1\",\"#1316e0\",\"#1215de\",\"#1014dc\",\"#0f13db\",\"#0e12d9\",\"#0d11d7\",\"#0c10d5\",\"#0b0fd3\",\"#0a0ed1\",\"#090dd0\",\"#080dce\",\"#080ccc\",\"#070bca\",\"#070ac8\",\"#0709c6\",\"#0708c4\",\"#0707c2\",\"#0707bf\",\"#0806bd\",\"#0806bb\",\"#0905b9\",\"#0904b7\",\"#0a04b5\",\"#0a04b2\",\"#0b03b0\",\"#0c03ae\",\"#0d02ab\",\"#0e02a9\",\"#0e02a7\",\"#0f02a4\",\"#0f01a2\",\"#1001a0\",\"#10019d\",\"#10019b\",\"#100199\",\"#100197\",\"#100194\",\"#0f0192\",\"#0f0190\",\"#0f018e\",\"#0e018b\",\"#0e0189\",\"#0d0187\",\"#0d0185\",\"#0c0183\",\"#0b0181\",\"#0b017e\",\"#0a017c\",\"#09017a\",\"#090178\",\"#080276\",\"#070274\",\"#060272\",\"#060270\",\"#05026e\",\"#04026c\",\"#030269\",\"#030267\",\"#020265\",\"#010263\",\"#010261\",\"#00025f\",\"#00025d\",\"#00025b\",\"#000259\",\"#000257\",\"#000255\",\"#000154\",\"#000152\",\"#000150\",\"#00004e\"]},\"id\":\"1216\",\"type\":\"LinearColorMapper\"},{\"attributes\":{\"end\":13582630.918730853,\"min_interval\":5,\"reset_end\":13582630.918730853,\"reset_start\":-8937808.066707727,\"start\":-8937808.066707727,\"tags\":[[[\"Longitude\",\"Longitude\",null]]]},\"id\":\"1146\",\"type\":\"Range1d\"},{\"attributes\":{\"code\":\"\\n        var projections = Bokeh.require(\\\"core/util/projections\\\");\\n        var x = special_vars.data_x\\n        var y = special_vars.data_y\\n        var coords = projections.wgs84_mercator.invert(x, y)\\n        return \\\"\\\" + (coords[0]).toFixed(4)\\n    \"},\"id\":\"1236\",\"type\":\"CustomJSHover\"},{\"attributes\":{\"code\":\"\\n        var projections = Bokeh.require(\\\"core/util/projections\\\");\\n        var x = special_vars.data_x\\n        var y = special_vars.data_y\\n        var coords = projections.wgs84_mercator.invert(x, y)\\n        return \\\"\\\" + (coords[1]).toFixed(4)\\n    \"},\"id\":\"1237\",\"type\":\"CustomJSHover\"},{\"attributes\":{},\"id\":\"1160\",\"type\":\"LinearScale\"},{\"attributes\":{},\"id\":\"1174\",\"type\":\"ResetTool\"},{\"attributes\":{\"axis_label\":\"x\",\"coordinates\":null,\"formatter\":{\"id\":\"1186\"},\"group\":null,\"major_label_policy\":{\"id\":\"1191\"},\"ticker\":{\"id\":\"1185\"}},\"id\":\"1162\",\"type\":\"LinearAxis\"},{\"attributes\":{\"axis\":{\"id\":\"1166\"},\"coordinates\":null,\"dimension\":1,\"grid_line_color\":null,\"group\":null,\"ticker\":null},\"id\":\"1169\",\"type\":\"Grid\"},{\"attributes\":{\"fill_color\":{\"field\":\"color\",\"transform\":{\"id\":\"1217\"}},\"hatch_color\":{\"field\":\"color\",\"transform\":{\"id\":\"1217\"}},\"line_color\":{\"field\":\"hover_line_color\",\"transform\":{\"id\":\"1216\"}},\"line_width\":{\"value\":2},\"size\":{\"field\":\"size\"},\"x\":{\"field\":\"Longitude\"},\"y\":{\"field\":\"Latitude\"}},\"id\":\"1224\",\"type\":\"Scatter\"},{\"attributes\":{\"bottom_units\":\"screen\",\"coordinates\":null,\"fill_alpha\":0.5,\"fill_color\":\"lightgrey\",\"group\":null,\"left_units\":\"screen\",\"level\":\"overlay\",\"line_alpha\":1.0,\"line_color\":\"black\",\"line_dash\":[4,4],\"line_width\":2,\"right_units\":\"screen\",\"syncable\":false,\"top_units\":\"screen\"},\"id\":\"1175\",\"type\":\"BoxAnnotation\"},{\"attributes\":{\"fill_color\":{\"field\":\"color\",\"transform\":{\"id\":\"1217\"}},\"hatch_color\":{\"field\":\"color\",\"transform\":{\"id\":\"1217\"}},\"line_color\":{\"field\":\"color\",\"transform\":{\"id\":\"1217\"}},\"size\":{\"field\":\"size\"},\"x\":{\"field\":\"Longitude\"},\"y\":{\"field\":\"Latitude\"}},\"id\":\"1221\",\"type\":\"Scatter\"},{\"attributes\":{\"fill_alpha\":{\"value\":0.1},\"fill_color\":{\"field\":\"color\",\"transform\":{\"id\":\"1217\"}},\"hatch_alpha\":{\"value\":0.1},\"hatch_color\":{\"field\":\"color\",\"transform\":{\"id\":\"1217\"}},\"line_alpha\":{\"value\":0.1},\"line_color\":{\"field\":\"color\",\"transform\":{\"id\":\"1217\"}},\"size\":{\"field\":\"size\"},\"x\":{\"field\":\"Longitude\"},\"y\":{\"field\":\"Latitude\"}},\"id\":\"1222\",\"type\":\"Scatter\"},{\"attributes\":{\"label\":{\"field\":\"color\"},\"renderers\":[{\"id\":\"1226\"}]},\"id\":\"1235\",\"type\":\"LegendItem\"},{\"attributes\":{},\"id\":\"1198\",\"type\":\"AllLabels\"},{\"attributes\":{\"callback\":null,\"formatters\":{\"$x\":{\"id\":\"1236\"},\"$y\":{\"id\":\"1237\"}},\"renderers\":[{\"id\":\"1226\"}],\"tags\":[\"hv_created\"],\"tooltips\":[[\"Longitude\",\"$x{custom}\"],[\"Latitude\",\"$y{custom}\"],[\"Suicide Rate\",\"@{Suicide_Rate}\"],[\"Country Name\",\"@{Country_Name}\"],[\"Region\",\"@{Region}\"]]},\"id\":\"1150\",\"type\":\"HoverTool\"},{\"attributes\":{\"axis\":{\"id\":\"1162\"},\"coordinates\":null,\"grid_line_color\":null,\"group\":null,\"ticker\":null},\"id\":\"1165\",\"type\":\"Grid\"},{\"attributes\":{},\"id\":\"1191\",\"type\":\"AllLabels\"},{\"attributes\":{\"coordinates\":null,\"data_source\":{\"id\":\"1218\"},\"glyph\":{\"id\":\"1221\"},\"group\":null,\"hover_glyph\":{\"id\":\"1224\"},\"muted_glyph\":{\"id\":\"1225\"},\"nonselection_glyph\":{\"id\":\"1222\"},\"selection_glyph\":{\"id\":\"1223\"},\"view\":{\"id\":\"1227\"}},\"id\":\"1226\",\"type\":\"GlyphRenderer\"},{\"attributes\":{\"fill_alpha\":{\"value\":0.2},\"fill_color\":{\"field\":\"color\",\"transform\":{\"id\":\"1217\"}},\"hatch_alpha\":{\"value\":0.2},\"hatch_color\":{\"field\":\"color\",\"transform\":{\"id\":\"1217\"}},\"line_alpha\":{\"value\":0.2},\"line_color\":{\"field\":\"color\",\"transform\":{\"id\":\"1217\"}},\"size\":{\"field\":\"size\"},\"x\":{\"field\":\"Longitude\"},\"y\":{\"field\":\"Latitude\"}},\"id\":\"1225\",\"type\":\"Scatter\"},{\"attributes\":{\"end\":10866728.088816801,\"min_interval\":5,\"reset_end\":10866728.088816801,\"reset_start\":-5219299.757925041,\"start\":-5219299.757925041,\"tags\":[[[\"Latitude\",\"Latitude\",null]]]},\"id\":\"1147\",\"type\":\"Range1d\"},{\"attributes\":{\"coordinates\":null,\"group\":null,\"level\":\"glyph\",\"tile_source\":{\"id\":\"1211\"}},\"id\":\"1214\",\"type\":\"TileRenderer\"},{\"attributes\":{\"axis_label\":\"y\",\"coordinates\":null,\"formatter\":{\"id\":\"1188\"},\"group\":null,\"major_label_policy\":{\"id\":\"1198\"},\"ticker\":{\"id\":\"1187\"}},\"id\":\"1166\",\"type\":\"LinearAxis\"},{\"attributes\":{},\"id\":\"1219\",\"type\":\"Selection\"},{\"attributes\":{\"attribution\":\"&copy; <a href=\\\"https://www.openstreetmap.org/copyright\\\">OpenStreetMap</a> contributors\",\"url\":\"https://c.tile.openstreetmap.org/{Z}/{X}/{Y}.png\"},\"id\":\"1211\",\"type\":\"WMTSTileSource\"},{\"attributes\":{\"data\":{\"Country_Name\":[\"Lesotho\",\"Eswatini\",\"Lithuania\",\"Russian Federation\",\"South Africa\",\"Belarus\",\"Ukraine\",\"Uruguay\",\"Latvia\",\"Kazakhstan\"],\"Latitude\":{\"__ndarray__\":\"d/NdnqFXSsH6oVyC+WlHwXp1BCDzV1xBLFjqQHorYkFjVM17g5NJwerAQTt/8FpBDmyjHuxAWEFTzvLIxpdNwbro9JKAel1BJ/231jJcV0E=\",\"dtype\":\"float64\",\"order\":\"little\",\"shape\":[10]},\"Longitude\":{\"__ndarray__\":\"W6DF9Z8QSEE/uRSt06pKQWGkvO++K0RBGsF6tvfAZEExZIdDtDlFQdRA34bvhUdBEkB4NiaPSkE09m22+clXwY0yzDr8BUVB6eX5g3lbXEE=\",\"dtype\":\"float64\",\"order\":\"little\",\"shape\":[10]},\"Region\":[\"Africa\",\"Africa\",\"Europe\",\"Europe\",\"Africa\",\"Europe\",\"Europe\",\"Americas\",\"Europe\",\"Asia\"],\"Suicide_Rate\":{\"__ndarray__\":\"9ihcj8JVVEA9CtejcD0/QK5H4XoULj5ArkfhehSuPEDXo3A9Clc4QClcj8L1KDdA7FG4HoVrNUAUrkfhepQ0QAAAAAAAgDRA9ihcj8J1NEA=\",\"dtype\":\"float64\",\"order\":\"little\",\"shape\":[10]},\"color\":[\"Lesotho\",\"Eswatini\",\"Lithuania\",\"Russian Federation\",\"South Africa\",\"Belarus\",\"Ukraine\",\"Uruguay\",\"Latvia\",\"Kazakhstan\"],\"hover_line_color\":{\"__ndarray__\":\"9ihcj8JVVEA9CtejcD0/QK5H4XoULj5ArkfhehSuPEDXo3A9Clc4QClcj8L1KDdA7FG4HoVrNUAUrkfhepQ0QAAAAAAAgDRA9ihcj8J1NEA=\",\"dtype\":\"float64\",\"order\":\"little\",\"shape\":[10]},\"size\":{\"__ndarray__\":\"hps5NqkJMkANUrIFa1smQNHAP9h6+SVAaFk1aeZrJUCXUf/F9rsjQKKMkb77PyNA+/veMkCDIkCs2U0aZSUiQCT42XBbHCJAP2u86tQXIkA=\",\"dtype\":\"float64\",\"order\":\"little\",\"shape\":[10]}},\"selected\":{\"id\":\"1219\"},\"selection_policy\":{\"id\":\"1231\"}},\"id\":\"1218\",\"type\":\"ColumnDataSource\"},{\"attributes\":{\"dimension\":\"lon\"},\"id\":\"1186\",\"type\":\"MercatorTickFormatter\"},{\"attributes\":{\"click_policy\":\"mute\",\"coordinates\":null,\"group\":null,\"items\":[{\"id\":\"1235\"}],\"location\":[0,0]},\"id\":\"1234\",\"type\":\"Legend\"},{\"attributes\":{\"margin\":[5,5,5,5],\"name\":\"HSpacer01690\",\"sizing_mode\":\"stretch_width\"},\"id\":\"1141\",\"type\":\"Spacer\"}],\"root_ids\":[\"1140\"]},\"title\":\"Bokeh Application\",\"version\":\"2.4.3\"}};\n",
       "    var render_items = [{\"docid\":\"cead6dd5-94c3-4b19-a1ae-2259f126de4b\",\"root_ids\":[\"1140\"],\"roots\":{\"1140\":\"2f9e2a04-8809-4d92-9f9e-f7e3a9b5fa0f\"}}];\n",
       "    root.Bokeh.embed.embed_items_notebook(docs_json, render_items);\n",
       "  }\n",
       "  if (root.Bokeh !== undefined && root.Bokeh.Panel !== undefined) {\n",
       "    embed_document(root);\n",
       "  } else {\n",
       "    var attempts = 0;\n",
       "    var timer = setInterval(function(root) {\n",
       "      if (root.Bokeh !== undefined && root.Bokeh.Panel !== undefined) {\n",
       "        clearInterval(timer);\n",
       "        embed_document(root);\n",
       "      } else if (document.readyState == \"complete\") {\n",
       "        attempts++;\n",
       "        if (attempts > 200) {\n",
       "          clearInterval(timer);\n",
       "          console.log(\"Bokeh: ERROR: Unable to run BokehJS code because BokehJS library is missing\");\n",
       "        }\n",
       "      }\n",
       "    }, 25, root)\n",
       "  }\n",
       "})(window);</script>"
      ],
      "text/plain": [
       ":Overlay\n",
       "   .Tiles.I  :Tiles   [x,y]\n",
       "   .Points.I :Points   [Longitude,Latitude]   (Suicide Rate,Country Name,Region)"
      ]
     },
     "execution_count": 18,
     "metadata": {
      "application/vnd.holoviews_exec.v0+json": {
       "id": "1140"
      }
     },
     "output_type": "execute_result"
    }
   ],
   "source": [
    "# Creat HVplot of suicide rate\n",
    "suicide_map_plot = final_combined_suicide_sorted.hvplot.points(\n",
    "    x = \"Longitude\",\n",
    "    y = \"Latitude\",\n",
    "    geo = True,\n",
    "    title = '10 Countries With Highest Suicide Rate',\n",
    "    tiles = \"OSM\",\n",
    "    size = \"Suicide Rate\",\n",
    "    scale = 2,\n",
    "    frame_width = 700,\n",
    "    frame_height = 500,\n",
    "    color = [\"Country Name\"],\n",
    "    hover_cols = [\"Country Name\", \"Region\"],\n",
    "    hover_line_color = \"Suicide Rate\",\n",
    "    hover_line_width = 2\n",
    ")\n",
    "\n",
    "\n",
    "# Display the map plot\n",
    "suicide_map_plot"
   ]
  },
  {
   "cell_type": "code",
   "execution_count": 19,
   "id": "887c40fb",
   "metadata": {},
   "outputs": [],
   "source": [
    "# -------------------------------\n",
    "# Full World Happiness Score Map"
   ]
  },
  {
   "cell_type": "code",
   "execution_count": null,
   "id": "44fefbe3",
   "metadata": {},
   "outputs": [],
   "source": []
  },
  {
   "cell_type": "code",
   "execution_count": 20,
   "id": "36b697b8",
   "metadata": {},
   "outputs": [
    {
     "data": {
      "text/html": [
       "<div>\n",
       "<style scoped>\n",
       "    .dataframe tbody tr th:only-of-type {\n",
       "        vertical-align: middle;\n",
       "    }\n",
       "\n",
       "    .dataframe tbody tr th {\n",
       "        vertical-align: top;\n",
       "    }\n",
       "\n",
       "    .dataframe thead th {\n",
       "        text-align: right;\n",
       "    }\n",
       "</style>\n",
       "<table border=\"1\" class=\"dataframe\">\n",
       "  <thead>\n",
       "    <tr style=\"text-align: right;\">\n",
       "      <th></th>\n",
       "      <th>Country Name</th>\n",
       "      <th>Region</th>\n",
       "      <th>Happiness Score</th>\n",
       "      <th>Suicide Rate</th>\n",
       "    </tr>\n",
       "  </thead>\n",
       "  <tbody>\n",
       "    <tr>\n",
       "      <th>34</th>\n",
       "      <td>Finland</td>\n",
       "      <td>Europe</td>\n",
       "      <td>7.821</td>\n",
       "      <td>15.32</td>\n",
       "    </tr>\n",
       "    <tr>\n",
       "      <th>26</th>\n",
       "      <td>Denmark</td>\n",
       "      <td>Europe</td>\n",
       "      <td>7.636</td>\n",
       "      <td>11.04</td>\n",
       "    </tr>\n",
       "    <tr>\n",
       "      <th>100</th>\n",
       "      <td>Switzerland</td>\n",
       "      <td>Europe</td>\n",
       "      <td>7.512</td>\n",
       "      <td>14.54</td>\n",
       "    </tr>\n",
       "    <tr>\n",
       "      <th>74</th>\n",
       "      <td>Netherlands</td>\n",
       "      <td>Europe</td>\n",
       "      <td>7.415</td>\n",
       "      <td>11.80</td>\n",
       "    </tr>\n",
       "    <tr>\n",
       "      <th>61</th>\n",
       "      <td>Luxembourg</td>\n",
       "      <td>Europe</td>\n",
       "      <td>7.404</td>\n",
       "      <td>10.82</td>\n",
       "    </tr>\n",
       "    <tr>\n",
       "      <th>...</th>\n",
       "      <td>...</td>\n",
       "      <td>...</td>\n",
       "      <td>...</td>\n",
       "      <td>...</td>\n",
       "    </tr>\n",
       "    <tr>\n",
       "      <th>63</th>\n",
       "      <td>Malawi</td>\n",
       "      <td>Africa</td>\n",
       "      <td>3.750</td>\n",
       "      <td>5.84</td>\n",
       "    </tr>\n",
       "    <tr>\n",
       "      <th>101</th>\n",
       "      <td>Tanzania</td>\n",
       "      <td>Africa</td>\n",
       "      <td>3.702</td>\n",
       "      <td>4.22</td>\n",
       "    </tr>\n",
       "    <tr>\n",
       "      <th>59</th>\n",
       "      <td>Lesotho</td>\n",
       "      <td>Africa</td>\n",
       "      <td>3.512</td>\n",
       "      <td>81.34</td>\n",
       "    </tr>\n",
       "    <tr>\n",
       "      <th>12</th>\n",
       "      <td>Botswana</td>\n",
       "      <td>Africa</td>\n",
       "      <td>3.471</td>\n",
       "      <td>17.54</td>\n",
       "    </tr>\n",
       "    <tr>\n",
       "      <th>90</th>\n",
       "      <td>Rwanda</td>\n",
       "      <td>Africa</td>\n",
       "      <td>3.268</td>\n",
       "      <td>5.64</td>\n",
       "    </tr>\n",
       "  </tbody>\n",
       "</table>\n",
       "<p>111 rows × 4 columns</p>\n",
       "</div>"
      ],
      "text/plain": [
       "    Country Name  Region  Happiness Score  Suicide Rate\n",
       "34       Finland  Europe            7.821         15.32\n",
       "26       Denmark  Europe            7.636         11.04\n",
       "100  Switzerland  Europe            7.512         14.54\n",
       "74   Netherlands  Europe            7.415         11.80\n",
       "61    Luxembourg  Europe            7.404         10.82\n",
       "..           ...     ...              ...           ...\n",
       "63        Malawi  Africa            3.750          5.84\n",
       "101     Tanzania  Africa            3.702          4.22\n",
       "59       Lesotho  Africa            3.512         81.34\n",
       "12      Botswana  Africa            3.471         17.54\n",
       "90        Rwanda  Africa            3.268          5.64\n",
       "\n",
       "[111 rows x 4 columns]"
      ]
     },
     "execution_count": 20,
     "metadata": {},
     "output_type": "execute_result"
    }
   ],
   "source": [
    "# Ordered Happiness Score\n",
    "world_happiness_sorted = final_combined_happiness_reduced.sort_values(by='Happiness Score',ascending=False)\n",
    "world_happiness_sorted"
   ]
  },
  {
   "cell_type": "code",
   "execution_count": 21,
   "id": "447405b6",
   "metadata": {},
   "outputs": [],
   "source": [
    "# New columns for Latitude and Longitude\n",
    "world_happiness_sorted['Latitude'] = ''\n",
    "world_happiness_sorted['Longitude'] = ''"
   ]
  },
  {
   "cell_type": "code",
   "execution_count": 22,
   "id": "1d9b237e",
   "metadata": {},
   "outputs": [],
   "source": [
    "# Retrive the coordinate of happiness score for all countries\n",
    "for index, row in world_happiness_sorted.iterrows():\n",
    "    country = row['Country Name']\n",
    "    url = f'https://api.geoapify.com/v1/geocode/search?text={country}&limit=1&apiKey={geo_api_key}'\n",
    "    response = requests.get(url)\n",
    "    data = response.json()\n",
    "    try:\n",
    "        latitude = data['features'][0]['geometry']['coordinates'][1]\n",
    "        longitude = data['features'][0]['geometry']['coordinates'][0]\n",
    "        world_happiness_sorted.at[index, 'Latitude'] = latitude\n",
    "        world_happiness_sorted.at[index, 'Longitude'] = longitude\n",
    "    except (IndexError, KeyError):\n",
    "        # In case the API returns no data or the JSON structure is different\n",
    "        pass"
   ]
  },
  {
   "cell_type": "code",
   "execution_count": 23,
   "id": "5ce0e15a",
   "metadata": {},
   "outputs": [
    {
     "data": {
      "text/html": [
       "<div>\n",
       "<style scoped>\n",
       "    .dataframe tbody tr th:only-of-type {\n",
       "        vertical-align: middle;\n",
       "    }\n",
       "\n",
       "    .dataframe tbody tr th {\n",
       "        vertical-align: top;\n",
       "    }\n",
       "\n",
       "    .dataframe thead th {\n",
       "        text-align: right;\n",
       "    }\n",
       "</style>\n",
       "<table border=\"1\" class=\"dataframe\">\n",
       "  <thead>\n",
       "    <tr style=\"text-align: right;\">\n",
       "      <th></th>\n",
       "      <th>Country Name</th>\n",
       "      <th>Region</th>\n",
       "      <th>Happiness Score</th>\n",
       "      <th>Suicide Rate</th>\n",
       "      <th>Latitude</th>\n",
       "      <th>Longitude</th>\n",
       "    </tr>\n",
       "  </thead>\n",
       "  <tbody>\n",
       "    <tr>\n",
       "      <th>1</th>\n",
       "      <td>Finland</td>\n",
       "      <td>Europe</td>\n",
       "      <td>7.821</td>\n",
       "      <td>15.32</td>\n",
       "      <td>63.246778</td>\n",
       "      <td>25.920916</td>\n",
       "    </tr>\n",
       "    <tr>\n",
       "      <th>2</th>\n",
       "      <td>Denmark</td>\n",
       "      <td>Europe</td>\n",
       "      <td>7.636</td>\n",
       "      <td>11.04</td>\n",
       "      <td>55.670249</td>\n",
       "      <td>10.333328</td>\n",
       "    </tr>\n",
       "    <tr>\n",
       "      <th>3</th>\n",
       "      <td>Switzerland</td>\n",
       "      <td>Europe</td>\n",
       "      <td>7.512</td>\n",
       "      <td>14.54</td>\n",
       "      <td>46.798562</td>\n",
       "      <td>8.231974</td>\n",
       "    </tr>\n",
       "    <tr>\n",
       "      <th>4</th>\n",
       "      <td>Netherlands</td>\n",
       "      <td>Europe</td>\n",
       "      <td>7.415</td>\n",
       "      <td>11.80</td>\n",
       "      <td>52.243498</td>\n",
       "      <td>5.634323</td>\n",
       "    </tr>\n",
       "    <tr>\n",
       "      <th>5</th>\n",
       "      <td>Luxembourg</td>\n",
       "      <td>Europe</td>\n",
       "      <td>7.404</td>\n",
       "      <td>10.82</td>\n",
       "      <td>49.815868</td>\n",
       "      <td>6.129675</td>\n",
       "    </tr>\n",
       "    <tr>\n",
       "      <th>...</th>\n",
       "      <td>...</td>\n",
       "      <td>...</td>\n",
       "      <td>...</td>\n",
       "      <td>...</td>\n",
       "      <td>...</td>\n",
       "      <td>...</td>\n",
       "    </tr>\n",
       "    <tr>\n",
       "      <th>107</th>\n",
       "      <td>Malawi</td>\n",
       "      <td>Africa</td>\n",
       "      <td>3.750</td>\n",
       "      <td>5.84</td>\n",
       "      <td>-13.26872</td>\n",
       "      <td>33.930196</td>\n",
       "    </tr>\n",
       "    <tr>\n",
       "      <th>108</th>\n",
       "      <td>Tanzania</td>\n",
       "      <td>Africa</td>\n",
       "      <td>3.702</td>\n",
       "      <td>4.22</td>\n",
       "      <td>-6.524712</td>\n",
       "      <td>35.787844</td>\n",
       "    </tr>\n",
       "    <tr>\n",
       "      <th>109</th>\n",
       "      <td>Lesotho</td>\n",
       "      <td>Africa</td>\n",
       "      <td>3.512</td>\n",
       "      <td>81.34</td>\n",
       "      <td>-29.603927</td>\n",
       "      <td>28.335019</td>\n",
       "    </tr>\n",
       "    <tr>\n",
       "      <th>110</th>\n",
       "      <td>Botswana</td>\n",
       "      <td>Africa</td>\n",
       "      <td>3.471</td>\n",
       "      <td>17.54</td>\n",
       "      <td>-23.168178</td>\n",
       "      <td>24.592874</td>\n",
       "    </tr>\n",
       "    <tr>\n",
       "      <th>111</th>\n",
       "      <td>Rwanda</td>\n",
       "      <td>Africa</td>\n",
       "      <td>3.268</td>\n",
       "      <td>5.64</td>\n",
       "      <td>-1.964663</td>\n",
       "      <td>30.064436</td>\n",
       "    </tr>\n",
       "  </tbody>\n",
       "</table>\n",
       "<p>111 rows × 6 columns</p>\n",
       "</div>"
      ],
      "text/plain": [
       "    Country Name  Region  Happiness Score  Suicide Rate   Latitude  Longitude\n",
       "1        Finland  Europe            7.821         15.32  63.246778  25.920916\n",
       "2        Denmark  Europe            7.636         11.04  55.670249  10.333328\n",
       "3    Switzerland  Europe            7.512         14.54  46.798562   8.231974\n",
       "4    Netherlands  Europe            7.415         11.80  52.243498   5.634323\n",
       "5     Luxembourg  Europe            7.404         10.82  49.815868   6.129675\n",
       "..           ...     ...              ...           ...        ...        ...\n",
       "107       Malawi  Africa            3.750          5.84  -13.26872  33.930196\n",
       "108     Tanzania  Africa            3.702          4.22  -6.524712  35.787844\n",
       "109      Lesotho  Africa            3.512         81.34 -29.603927  28.335019\n",
       "110     Botswana  Africa            3.471         17.54 -23.168178  24.592874\n",
       "111       Rwanda  Africa            3.268          5.64  -1.964663  30.064436\n",
       "\n",
       "[111 rows x 6 columns]"
      ]
     },
     "execution_count": 23,
     "metadata": {},
     "output_type": "execute_result"
    }
   ],
   "source": [
    "world_happiness_sorted = world_happiness_sorted.reset_index(drop=True)\n",
    "world_happiness_sorted.index = world_happiness_sorted.index + 1\n",
    "world_happiness_sorted"
   ]
  },
  {
   "cell_type": "code",
   "execution_count": 37,
   "id": "66c4ab79",
   "metadata": {},
   "outputs": [
    {
     "data": {
      "application/vnd.plotly.v1+json": {
       "config": {
        "plotlyServerURL": "https://plot.ly"
       },
       "data": [
        {
         "coloraxis": "coloraxis",
         "geo": "geo",
         "hovertemplate": "Country Name=%{location}<br>Happiness Score=%{z}<extra></extra>",
         "locationmode": "country names",
         "locations": [
          "Finland",
          "Denmark",
          "Switzerland",
          "Netherlands",
          "Luxembourg",
          "Sweden",
          "Norway",
          "Israel",
          "New Zealand",
          "Austria",
          "Australia",
          "Ireland",
          "Germany",
          "Canada",
          "United States",
          "Belgium",
          "France",
          "Bahrain",
          "Slovenia",
          "Costa Rica",
          "Saudi Arabia",
          "Singapore",
          "Romania",
          "Spain",
          "Uruguay",
          "Italy",
          "Lithuania",
          "Slovak Republic",
          "Estonia",
          "Panama",
          "Brazil",
          "Guatemala",
          "Kazakhstan",
          "Cyprus",
          "Latvia",
          "Chile",
          "Nicaragua",
          "Mexico",
          "Croatia",
          "Poland",
          "El Salvador",
          "Kuwait",
          "Hungary",
          "Mauritius",
          "Japan",
          "Honduras",
          "Portugal",
          "Philippines",
          "Thailand",
          "Moldova",
          "Jamaica",
          "Kyrgyz Republic",
          "Belarus",
          "Colombia",
          "Mongolia",
          "Dominican Republic",
          "Malaysia",
          "Bolivia",
          "China",
          "Paraguay",
          "Peru",
          "Ecuador",
          "Vietnam",
          "Russian Federation",
          "Armenia",
          "Nepal",
          "Bulgaria",
          "Indonesia",
          "North Macedonia",
          "Albania",
          "South Africa",
          "Azerbaijan",
          "Gambia, The",
          "Bangladesh",
          "Algeria",
          "Ukraine",
          "Morocco",
          "Cameroon",
          "Senegal",
          "Niger",
          "Georgia",
          "Gabon",
          "Iraq",
          "Iran, Islamic Rep.",
          "Ghana",
          "Burkina Faso",
          "Cambodia",
          "Benin",
          "Uganda",
          "Nigeria",
          "Kenya",
          "Pakistan",
          "Tunisia",
          "Mali",
          "Eswatini",
          "Myanmar",
          "Sri Lanka",
          "Madagascar",
          "Egypt, Arab Rep.",
          "Chad",
          "Ethiopia",
          "Mauritania",
          "Jordan",
          "Togo",
          "India",
          "Zambia",
          "Malawi",
          "Tanzania",
          "Lesotho",
          "Botswana",
          "Rwanda"
         ],
         "name": "",
         "type": "choropleth",
         "z": [
          7.821,
          7.636,
          7.512,
          7.415,
          7.404,
          7.384,
          7.365,
          7.364,
          7.2,
          7.163,
          7.162,
          7.041,
          7.034,
          7.025,
          6.977,
          6.805,
          6.687,
          6.647,
          6.63,
          6.582,
          6.523,
          6.48,
          6.477,
          6.476,
          6.474,
          6.467,
          6.446,
          6.391,
          6.341,
          6.309,
          6.293,
          6.262,
          6.234,
          6.221,
          6.18,
          6.172,
          6.165,
          6.128,
          6.125,
          6.123,
          6.12,
          6.106,
          6.086,
          6.071,
          6.039,
          6.022,
          6.016,
          5.904,
          5.891,
          5.857,
          5.85,
          5.828,
          5.821,
          5.781,
          5.761,
          5.737,
          5.711,
          5.6,
          5.585,
          5.578,
          5.559,
          5.533,
          5.485,
          5.459,
          5.399,
          5.377,
          5.371,
          5.24,
          5.199,
          5.199,
          5.194,
          5.173,
          5.164,
          5.155,
          5.122,
          5.084,
          5.06,
          5.048,
          5.046,
          5.003,
          4.973,
          4.958,
          4.941,
          4.888,
          4.872,
          4.67,
          4.64,
          4.623,
          4.603,
          4.552,
          4.543,
          4.516,
          4.516,
          4.479,
          4.396,
          4.394,
          4.362,
          4.339,
          4.288,
          4.251,
          4.241,
          4.153,
          4.152,
          4.112,
          3.777,
          3.76,
          3.75,
          3.702,
          3.512,
          3.471,
          3.268
         ]
        }
       ],
       "layout": {
        "coloraxis": {
         "colorbar": {
          "title": {
           "text": "Happiness Score"
          }
         },
         "colorscale": [
          [
           0,
           "#440154"
          ],
          [
           0.1111111111111111,
           "#482878"
          ],
          [
           0.2222222222222222,
           "#3e4989"
          ],
          [
           0.3333333333333333,
           "#31688e"
          ],
          [
           0.4444444444444444,
           "#26828e"
          ],
          [
           0.5555555555555556,
           "#1f9e89"
          ],
          [
           0.6666666666666666,
           "#35b779"
          ],
          [
           0.7777777777777778,
           "#6ece58"
          ],
          [
           0.8888888888888888,
           "#b5de2b"
          ],
          [
           1,
           "#fde725"
          ]
         ]
        },
        "geo": {
         "center": {},
         "domain": {
          "x": [
           0,
           1
          ],
          "y": [
           0,
           1
          ]
         }
        },
        "height": 500,
        "legend": {
         "tracegroupgap": 0
        },
        "margin": {
         "b": 0,
         "l": 0,
         "r": 0,
         "t": 10
        },
        "template": {
         "data": {
          "bar": [
           {
            "error_x": {
             "color": "#2a3f5f"
            },
            "error_y": {
             "color": "#2a3f5f"
            },
            "marker": {
             "line": {
              "color": "#E5ECF6",
              "width": 0.5
             },
             "pattern": {
              "fillmode": "overlay",
              "size": 10,
              "solidity": 0.2
             }
            },
            "type": "bar"
           }
          ],
          "barpolar": [
           {
            "marker": {
             "line": {
              "color": "#E5ECF6",
              "width": 0.5
             },
             "pattern": {
              "fillmode": "overlay",
              "size": 10,
              "solidity": 0.2
             }
            },
            "type": "barpolar"
           }
          ],
          "carpet": [
           {
            "aaxis": {
             "endlinecolor": "#2a3f5f",
             "gridcolor": "white",
             "linecolor": "white",
             "minorgridcolor": "white",
             "startlinecolor": "#2a3f5f"
            },
            "baxis": {
             "endlinecolor": "#2a3f5f",
             "gridcolor": "white",
             "linecolor": "white",
             "minorgridcolor": "white",
             "startlinecolor": "#2a3f5f"
            },
            "type": "carpet"
           }
          ],
          "choropleth": [
           {
            "colorbar": {
             "outlinewidth": 0,
             "ticks": ""
            },
            "type": "choropleth"
           }
          ],
          "contour": [
           {
            "colorbar": {
             "outlinewidth": 0,
             "ticks": ""
            },
            "colorscale": [
             [
              0,
              "#0d0887"
             ],
             [
              0.1111111111111111,
              "#46039f"
             ],
             [
              0.2222222222222222,
              "#7201a8"
             ],
             [
              0.3333333333333333,
              "#9c179e"
             ],
             [
              0.4444444444444444,
              "#bd3786"
             ],
             [
              0.5555555555555556,
              "#d8576b"
             ],
             [
              0.6666666666666666,
              "#ed7953"
             ],
             [
              0.7777777777777778,
              "#fb9f3a"
             ],
             [
              0.8888888888888888,
              "#fdca26"
             ],
             [
              1,
              "#f0f921"
             ]
            ],
            "type": "contour"
           }
          ],
          "contourcarpet": [
           {
            "colorbar": {
             "outlinewidth": 0,
             "ticks": ""
            },
            "type": "contourcarpet"
           }
          ],
          "heatmap": [
           {
            "colorbar": {
             "outlinewidth": 0,
             "ticks": ""
            },
            "colorscale": [
             [
              0,
              "#0d0887"
             ],
             [
              0.1111111111111111,
              "#46039f"
             ],
             [
              0.2222222222222222,
              "#7201a8"
             ],
             [
              0.3333333333333333,
              "#9c179e"
             ],
             [
              0.4444444444444444,
              "#bd3786"
             ],
             [
              0.5555555555555556,
              "#d8576b"
             ],
             [
              0.6666666666666666,
              "#ed7953"
             ],
             [
              0.7777777777777778,
              "#fb9f3a"
             ],
             [
              0.8888888888888888,
              "#fdca26"
             ],
             [
              1,
              "#f0f921"
             ]
            ],
            "type": "heatmap"
           }
          ],
          "heatmapgl": [
           {
            "colorbar": {
             "outlinewidth": 0,
             "ticks": ""
            },
            "colorscale": [
             [
              0,
              "#0d0887"
             ],
             [
              0.1111111111111111,
              "#46039f"
             ],
             [
              0.2222222222222222,
              "#7201a8"
             ],
             [
              0.3333333333333333,
              "#9c179e"
             ],
             [
              0.4444444444444444,
              "#bd3786"
             ],
             [
              0.5555555555555556,
              "#d8576b"
             ],
             [
              0.6666666666666666,
              "#ed7953"
             ],
             [
              0.7777777777777778,
              "#fb9f3a"
             ],
             [
              0.8888888888888888,
              "#fdca26"
             ],
             [
              1,
              "#f0f921"
             ]
            ],
            "type": "heatmapgl"
           }
          ],
          "histogram": [
           {
            "marker": {
             "pattern": {
              "fillmode": "overlay",
              "size": 10,
              "solidity": 0.2
             }
            },
            "type": "histogram"
           }
          ],
          "histogram2d": [
           {
            "colorbar": {
             "outlinewidth": 0,
             "ticks": ""
            },
            "colorscale": [
             [
              0,
              "#0d0887"
             ],
             [
              0.1111111111111111,
              "#46039f"
             ],
             [
              0.2222222222222222,
              "#7201a8"
             ],
             [
              0.3333333333333333,
              "#9c179e"
             ],
             [
              0.4444444444444444,
              "#bd3786"
             ],
             [
              0.5555555555555556,
              "#d8576b"
             ],
             [
              0.6666666666666666,
              "#ed7953"
             ],
             [
              0.7777777777777778,
              "#fb9f3a"
             ],
             [
              0.8888888888888888,
              "#fdca26"
             ],
             [
              1,
              "#f0f921"
             ]
            ],
            "type": "histogram2d"
           }
          ],
          "histogram2dcontour": [
           {
            "colorbar": {
             "outlinewidth": 0,
             "ticks": ""
            },
            "colorscale": [
             [
              0,
              "#0d0887"
             ],
             [
              0.1111111111111111,
              "#46039f"
             ],
             [
              0.2222222222222222,
              "#7201a8"
             ],
             [
              0.3333333333333333,
              "#9c179e"
             ],
             [
              0.4444444444444444,
              "#bd3786"
             ],
             [
              0.5555555555555556,
              "#d8576b"
             ],
             [
              0.6666666666666666,
              "#ed7953"
             ],
             [
              0.7777777777777778,
              "#fb9f3a"
             ],
             [
              0.8888888888888888,
              "#fdca26"
             ],
             [
              1,
              "#f0f921"
             ]
            ],
            "type": "histogram2dcontour"
           }
          ],
          "mesh3d": [
           {
            "colorbar": {
             "outlinewidth": 0,
             "ticks": ""
            },
            "type": "mesh3d"
           }
          ],
          "parcoords": [
           {
            "line": {
             "colorbar": {
              "outlinewidth": 0,
              "ticks": ""
             }
            },
            "type": "parcoords"
           }
          ],
          "pie": [
           {
            "automargin": true,
            "type": "pie"
           }
          ],
          "scatter": [
           {
            "fillpattern": {
             "fillmode": "overlay",
             "size": 10,
             "solidity": 0.2
            },
            "type": "scatter"
           }
          ],
          "scatter3d": [
           {
            "line": {
             "colorbar": {
              "outlinewidth": 0,
              "ticks": ""
             }
            },
            "marker": {
             "colorbar": {
              "outlinewidth": 0,
              "ticks": ""
             }
            },
            "type": "scatter3d"
           }
          ],
          "scattercarpet": [
           {
            "marker": {
             "colorbar": {
              "outlinewidth": 0,
              "ticks": ""
             }
            },
            "type": "scattercarpet"
           }
          ],
          "scattergeo": [
           {
            "marker": {
             "colorbar": {
              "outlinewidth": 0,
              "ticks": ""
             }
            },
            "type": "scattergeo"
           }
          ],
          "scattergl": [
           {
            "marker": {
             "colorbar": {
              "outlinewidth": 0,
              "ticks": ""
             }
            },
            "type": "scattergl"
           }
          ],
          "scattermapbox": [
           {
            "marker": {
             "colorbar": {
              "outlinewidth": 0,
              "ticks": ""
             }
            },
            "type": "scattermapbox"
           }
          ],
          "scatterpolar": [
           {
            "marker": {
             "colorbar": {
              "outlinewidth": 0,
              "ticks": ""
             }
            },
            "type": "scatterpolar"
           }
          ],
          "scatterpolargl": [
           {
            "marker": {
             "colorbar": {
              "outlinewidth": 0,
              "ticks": ""
             }
            },
            "type": "scatterpolargl"
           }
          ],
          "scatterternary": [
           {
            "marker": {
             "colorbar": {
              "outlinewidth": 0,
              "ticks": ""
             }
            },
            "type": "scatterternary"
           }
          ],
          "surface": [
           {
            "colorbar": {
             "outlinewidth": 0,
             "ticks": ""
            },
            "colorscale": [
             [
              0,
              "#0d0887"
             ],
             [
              0.1111111111111111,
              "#46039f"
             ],
             [
              0.2222222222222222,
              "#7201a8"
             ],
             [
              0.3333333333333333,
              "#9c179e"
             ],
             [
              0.4444444444444444,
              "#bd3786"
             ],
             [
              0.5555555555555556,
              "#d8576b"
             ],
             [
              0.6666666666666666,
              "#ed7953"
             ],
             [
              0.7777777777777778,
              "#fb9f3a"
             ],
             [
              0.8888888888888888,
              "#fdca26"
             ],
             [
              1,
              "#f0f921"
             ]
            ],
            "type": "surface"
           }
          ],
          "table": [
           {
            "cells": {
             "fill": {
              "color": "#EBF0F8"
             },
             "line": {
              "color": "white"
             }
            },
            "header": {
             "fill": {
              "color": "#C8D4E3"
             },
             "line": {
              "color": "white"
             }
            },
            "type": "table"
           }
          ]
         },
         "layout": {
          "annotationdefaults": {
           "arrowcolor": "#2a3f5f",
           "arrowhead": 0,
           "arrowwidth": 1
          },
          "autotypenumbers": "strict",
          "coloraxis": {
           "colorbar": {
            "outlinewidth": 0,
            "ticks": ""
           }
          },
          "colorscale": {
           "diverging": [
            [
             0,
             "#8e0152"
            ],
            [
             0.1,
             "#c51b7d"
            ],
            [
             0.2,
             "#de77ae"
            ],
            [
             0.3,
             "#f1b6da"
            ],
            [
             0.4,
             "#fde0ef"
            ],
            [
             0.5,
             "#f7f7f7"
            ],
            [
             0.6,
             "#e6f5d0"
            ],
            [
             0.7,
             "#b8e186"
            ],
            [
             0.8,
             "#7fbc41"
            ],
            [
             0.9,
             "#4d9221"
            ],
            [
             1,
             "#276419"
            ]
           ],
           "sequential": [
            [
             0,
             "#0d0887"
            ],
            [
             0.1111111111111111,
             "#46039f"
            ],
            [
             0.2222222222222222,
             "#7201a8"
            ],
            [
             0.3333333333333333,
             "#9c179e"
            ],
            [
             0.4444444444444444,
             "#bd3786"
            ],
            [
             0.5555555555555556,
             "#d8576b"
            ],
            [
             0.6666666666666666,
             "#ed7953"
            ],
            [
             0.7777777777777778,
             "#fb9f3a"
            ],
            [
             0.8888888888888888,
             "#fdca26"
            ],
            [
             1,
             "#f0f921"
            ]
           ],
           "sequentialminus": [
            [
             0,
             "#0d0887"
            ],
            [
             0.1111111111111111,
             "#46039f"
            ],
            [
             0.2222222222222222,
             "#7201a8"
            ],
            [
             0.3333333333333333,
             "#9c179e"
            ],
            [
             0.4444444444444444,
             "#bd3786"
            ],
            [
             0.5555555555555556,
             "#d8576b"
            ],
            [
             0.6666666666666666,
             "#ed7953"
            ],
            [
             0.7777777777777778,
             "#fb9f3a"
            ],
            [
             0.8888888888888888,
             "#fdca26"
            ],
            [
             1,
             "#f0f921"
            ]
           ]
          },
          "colorway": [
           "#636efa",
           "#EF553B",
           "#00cc96",
           "#ab63fa",
           "#FFA15A",
           "#19d3f3",
           "#FF6692",
           "#B6E880",
           "#FF97FF",
           "#FECB52"
          ],
          "font": {
           "color": "#2a3f5f"
          },
          "geo": {
           "bgcolor": "white",
           "lakecolor": "white",
           "landcolor": "#E5ECF6",
           "showlakes": true,
           "showland": true,
           "subunitcolor": "white"
          },
          "hoverlabel": {
           "align": "left"
          },
          "hovermode": "closest",
          "mapbox": {
           "style": "light"
          },
          "paper_bgcolor": "white",
          "plot_bgcolor": "#E5ECF6",
          "polar": {
           "angularaxis": {
            "gridcolor": "white",
            "linecolor": "white",
            "ticks": ""
           },
           "bgcolor": "#E5ECF6",
           "radialaxis": {
            "gridcolor": "white",
            "linecolor": "white",
            "ticks": ""
           }
          },
          "scene": {
           "xaxis": {
            "backgroundcolor": "#E5ECF6",
            "gridcolor": "white",
            "gridwidth": 2,
            "linecolor": "white",
            "showbackground": true,
            "ticks": "",
            "zerolinecolor": "white"
           },
           "yaxis": {
            "backgroundcolor": "#E5ECF6",
            "gridcolor": "white",
            "gridwidth": 2,
            "linecolor": "white",
            "showbackground": true,
            "ticks": "",
            "zerolinecolor": "white"
           },
           "zaxis": {
            "backgroundcolor": "#E5ECF6",
            "gridcolor": "white",
            "gridwidth": 2,
            "linecolor": "white",
            "showbackground": true,
            "ticks": "",
            "zerolinecolor": "white"
           }
          },
          "shapedefaults": {
           "line": {
            "color": "#2a3f5f"
           }
          },
          "ternary": {
           "aaxis": {
            "gridcolor": "white",
            "linecolor": "white",
            "ticks": ""
           },
           "baxis": {
            "gridcolor": "white",
            "linecolor": "white",
            "ticks": ""
           },
           "bgcolor": "#E5ECF6",
           "caxis": {
            "gridcolor": "white",
            "linecolor": "white",
            "ticks": ""
           }
          },
          "title": {
           "x": 0.05
          },
          "xaxis": {
           "automargin": true,
           "gridcolor": "white",
           "linecolor": "white",
           "ticks": "",
           "title": {
            "standoff": 15
           },
           "zerolinecolor": "white",
           "zerolinewidth": 2
          },
          "yaxis": {
           "automargin": true,
           "gridcolor": "white",
           "linecolor": "white",
           "ticks": "",
           "title": {
            "standoff": 15
           },
           "zerolinecolor": "white",
           "zerolinewidth": 2
          }
         }
        },
        "title": {
         "text": "World Happiness Score",
         "x": 0.45,
         "y": 0.9
        },
        "width": 900
       }
      },
      "text/html": [
       "<div>                            <div id=\"15266052-f305-47dc-ab6a-201c30231ce3\" class=\"plotly-graph-div\" style=\"height:500px; width:900px;\"></div>            <script type=\"text/javascript\">                require([\"plotly\"], function(Plotly) {                    window.PLOTLYENV=window.PLOTLYENV || {};                                    if (document.getElementById(\"15266052-f305-47dc-ab6a-201c30231ce3\")) {                    Plotly.newPlot(                        \"15266052-f305-47dc-ab6a-201c30231ce3\",                        [{\"coloraxis\":\"coloraxis\",\"geo\":\"geo\",\"hovertemplate\":\"Country Name=%{location}<br>Happiness Score=%{z}<extra></extra>\",\"locationmode\":\"country names\",\"locations\":[\"Finland\",\"Denmark\",\"Switzerland\",\"Netherlands\",\"Luxembourg\",\"Sweden\",\"Norway\",\"Israel\",\"New Zealand\",\"Austria\",\"Australia\",\"Ireland\",\"Germany\",\"Canada\",\"United States\",\"Belgium\",\"France\",\"Bahrain\",\"Slovenia\",\"Costa Rica\",\"Saudi Arabia\",\"Singapore\",\"Romania\",\"Spain\",\"Uruguay\",\"Italy\",\"Lithuania\",\"Slovak Republic\",\"Estonia\",\"Panama\",\"Brazil\",\"Guatemala\",\"Kazakhstan\",\"Cyprus\",\"Latvia\",\"Chile\",\"Nicaragua\",\"Mexico\",\"Croatia\",\"Poland\",\"El Salvador\",\"Kuwait\",\"Hungary\",\"Mauritius\",\"Japan\",\"Honduras\",\"Portugal\",\"Philippines\",\"Thailand\",\"Moldova\",\"Jamaica\",\"Kyrgyz Republic\",\"Belarus\",\"Colombia\",\"Mongolia\",\"Dominican Republic\",\"Malaysia\",\"Bolivia\",\"China\",\"Paraguay\",\"Peru\",\"Ecuador\",\"Vietnam\",\"Russian Federation\",\"Armenia\",\"Nepal\",\"Bulgaria\",\"Indonesia\",\"North Macedonia\",\"Albania\",\"South Africa\",\"Azerbaijan\",\"Gambia, The\",\"Bangladesh\",\"Algeria\",\"Ukraine\",\"Morocco\",\"Cameroon\",\"Senegal\",\"Niger\",\"Georgia\",\"Gabon\",\"Iraq\",\"Iran, Islamic Rep.\",\"Ghana\",\"Burkina Faso\",\"Cambodia\",\"Benin\",\"Uganda\",\"Nigeria\",\"Kenya\",\"Pakistan\",\"Tunisia\",\"Mali\",\"Eswatini\",\"Myanmar\",\"Sri Lanka\",\"Madagascar\",\"Egypt, Arab Rep.\",\"Chad\",\"Ethiopia\",\"Mauritania\",\"Jordan\",\"Togo\",\"India\",\"Zambia\",\"Malawi\",\"Tanzania\",\"Lesotho\",\"Botswana\",\"Rwanda\"],\"name\":\"\",\"z\":[7.821,7.636,7.512,7.415,7.404,7.384,7.365,7.364,7.2,7.163,7.162,7.041,7.034,7.025,6.977,6.805,6.687,6.647,6.63,6.582,6.523,6.48,6.477,6.476,6.474,6.467,6.446,6.391,6.341,6.309,6.293,6.262,6.234,6.221,6.18,6.172,6.165,6.128,6.125,6.123,6.12,6.106,6.086,6.071,6.039,6.022,6.016,5.904,5.891,5.857,5.85,5.828,5.821,5.781,5.761,5.737,5.711,5.6,5.585,5.578,5.559,5.533,5.485,5.459,5.399,5.377,5.371,5.24,5.199,5.199,5.194,5.173,5.164,5.155,5.122,5.084,5.06,5.048,5.046,5.003,4.973,4.958,4.941,4.888,4.872,4.67,4.64,4.623,4.603,4.552,4.543,4.516,4.516,4.479,4.396,4.394,4.362,4.339,4.288,4.251,4.241,4.153,4.152,4.112,3.777,3.76,3.75,3.702,3.512,3.471,3.268],\"type\":\"choropleth\"}],                        {\"template\":{\"data\":{\"histogram2dcontour\":[{\"type\":\"histogram2dcontour\",\"colorbar\":{\"outlinewidth\":0,\"ticks\":\"\"},\"colorscale\":[[0.0,\"#0d0887\"],[0.1111111111111111,\"#46039f\"],[0.2222222222222222,\"#7201a8\"],[0.3333333333333333,\"#9c179e\"],[0.4444444444444444,\"#bd3786\"],[0.5555555555555556,\"#d8576b\"],[0.6666666666666666,\"#ed7953\"],[0.7777777777777778,\"#fb9f3a\"],[0.8888888888888888,\"#fdca26\"],[1.0,\"#f0f921\"]]}],\"choropleth\":[{\"type\":\"choropleth\",\"colorbar\":{\"outlinewidth\":0,\"ticks\":\"\"}}],\"histogram2d\":[{\"type\":\"histogram2d\",\"colorbar\":{\"outlinewidth\":0,\"ticks\":\"\"},\"colorscale\":[[0.0,\"#0d0887\"],[0.1111111111111111,\"#46039f\"],[0.2222222222222222,\"#7201a8\"],[0.3333333333333333,\"#9c179e\"],[0.4444444444444444,\"#bd3786\"],[0.5555555555555556,\"#d8576b\"],[0.6666666666666666,\"#ed7953\"],[0.7777777777777778,\"#fb9f3a\"],[0.8888888888888888,\"#fdca26\"],[1.0,\"#f0f921\"]]}],\"heatmap\":[{\"type\":\"heatmap\",\"colorbar\":{\"outlinewidth\":0,\"ticks\":\"\"},\"colorscale\":[[0.0,\"#0d0887\"],[0.1111111111111111,\"#46039f\"],[0.2222222222222222,\"#7201a8\"],[0.3333333333333333,\"#9c179e\"],[0.4444444444444444,\"#bd3786\"],[0.5555555555555556,\"#d8576b\"],[0.6666666666666666,\"#ed7953\"],[0.7777777777777778,\"#fb9f3a\"],[0.8888888888888888,\"#fdca26\"],[1.0,\"#f0f921\"]]}],\"heatmapgl\":[{\"type\":\"heatmapgl\",\"colorbar\":{\"outlinewidth\":0,\"ticks\":\"\"},\"colorscale\":[[0.0,\"#0d0887\"],[0.1111111111111111,\"#46039f\"],[0.2222222222222222,\"#7201a8\"],[0.3333333333333333,\"#9c179e\"],[0.4444444444444444,\"#bd3786\"],[0.5555555555555556,\"#d8576b\"],[0.6666666666666666,\"#ed7953\"],[0.7777777777777778,\"#fb9f3a\"],[0.8888888888888888,\"#fdca26\"],[1.0,\"#f0f921\"]]}],\"contourcarpet\":[{\"type\":\"contourcarpet\",\"colorbar\":{\"outlinewidth\":0,\"ticks\":\"\"}}],\"contour\":[{\"type\":\"contour\",\"colorbar\":{\"outlinewidth\":0,\"ticks\":\"\"},\"colorscale\":[[0.0,\"#0d0887\"],[0.1111111111111111,\"#46039f\"],[0.2222222222222222,\"#7201a8\"],[0.3333333333333333,\"#9c179e\"],[0.4444444444444444,\"#bd3786\"],[0.5555555555555556,\"#d8576b\"],[0.6666666666666666,\"#ed7953\"],[0.7777777777777778,\"#fb9f3a\"],[0.8888888888888888,\"#fdca26\"],[1.0,\"#f0f921\"]]}],\"surface\":[{\"type\":\"surface\",\"colorbar\":{\"outlinewidth\":0,\"ticks\":\"\"},\"colorscale\":[[0.0,\"#0d0887\"],[0.1111111111111111,\"#46039f\"],[0.2222222222222222,\"#7201a8\"],[0.3333333333333333,\"#9c179e\"],[0.4444444444444444,\"#bd3786\"],[0.5555555555555556,\"#d8576b\"],[0.6666666666666666,\"#ed7953\"],[0.7777777777777778,\"#fb9f3a\"],[0.8888888888888888,\"#fdca26\"],[1.0,\"#f0f921\"]]}],\"mesh3d\":[{\"type\":\"mesh3d\",\"colorbar\":{\"outlinewidth\":0,\"ticks\":\"\"}}],\"scatter\":[{\"fillpattern\":{\"fillmode\":\"overlay\",\"size\":10,\"solidity\":0.2},\"type\":\"scatter\"}],\"parcoords\":[{\"type\":\"parcoords\",\"line\":{\"colorbar\":{\"outlinewidth\":0,\"ticks\":\"\"}}}],\"scatterpolargl\":[{\"type\":\"scatterpolargl\",\"marker\":{\"colorbar\":{\"outlinewidth\":0,\"ticks\":\"\"}}}],\"bar\":[{\"error_x\":{\"color\":\"#2a3f5f\"},\"error_y\":{\"color\":\"#2a3f5f\"},\"marker\":{\"line\":{\"color\":\"#E5ECF6\",\"width\":0.5},\"pattern\":{\"fillmode\":\"overlay\",\"size\":10,\"solidity\":0.2}},\"type\":\"bar\"}],\"scattergeo\":[{\"type\":\"scattergeo\",\"marker\":{\"colorbar\":{\"outlinewidth\":0,\"ticks\":\"\"}}}],\"scatterpolar\":[{\"type\":\"scatterpolar\",\"marker\":{\"colorbar\":{\"outlinewidth\":0,\"ticks\":\"\"}}}],\"histogram\":[{\"marker\":{\"pattern\":{\"fillmode\":\"overlay\",\"size\":10,\"solidity\":0.2}},\"type\":\"histogram\"}],\"scattergl\":[{\"type\":\"scattergl\",\"marker\":{\"colorbar\":{\"outlinewidth\":0,\"ticks\":\"\"}}}],\"scatter3d\":[{\"type\":\"scatter3d\",\"line\":{\"colorbar\":{\"outlinewidth\":0,\"ticks\":\"\"}},\"marker\":{\"colorbar\":{\"outlinewidth\":0,\"ticks\":\"\"}}}],\"scattermapbox\":[{\"type\":\"scattermapbox\",\"marker\":{\"colorbar\":{\"outlinewidth\":0,\"ticks\":\"\"}}}],\"scatterternary\":[{\"type\":\"scatterternary\",\"marker\":{\"colorbar\":{\"outlinewidth\":0,\"ticks\":\"\"}}}],\"scattercarpet\":[{\"type\":\"scattercarpet\",\"marker\":{\"colorbar\":{\"outlinewidth\":0,\"ticks\":\"\"}}}],\"carpet\":[{\"aaxis\":{\"endlinecolor\":\"#2a3f5f\",\"gridcolor\":\"white\",\"linecolor\":\"white\",\"minorgridcolor\":\"white\",\"startlinecolor\":\"#2a3f5f\"},\"baxis\":{\"endlinecolor\":\"#2a3f5f\",\"gridcolor\":\"white\",\"linecolor\":\"white\",\"minorgridcolor\":\"white\",\"startlinecolor\":\"#2a3f5f\"},\"type\":\"carpet\"}],\"table\":[{\"cells\":{\"fill\":{\"color\":\"#EBF0F8\"},\"line\":{\"color\":\"white\"}},\"header\":{\"fill\":{\"color\":\"#C8D4E3\"},\"line\":{\"color\":\"white\"}},\"type\":\"table\"}],\"barpolar\":[{\"marker\":{\"line\":{\"color\":\"#E5ECF6\",\"width\":0.5},\"pattern\":{\"fillmode\":\"overlay\",\"size\":10,\"solidity\":0.2}},\"type\":\"barpolar\"}],\"pie\":[{\"automargin\":true,\"type\":\"pie\"}]},\"layout\":{\"autotypenumbers\":\"strict\",\"colorway\":[\"#636efa\",\"#EF553B\",\"#00cc96\",\"#ab63fa\",\"#FFA15A\",\"#19d3f3\",\"#FF6692\",\"#B6E880\",\"#FF97FF\",\"#FECB52\"],\"font\":{\"color\":\"#2a3f5f\"},\"hovermode\":\"closest\",\"hoverlabel\":{\"align\":\"left\"},\"paper_bgcolor\":\"white\",\"plot_bgcolor\":\"#E5ECF6\",\"polar\":{\"bgcolor\":\"#E5ECF6\",\"angularaxis\":{\"gridcolor\":\"white\",\"linecolor\":\"white\",\"ticks\":\"\"},\"radialaxis\":{\"gridcolor\":\"white\",\"linecolor\":\"white\",\"ticks\":\"\"}},\"ternary\":{\"bgcolor\":\"#E5ECF6\",\"aaxis\":{\"gridcolor\":\"white\",\"linecolor\":\"white\",\"ticks\":\"\"},\"baxis\":{\"gridcolor\":\"white\",\"linecolor\":\"white\",\"ticks\":\"\"},\"caxis\":{\"gridcolor\":\"white\",\"linecolor\":\"white\",\"ticks\":\"\"}},\"coloraxis\":{\"colorbar\":{\"outlinewidth\":0,\"ticks\":\"\"}},\"colorscale\":{\"sequential\":[[0.0,\"#0d0887\"],[0.1111111111111111,\"#46039f\"],[0.2222222222222222,\"#7201a8\"],[0.3333333333333333,\"#9c179e\"],[0.4444444444444444,\"#bd3786\"],[0.5555555555555556,\"#d8576b\"],[0.6666666666666666,\"#ed7953\"],[0.7777777777777778,\"#fb9f3a\"],[0.8888888888888888,\"#fdca26\"],[1.0,\"#f0f921\"]],\"sequentialminus\":[[0.0,\"#0d0887\"],[0.1111111111111111,\"#46039f\"],[0.2222222222222222,\"#7201a8\"],[0.3333333333333333,\"#9c179e\"],[0.4444444444444444,\"#bd3786\"],[0.5555555555555556,\"#d8576b\"],[0.6666666666666666,\"#ed7953\"],[0.7777777777777778,\"#fb9f3a\"],[0.8888888888888888,\"#fdca26\"],[1.0,\"#f0f921\"]],\"diverging\":[[0,\"#8e0152\"],[0.1,\"#c51b7d\"],[0.2,\"#de77ae\"],[0.3,\"#f1b6da\"],[0.4,\"#fde0ef\"],[0.5,\"#f7f7f7\"],[0.6,\"#e6f5d0\"],[0.7,\"#b8e186\"],[0.8,\"#7fbc41\"],[0.9,\"#4d9221\"],[1,\"#276419\"]]},\"xaxis\":{\"gridcolor\":\"white\",\"linecolor\":\"white\",\"ticks\":\"\",\"title\":{\"standoff\":15},\"zerolinecolor\":\"white\",\"automargin\":true,\"zerolinewidth\":2},\"yaxis\":{\"gridcolor\":\"white\",\"linecolor\":\"white\",\"ticks\":\"\",\"title\":{\"standoff\":15},\"zerolinecolor\":\"white\",\"automargin\":true,\"zerolinewidth\":2},\"scene\":{\"xaxis\":{\"backgroundcolor\":\"#E5ECF6\",\"gridcolor\":\"white\",\"linecolor\":\"white\",\"showbackground\":true,\"ticks\":\"\",\"zerolinecolor\":\"white\",\"gridwidth\":2},\"yaxis\":{\"backgroundcolor\":\"#E5ECF6\",\"gridcolor\":\"white\",\"linecolor\":\"white\",\"showbackground\":true,\"ticks\":\"\",\"zerolinecolor\":\"white\",\"gridwidth\":2},\"zaxis\":{\"backgroundcolor\":\"#E5ECF6\",\"gridcolor\":\"white\",\"linecolor\":\"white\",\"showbackground\":true,\"ticks\":\"\",\"zerolinecolor\":\"white\",\"gridwidth\":2}},\"shapedefaults\":{\"line\":{\"color\":\"#2a3f5f\"}},\"annotationdefaults\":{\"arrowcolor\":\"#2a3f5f\",\"arrowhead\":0,\"arrowwidth\":1},\"geo\":{\"bgcolor\":\"white\",\"landcolor\":\"#E5ECF6\",\"subunitcolor\":\"white\",\"showland\":true,\"showlakes\":true,\"lakecolor\":\"white\"},\"title\":{\"x\":0.05},\"mapbox\":{\"style\":\"light\"}}},\"geo\":{\"domain\":{\"x\":[0.0,1.0],\"y\":[0.0,1.0]},\"center\":{}},\"coloraxis\":{\"colorbar\":{\"title\":{\"text\":\"Happiness Score\"}},\"colorscale\":[[0.0,\"#440154\"],[0.1111111111111111,\"#482878\"],[0.2222222222222222,\"#3e4989\"],[0.3333333333333333,\"#31688e\"],[0.4444444444444444,\"#26828e\"],[0.5555555555555556,\"#1f9e89\"],[0.6666666666666666,\"#35b779\"],[0.7777777777777778,\"#6ece58\"],[0.8888888888888888,\"#b5de2b\"],[1.0,\"#fde725\"]]},\"legend\":{\"tracegroupgap\":0},\"title\":{\"text\":\"World Happiness Score\",\"x\":0.45,\"y\":0.9},\"margin\":{\"r\":0,\"t\":10,\"l\":0,\"b\":0},\"width\":900,\"height\":500},                        {\"responsive\": true}                    ).then(function(){\n",
       "                            \n",
       "var gd = document.getElementById('15266052-f305-47dc-ab6a-201c30231ce3');\n",
       "var x = new MutationObserver(function (mutations, observer) {{\n",
       "        var display = window.getComputedStyle(gd).display;\n",
       "        if (!display || display === 'none') {{\n",
       "            console.log([gd, 'removed!']);\n",
       "            Plotly.purge(gd);\n",
       "            observer.disconnect();\n",
       "        }}\n",
       "}});\n",
       "\n",
       "// Listen for the removal of the full notebook cells\n",
       "var notebookContainer = gd.closest('#notebook-container');\n",
       "if (notebookContainer) {{\n",
       "    x.observe(notebookContainer, {childList: true});\n",
       "}}\n",
       "\n",
       "// Listen for the clearing of the current output cell\n",
       "var outputEl = gd.closest('.output');\n",
       "if (outputEl) {{\n",
       "    x.observe(outputEl, {childList: true});\n",
       "}}\n",
       "\n",
       "                        })                };                });            </script>        </div>"
      ]
     },
     "metadata": {},
     "output_type": "display_data"
    }
   ],
   "source": [
    "# Use plotly.express to create a world happiness score map\n",
    "world_happiness_map = px.choropleth(world_happiness_sorted, \n",
    "                          locations = 'Country Name', \n",
    "                          locationmode='country names', \n",
    "                          color='Happiness Score',\n",
    "                          color_continuous_scale=\"Viridis\",\n",
    "                          title = 'World Happiness Score'\n",
    "                          )\n",
    "                         \n",
    "world_happiness_map.update_layout(margin={\"r\":0,\"t\":10,\"l\":0,\"b\":0},\n",
    "                                  title_x=0.45, \n",
    "                                  title_y=0.90,\n",
    "                                  width=900,\n",
    "                                  height= 500\n",
    "                                 )\n",
    "\n",
    "world_happiness_map.show()"
   ]
  },
  {
   "cell_type": "code",
   "execution_count": 28,
   "id": "dcb7213b",
   "metadata": {},
   "outputs": [],
   "source": [
    "world_happiness_map.write_html('world_happiness_map.html')"
   ]
  },
  {
   "cell_type": "code",
   "execution_count": null,
   "id": "b66f0209",
   "metadata": {},
   "outputs": [],
   "source": [
    "world_happiness_map.w"
   ]
  }
 ],
 "metadata": {
  "kernelspec": {
   "display_name": "PythonData",
   "language": "python",
   "name": "pythondata"
  },
  "language_info": {
   "codemirror_mode": {
    "name": "ipython",
    "version": 3
   },
   "file_extension": ".py",
   "mimetype": "text/x-python",
   "name": "python",
   "nbconvert_exporter": "python",
   "pygments_lexer": "ipython3",
   "version": "3.7.13"
  }
 },
 "nbformat": 4,
 "nbformat_minor": 5
}
