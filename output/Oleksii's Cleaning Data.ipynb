{
 "cells": [
  {
   "cell_type": "code",
   "execution_count": 1,
   "id": "5bba2e55",
   "metadata": {},
   "outputs": [],
   "source": [
    "# Importing dependencies\n",
    "import matplotlib.pyplot as plt\n",
    "import pandas as pd\n",
    "import numpy as np\n",
    "import warnings\n",
    "warnings.filterwarnings('ignore')"
   ]
  },
  {
   "cell_type": "code",
   "execution_count": 2,
   "id": "b3031254",
   "metadata": {},
   "outputs": [],
   "source": [
    "# Reading .csv files\n",
    "adj_net_national_income_csv = pd.read_csv('../Resources/Adj_net_national_income_world_bank_20_years.csv')\n",
    "GDP_csv = pd.read_csv('../Resources/GDP_world_bank_20_years.csv')\n",
    "Inflation_consumer_prices_csv = pd.read_csv('../Resources/Inflation_consumer_prices_world_bank_20_years.csv')\n",
    "\n",
    "# Reading Happiness Score csv\n",
    "happiness_score_csv = pd.read_csv('../Resources/world_happiness_score_2022.csv')"
   ]
  },
  {
   "cell_type": "code",
   "execution_count": 3,
   "id": "75cd32dd",
   "metadata": {},
   "outputs": [],
   "source": [
    "# Creating data frames\n",
    "adj_net_national_income_df = pd.DataFrame(adj_net_national_income_csv)\n",
    "gdp_df = pd.DataFrame(GDP_csv)\n",
    "inflation_consumer_prices_df = pd.DataFrame(Inflation_consumer_prices_csv)\n",
    "\n",
    "# Happiness Score data frame\n",
    "happiness_score_df = pd.DataFrame(happiness_score_csv)"
   ]
  },
  {
   "cell_type": "code",
   "execution_count": null,
   "id": "7905d1e5",
   "metadata": {},
   "outputs": [],
   "source": []
  },
  {
   "cell_type": "code",
   "execution_count": 4,
   "id": "a6612537",
   "metadata": {},
   "outputs": [],
   "source": [
    "#  ---------------------------\n",
    "# Adjusted Net National Income for 2002-2019"
   ]
  },
  {
   "cell_type": "code",
   "execution_count": 5,
   "id": "d590c743",
   "metadata": {},
   "outputs": [],
   "source": [
    "# Dropping not needed columns\n",
    "adj_net_nat_income_df = adj_net_national_income_df.drop(columns=['Series Code', 'Series Name', '2020 [YR2020]', '2021 [YR2021]'])"
   ]
  },
  {
   "cell_type": "code",
   "execution_count": 6,
   "id": "39852b88",
   "metadata": {},
   "outputs": [],
   "source": [
    "# Renaming the columns\n",
    "adj_net_nat_income_renamed = adj_net_nat_income_df.rename(columns={\n",
    "    '2002 [YR2002]' : '2002',\n",
    "    '2003 [YR2003]' : '2003',\n",
    "    '2004 [YR2004]' : '2004',\n",
    "    '2005 [YR2005]' : '2005',\n",
    "    '2006 [YR2006]' : '2006',\n",
    "    '2007 [YR2007]' : '2007',\n",
    "    '2008 [YR2008]' : '2008',\n",
    "    '2009 [YR2009]' : '2009',\n",
    "    '2010 [YR2010]' : '2010',\n",
    "    '2011 [YR2011]' : '2011',\n",
    "    '2012 [YR2012]' : '2012',\n",
    "    '2013 [YR2013]' : '2013',\n",
    "    '2014 [YR2014]' : '2014',\n",
    "    '2015 [YR2015]' : '2015',\n",
    "    '2016 [YR2016]' : '2016',\n",
    "    '2017 [YR2017]' : '2017',\n",
    "    '2018 [YR2018]' : '2018',\n",
    "    '2019 [YR2019]' : '2019'  \n",
    "})"
   ]
  },
  {
   "cell_type": "code",
   "execution_count": 7,
   "id": "39917abb",
   "metadata": {},
   "outputs": [],
   "source": [
    "# Replacing all empty values with NaN\n",
    "adj_net_nat_income_droped = adj_net_nat_income_renamed.replace('..', np.nan)\n",
    "\n",
    "# Dropping all NaN\n",
    "adj_net_nat_income_final = adj_net_nat_income_droped.dropna(axis=0)"
   ]
  },
  {
   "cell_type": "code",
   "execution_count": 8,
   "id": "44917e8d",
   "metadata": {},
   "outputs": [],
   "source": [
    "# Changing object data type to float data type\n",
    "for i, col in enumerate(adj_net_nat_income_final.columns):\n",
    "    if i >= 2 and adj_net_nat_income_final[col].dtype == 'object':\n",
    "        adj_net_nat_income_final[col] = adj_net_nat_income_final[col].astype(float)"
   ]
  },
  {
   "cell_type": "code",
   "execution_count": 9,
   "id": "044491f0",
   "metadata": {},
   "outputs": [
    {
     "data": {
      "text/html": [
       "<div>\n",
       "<style scoped>\n",
       "    .dataframe tbody tr th:only-of-type {\n",
       "        vertical-align: middle;\n",
       "    }\n",
       "\n",
       "    .dataframe tbody tr th {\n",
       "        vertical-align: top;\n",
       "    }\n",
       "\n",
       "    .dataframe thead th {\n",
       "        text-align: right;\n",
       "    }\n",
       "</style>\n",
       "<table border=\"1\" class=\"dataframe\">\n",
       "  <thead>\n",
       "    <tr style=\"text-align: right;\">\n",
       "      <th></th>\n",
       "      <th>Country Name</th>\n",
       "      <th>Country Code</th>\n",
       "      <th>2002</th>\n",
       "      <th>2003</th>\n",
       "      <th>2004</th>\n",
       "      <th>2005</th>\n",
       "      <th>2006</th>\n",
       "      <th>2007</th>\n",
       "      <th>2008</th>\n",
       "      <th>2009</th>\n",
       "      <th>2010</th>\n",
       "      <th>2011</th>\n",
       "      <th>2012</th>\n",
       "      <th>2013</th>\n",
       "      <th>2014</th>\n",
       "      <th>2015</th>\n",
       "      <th>2016</th>\n",
       "      <th>2017</th>\n",
       "      <th>2018</th>\n",
       "      <th>2019</th>\n",
       "    </tr>\n",
       "  </thead>\n",
       "  <tbody>\n",
       "    <tr>\n",
       "      <th>1</th>\n",
       "      <td>Albania</td>\n",
       "      <td>ALB</td>\n",
       "      <td>3.981527e+09</td>\n",
       "      <td>5.152981e+09</td>\n",
       "      <td>6.556505e+09</td>\n",
       "      <td>7.323051e+09</td>\n",
       "      <td>8.188155e+09</td>\n",
       "      <td>9.588090e+09</td>\n",
       "      <td>1.130265e+10</td>\n",
       "      <td>1.028265e+10</td>\n",
       "      <td>1.018347e+10</td>\n",
       "      <td>1.083071e+10</td>\n",
       "      <td>1.016081e+10</td>\n",
       "      <td>1.088664e+10</td>\n",
       "      <td>1.110669e+10</td>\n",
       "      <td>9.411883e+09</td>\n",
       "      <td>9.903308e+09</td>\n",
       "      <td>1.066838e+10</td>\n",
       "      <td>1.237962e+10</td>\n",
       "      <td>1.237900e+10</td>\n",
       "    </tr>\n",
       "    <tr>\n",
       "      <th>2</th>\n",
       "      <td>Algeria</td>\n",
       "      <td>DZA</td>\n",
       "      <td>4.228057e+10</td>\n",
       "      <td>4.951915e+10</td>\n",
       "      <td>6.136434e+10</td>\n",
       "      <td>6.851646e+10</td>\n",
       "      <td>7.805549e+10</td>\n",
       "      <td>9.498747e+10</td>\n",
       "      <td>1.203620e+11</td>\n",
       "      <td>1.043260e+11</td>\n",
       "      <td>1.234800e+11</td>\n",
       "      <td>1.461620e+11</td>\n",
       "      <td>1.537210e+11</td>\n",
       "      <td>1.556530e+11</td>\n",
       "      <td>1.605260e+11</td>\n",
       "      <td>1.312600e+11</td>\n",
       "      <td>1.328030e+11</td>\n",
       "      <td>1.383400e+11</td>\n",
       "      <td>1.368790e+11</td>\n",
       "      <td>1.356890e+11</td>\n",
       "    </tr>\n",
       "    <tr>\n",
       "      <th>5</th>\n",
       "      <td>Angola</td>\n",
       "      <td>AGO</td>\n",
       "      <td>9.936398e+09</td>\n",
       "      <td>1.216515e+10</td>\n",
       "      <td>1.301680e+10</td>\n",
       "      <td>1.844962e+10</td>\n",
       "      <td>2.603712e+10</td>\n",
       "      <td>3.001159e+10</td>\n",
       "      <td>2.964080e+10</td>\n",
       "      <td>4.102006e+10</td>\n",
       "      <td>4.250390e+10</td>\n",
       "      <td>5.771448e+10</td>\n",
       "      <td>7.141687e+10</td>\n",
       "      <td>8.258646e+10</td>\n",
       "      <td>9.722255e+10</td>\n",
       "      <td>8.998094e+10</td>\n",
       "      <td>7.838634e+10</td>\n",
       "      <td>8.871823e+10</td>\n",
       "      <td>6.416750e+10</td>\n",
       "      <td>5.623245e+10</td>\n",
       "    </tr>\n",
       "    <tr>\n",
       "      <th>7</th>\n",
       "      <td>Argentina</td>\n",
       "      <td>ARG</td>\n",
       "      <td>7.485151e+10</td>\n",
       "      <td>1.016370e+11</td>\n",
       "      <td>1.218960e+11</td>\n",
       "      <td>1.470900e+11</td>\n",
       "      <td>1.913700e+11</td>\n",
       "      <td>2.420370e+11</td>\n",
       "      <td>3.038340e+11</td>\n",
       "      <td>2.772690e+11</td>\n",
       "      <td>3.514700e+11</td>\n",
       "      <td>4.411680e+11</td>\n",
       "      <td>4.520350e+11</td>\n",
       "      <td>4.579470e+11</td>\n",
       "      <td>4.365770e+11</td>\n",
       "      <td>5.049830e+11</td>\n",
       "      <td>4.706690e+11</td>\n",
       "      <td>5.502860e+11</td>\n",
       "      <td>4.366490e+11</td>\n",
       "      <td>3.713230e+11</td>\n",
       "    </tr>\n",
       "    <tr>\n",
       "      <th>8</th>\n",
       "      <td>Armenia</td>\n",
       "      <td>ARM</td>\n",
       "      <td>2.062125e+09</td>\n",
       "      <td>2.467616e+09</td>\n",
       "      <td>3.203973e+09</td>\n",
       "      <td>4.419908e+09</td>\n",
       "      <td>5.853474e+09</td>\n",
       "      <td>8.521311e+09</td>\n",
       "      <td>1.094712e+10</td>\n",
       "      <td>7.921368e+09</td>\n",
       "      <td>8.398953e+09</td>\n",
       "      <td>9.080777e+09</td>\n",
       "      <td>9.592550e+09</td>\n",
       "      <td>1.030468e+10</td>\n",
       "      <td>1.062332e+10</td>\n",
       "      <td>9.466501e+09</td>\n",
       "      <td>9.300817e+09</td>\n",
       "      <td>1.035383e+10</td>\n",
       "      <td>1.094827e+10</td>\n",
       "      <td>1.189271e+10</td>\n",
       "    </tr>\n",
       "  </tbody>\n",
       "</table>\n",
       "</div>"
      ],
      "text/plain": [
       "  Country Name Country Code          2002          2003          2004  \\\n",
       "1      Albania          ALB  3.981527e+09  5.152981e+09  6.556505e+09   \n",
       "2      Algeria          DZA  4.228057e+10  4.951915e+10  6.136434e+10   \n",
       "5       Angola          AGO  9.936398e+09  1.216515e+10  1.301680e+10   \n",
       "7    Argentina          ARG  7.485151e+10  1.016370e+11  1.218960e+11   \n",
       "8      Armenia          ARM  2.062125e+09  2.467616e+09  3.203973e+09   \n",
       "\n",
       "           2005          2006          2007          2008          2009  \\\n",
       "1  7.323051e+09  8.188155e+09  9.588090e+09  1.130265e+10  1.028265e+10   \n",
       "2  6.851646e+10  7.805549e+10  9.498747e+10  1.203620e+11  1.043260e+11   \n",
       "5  1.844962e+10  2.603712e+10  3.001159e+10  2.964080e+10  4.102006e+10   \n",
       "7  1.470900e+11  1.913700e+11  2.420370e+11  3.038340e+11  2.772690e+11   \n",
       "8  4.419908e+09  5.853474e+09  8.521311e+09  1.094712e+10  7.921368e+09   \n",
       "\n",
       "           2010          2011          2012          2013          2014  \\\n",
       "1  1.018347e+10  1.083071e+10  1.016081e+10  1.088664e+10  1.110669e+10   \n",
       "2  1.234800e+11  1.461620e+11  1.537210e+11  1.556530e+11  1.605260e+11   \n",
       "5  4.250390e+10  5.771448e+10  7.141687e+10  8.258646e+10  9.722255e+10   \n",
       "7  3.514700e+11  4.411680e+11  4.520350e+11  4.579470e+11  4.365770e+11   \n",
       "8  8.398953e+09  9.080777e+09  9.592550e+09  1.030468e+10  1.062332e+10   \n",
       "\n",
       "           2015          2016          2017          2018          2019  \n",
       "1  9.411883e+09  9.903308e+09  1.066838e+10  1.237962e+10  1.237900e+10  \n",
       "2  1.312600e+11  1.328030e+11  1.383400e+11  1.368790e+11  1.356890e+11  \n",
       "5  8.998094e+10  7.838634e+10  8.871823e+10  6.416750e+10  5.623245e+10  \n",
       "7  5.049830e+11  4.706690e+11  5.502860e+11  4.366490e+11  3.713230e+11  \n",
       "8  9.466501e+09  9.300817e+09  1.035383e+10  1.094827e+10  1.189271e+10  "
      ]
     },
     "execution_count": 9,
     "metadata": {},
     "output_type": "execute_result"
    }
   ],
   "source": [
    "adj_net_nat_income_final.head()"
   ]
  },
  {
   "cell_type": "code",
   "execution_count": 10,
   "id": "5d5cca84",
   "metadata": {},
   "outputs": [],
   "source": [
    "# Saving new Data Frame to csv file\n",
    "adj_net_nat_income_final.to_csv('adj_net_national_income_cleaned_full.csv', index=True)"
   ]
  },
  {
   "cell_type": "code",
   "execution_count": null,
   "id": "cc2fd9e0",
   "metadata": {},
   "outputs": [],
   "source": []
  },
  {
   "cell_type": "code",
   "execution_count": 11,
   "id": "3b9eb235",
   "metadata": {},
   "outputs": [],
   "source": [
    "# ---------------------------------------------\n",
    "# GDP per Capitafor for 2002-2019"
   ]
  },
  {
   "cell_type": "code",
   "execution_count": 12,
   "id": "22a1e161",
   "metadata": {},
   "outputs": [],
   "source": [
    "# Dropping not needed columns\n",
    "gdp_df_droped = gdp_df.drop(columns=['Series Code', 'Series Name', '2020 [YR2020]', '2021 [YR2021]'])"
   ]
  },
  {
   "cell_type": "code",
   "execution_count": 13,
   "id": "bb77b233",
   "metadata": {},
   "outputs": [],
   "source": [
    "# Renaming the columns\n",
    "gdp_df_renamed = gdp_df_droped.rename(columns={\n",
    "    '2002 [YR2002]' : '2002',\n",
    "    '2003 [YR2003]' : '2003',\n",
    "    '2004 [YR2004]' : '2004',\n",
    "    '2005 [YR2005]' : '2005',\n",
    "    '2006 [YR2006]' : '2006',\n",
    "    '2007 [YR2007]' : '2007',\n",
    "    '2008 [YR2008]' : '2008',\n",
    "    '2009 [YR2009]' : '2009',\n",
    "    '2010 [YR2010]' : '2010',\n",
    "    '2011 [YR2011]' : '2011',\n",
    "    '2012 [YR2012]' : '2012',\n",
    "    '2013 [YR2013]' : '2013',\n",
    "    '2014 [YR2014]' : '2014',\n",
    "    '2015 [YR2015]' : '2015',\n",
    "    '2016 [YR2016]' : '2016',\n",
    "    '2017 [YR2017]' : '2017',\n",
    "    '2018 [YR2018]' : '2018',\n",
    "    '2019 [YR2019]' : '2019'   \n",
    "})"
   ]
  },
  {
   "cell_type": "code",
   "execution_count": 14,
   "id": "72761412",
   "metadata": {},
   "outputs": [],
   "source": [
    "# Replacing all empty values with NaN\n",
    "gdp_df_droped = gdp_df_renamed.replace('..', np.nan)\n",
    "# Dropping all NaN\n",
    "gdp_df_final = gdp_df_droped.dropna(axis=0)"
   ]
  },
  {
   "cell_type": "code",
   "execution_count": 15,
   "id": "2a07b4eb",
   "metadata": {},
   "outputs": [],
   "source": [
    "# Changing object data type to float data type\n",
    "for i, col in enumerate(gdp_df_final.columns):\n",
    "    if i >= 2 and gdp_df_final[col].dtype == 'object':\n",
    "        gdp_df_final[col] = gdp_df_final[col].astype(float)"
   ]
  },
  {
   "cell_type": "code",
   "execution_count": 16,
   "id": "3a991a78",
   "metadata": {},
   "outputs": [
    {
     "data": {
      "text/html": [
       "<div>\n",
       "<style scoped>\n",
       "    .dataframe tbody tr th:only-of-type {\n",
       "        vertical-align: middle;\n",
       "    }\n",
       "\n",
       "    .dataframe tbody tr th {\n",
       "        vertical-align: top;\n",
       "    }\n",
       "\n",
       "    .dataframe thead th {\n",
       "        text-align: right;\n",
       "    }\n",
       "</style>\n",
       "<table border=\"1\" class=\"dataframe\">\n",
       "  <thead>\n",
       "    <tr style=\"text-align: right;\">\n",
       "      <th></th>\n",
       "      <th>Country Name</th>\n",
       "      <th>Country Code</th>\n",
       "      <th>2002</th>\n",
       "      <th>2003</th>\n",
       "      <th>2004</th>\n",
       "      <th>2005</th>\n",
       "      <th>2006</th>\n",
       "      <th>2007</th>\n",
       "      <th>2008</th>\n",
       "      <th>2009</th>\n",
       "      <th>2010</th>\n",
       "      <th>2011</th>\n",
       "      <th>2012</th>\n",
       "      <th>2013</th>\n",
       "      <th>2014</th>\n",
       "      <th>2015</th>\n",
       "      <th>2016</th>\n",
       "      <th>2017</th>\n",
       "      <th>2018</th>\n",
       "      <th>2019</th>\n",
       "    </tr>\n",
       "  </thead>\n",
       "  <tbody>\n",
       "    <tr>\n",
       "      <th>0</th>\n",
       "      <td>Afghanistan</td>\n",
       "      <td>AFG</td>\n",
       "      <td>3.854235e+09</td>\n",
       "      <td>4.539501e+09</td>\n",
       "      <td>5.220824e+09</td>\n",
       "      <td>6.226199e+09</td>\n",
       "      <td>6.971379e+09</td>\n",
       "      <td>9.715762e+09</td>\n",
       "      <td>1.024977e+10</td>\n",
       "      <td>1.215484e+10</td>\n",
       "      <td>1.563386e+10</td>\n",
       "      <td>1.819041e+10</td>\n",
       "      <td>2.020357e+10</td>\n",
       "      <td>2.056449e+10</td>\n",
       "      <td>2.055058e+10</td>\n",
       "      <td>1.999816e+10</td>\n",
       "      <td>1.801956e+10</td>\n",
       "      <td>1.889635e+10</td>\n",
       "      <td>1.841885e+10</td>\n",
       "      <td>1.890449e+10</td>\n",
       "    </tr>\n",
       "    <tr>\n",
       "      <th>1</th>\n",
       "      <td>Albania</td>\n",
       "      <td>ALB</td>\n",
       "      <td>4.348068e+09</td>\n",
       "      <td>5.611496e+09</td>\n",
       "      <td>7.184686e+09</td>\n",
       "      <td>8.052074e+09</td>\n",
       "      <td>8.896073e+09</td>\n",
       "      <td>1.067732e+10</td>\n",
       "      <td>1.288135e+10</td>\n",
       "      <td>1.204421e+10</td>\n",
       "      <td>1.192692e+10</td>\n",
       "      <td>1.289076e+10</td>\n",
       "      <td>1.231983e+10</td>\n",
       "      <td>1.277622e+10</td>\n",
       "      <td>1.322815e+10</td>\n",
       "      <td>1.138685e+10</td>\n",
       "      <td>1.186120e+10</td>\n",
       "      <td>1.301969e+10</td>\n",
       "      <td>1.515643e+10</td>\n",
       "      <td>1.540183e+10</td>\n",
       "    </tr>\n",
       "    <tr>\n",
       "      <th>2</th>\n",
       "      <td>Algeria</td>\n",
       "      <td>DZA</td>\n",
       "      <td>5.676036e+10</td>\n",
       "      <td>6.786383e+10</td>\n",
       "      <td>8.533258e+10</td>\n",
       "      <td>1.031980e+11</td>\n",
       "      <td>1.170270e+11</td>\n",
       "      <td>1.349770e+11</td>\n",
       "      <td>1.710010e+11</td>\n",
       "      <td>1.372110e+11</td>\n",
       "      <td>1.612070e+11</td>\n",
       "      <td>2.000130e+11</td>\n",
       "      <td>2.090590e+11</td>\n",
       "      <td>2.097550e+11</td>\n",
       "      <td>2.138100e+11</td>\n",
       "      <td>1.659790e+11</td>\n",
       "      <td>1.600340e+11</td>\n",
       "      <td>1.700970e+11</td>\n",
       "      <td>1.749110e+11</td>\n",
       "      <td>1.717670e+11</td>\n",
       "    </tr>\n",
       "    <tr>\n",
       "      <th>3</th>\n",
       "      <td>American Samoa</td>\n",
       "      <td>ASM</td>\n",
       "      <td>5.120000e+08</td>\n",
       "      <td>5.240000e+08</td>\n",
       "      <td>5.090000e+08</td>\n",
       "      <td>5.000000e+08</td>\n",
       "      <td>4.930000e+08</td>\n",
       "      <td>5.180000e+08</td>\n",
       "      <td>5.600000e+08</td>\n",
       "      <td>6.750000e+08</td>\n",
       "      <td>5.730000e+08</td>\n",
       "      <td>5.700000e+08</td>\n",
       "      <td>6.400000e+08</td>\n",
       "      <td>6.380000e+08</td>\n",
       "      <td>6.430000e+08</td>\n",
       "      <td>6.730000e+08</td>\n",
       "      <td>6.710000e+08</td>\n",
       "      <td>6.120000e+08</td>\n",
       "      <td>6.390000e+08</td>\n",
       "      <td>6.470000e+08</td>\n",
       "    </tr>\n",
       "    <tr>\n",
       "      <th>4</th>\n",
       "      <td>Andorra</td>\n",
       "      <td>AND</td>\n",
       "      <td>1.755910e+09</td>\n",
       "      <td>2.361727e+09</td>\n",
       "      <td>2.894922e+09</td>\n",
       "      <td>3.159905e+09</td>\n",
       "      <td>3.456442e+09</td>\n",
       "      <td>3.952601e+09</td>\n",
       "      <td>4.085631e+09</td>\n",
       "      <td>3.674410e+09</td>\n",
       "      <td>3.449967e+09</td>\n",
       "      <td>3.629204e+09</td>\n",
       "      <td>3.188809e+09</td>\n",
       "      <td>3.193704e+09</td>\n",
       "      <td>3.271808e+09</td>\n",
       "      <td>2.789870e+09</td>\n",
       "      <td>2.896679e+09</td>\n",
       "      <td>3.000181e+09</td>\n",
       "      <td>3.218316e+09</td>\n",
       "      <td>3.155065e+09</td>\n",
       "    </tr>\n",
       "  </tbody>\n",
       "</table>\n",
       "</div>"
      ],
      "text/plain": [
       "     Country Name Country Code          2002          2003          2004  \\\n",
       "0     Afghanistan          AFG  3.854235e+09  4.539501e+09  5.220824e+09   \n",
       "1         Albania          ALB  4.348068e+09  5.611496e+09  7.184686e+09   \n",
       "2         Algeria          DZA  5.676036e+10  6.786383e+10  8.533258e+10   \n",
       "3  American Samoa          ASM  5.120000e+08  5.240000e+08  5.090000e+08   \n",
       "4         Andorra          AND  1.755910e+09  2.361727e+09  2.894922e+09   \n",
       "\n",
       "           2005          2006          2007          2008          2009  \\\n",
       "0  6.226199e+09  6.971379e+09  9.715762e+09  1.024977e+10  1.215484e+10   \n",
       "1  8.052074e+09  8.896073e+09  1.067732e+10  1.288135e+10  1.204421e+10   \n",
       "2  1.031980e+11  1.170270e+11  1.349770e+11  1.710010e+11  1.372110e+11   \n",
       "3  5.000000e+08  4.930000e+08  5.180000e+08  5.600000e+08  6.750000e+08   \n",
       "4  3.159905e+09  3.456442e+09  3.952601e+09  4.085631e+09  3.674410e+09   \n",
       "\n",
       "           2010          2011          2012          2013          2014  \\\n",
       "0  1.563386e+10  1.819041e+10  2.020357e+10  2.056449e+10  2.055058e+10   \n",
       "1  1.192692e+10  1.289076e+10  1.231983e+10  1.277622e+10  1.322815e+10   \n",
       "2  1.612070e+11  2.000130e+11  2.090590e+11  2.097550e+11  2.138100e+11   \n",
       "3  5.730000e+08  5.700000e+08  6.400000e+08  6.380000e+08  6.430000e+08   \n",
       "4  3.449967e+09  3.629204e+09  3.188809e+09  3.193704e+09  3.271808e+09   \n",
       "\n",
       "           2015          2016          2017          2018          2019  \n",
       "0  1.999816e+10  1.801956e+10  1.889635e+10  1.841885e+10  1.890449e+10  \n",
       "1  1.138685e+10  1.186120e+10  1.301969e+10  1.515643e+10  1.540183e+10  \n",
       "2  1.659790e+11  1.600340e+11  1.700970e+11  1.749110e+11  1.717670e+11  \n",
       "3  6.730000e+08  6.710000e+08  6.120000e+08  6.390000e+08  6.470000e+08  \n",
       "4  2.789870e+09  2.896679e+09  3.000181e+09  3.218316e+09  3.155065e+09  "
      ]
     },
     "execution_count": 16,
     "metadata": {},
     "output_type": "execute_result"
    }
   ],
   "source": [
    "gdp_df_final.head()"
   ]
  },
  {
   "cell_type": "code",
   "execution_count": 17,
   "id": "04e34fd7",
   "metadata": {},
   "outputs": [
    {
     "ename": "FileNotFoundError",
     "evalue": "[Errno 2] No such file or directory: 'oleksii_branch/output/gdp_cleaned_full.csv'",
     "output_type": "error",
     "traceback": [
      "\u001b[0;31m---------------------------------------------------------------------------\u001b[0m",
      "\u001b[0;31mFileNotFoundError\u001b[0m                         Traceback (most recent call last)",
      "\u001b[0;32m/var/folders/cc/r2gd9wfx5ds1_z7gtrmfk39m0000gn/T/ipykernel_50531/1265787457.py\u001b[0m in \u001b[0;36m<module>\u001b[0;34m\u001b[0m\n\u001b[1;32m      1\u001b[0m \u001b[0;31m# Saving new Data Frame to csv file\u001b[0m\u001b[0;34m\u001b[0m\u001b[0;34m\u001b[0m\u001b[0;34m\u001b[0m\u001b[0m\n\u001b[0;32m----> 2\u001b[0;31m \u001b[0mgdp_df_final\u001b[0m\u001b[0;34m.\u001b[0m\u001b[0mto_csv\u001b[0m\u001b[0;34m(\u001b[0m\u001b[0;34m'oleksii_branch/output/gdp_cleaned_full.csv'\u001b[0m\u001b[0;34m,\u001b[0m \u001b[0mindex\u001b[0m\u001b[0;34m=\u001b[0m\u001b[0;32mTrue\u001b[0m\u001b[0;34m)\u001b[0m\u001b[0;34m\u001b[0m\u001b[0;34m\u001b[0m\u001b[0m\n\u001b[0m",
      "\u001b[0;32m~/opt/anaconda3/envs/PythonData/lib/python3.7/site-packages/pandas/core/generic.py\u001b[0m in \u001b[0;36mto_csv\u001b[0;34m(self, path_or_buf, sep, na_rep, float_format, columns, header, index, index_label, mode, encoding, compression, quoting, quotechar, line_terminator, chunksize, date_format, doublequote, escapechar, decimal, errors, storage_options)\u001b[0m\n\u001b[1;32m   3480\u001b[0m             \u001b[0mdoublequote\u001b[0m\u001b[0;34m=\u001b[0m\u001b[0mdoublequote\u001b[0m\u001b[0;34m,\u001b[0m\u001b[0;34m\u001b[0m\u001b[0;34m\u001b[0m\u001b[0m\n\u001b[1;32m   3481\u001b[0m             \u001b[0mescapechar\u001b[0m\u001b[0;34m=\u001b[0m\u001b[0mescapechar\u001b[0m\u001b[0;34m,\u001b[0m\u001b[0;34m\u001b[0m\u001b[0;34m\u001b[0m\u001b[0m\n\u001b[0;32m-> 3482\u001b[0;31m             \u001b[0mstorage_options\u001b[0m\u001b[0;34m=\u001b[0m\u001b[0mstorage_options\u001b[0m\u001b[0;34m,\u001b[0m\u001b[0;34m\u001b[0m\u001b[0;34m\u001b[0m\u001b[0m\n\u001b[0m\u001b[1;32m   3483\u001b[0m         )\n\u001b[1;32m   3484\u001b[0m \u001b[0;34m\u001b[0m\u001b[0m\n",
      "\u001b[0;32m~/opt/anaconda3/envs/PythonData/lib/python3.7/site-packages/pandas/io/formats/format.py\u001b[0m in \u001b[0;36mto_csv\u001b[0;34m(self, path_or_buf, encoding, sep, columns, index_label, mode, compression, quoting, quotechar, line_terminator, chunksize, date_format, doublequote, escapechar, errors, storage_options)\u001b[0m\n\u001b[1;32m   1103\u001b[0m             \u001b[0mformatter\u001b[0m\u001b[0;34m=\u001b[0m\u001b[0mself\u001b[0m\u001b[0;34m.\u001b[0m\u001b[0mfmt\u001b[0m\u001b[0;34m,\u001b[0m\u001b[0;34m\u001b[0m\u001b[0;34m\u001b[0m\u001b[0m\n\u001b[1;32m   1104\u001b[0m         )\n\u001b[0;32m-> 1105\u001b[0;31m         \u001b[0mcsv_formatter\u001b[0m\u001b[0;34m.\u001b[0m\u001b[0msave\u001b[0m\u001b[0;34m(\u001b[0m\u001b[0;34m)\u001b[0m\u001b[0;34m\u001b[0m\u001b[0;34m\u001b[0m\u001b[0m\n\u001b[0m\u001b[1;32m   1106\u001b[0m \u001b[0;34m\u001b[0m\u001b[0m\n\u001b[1;32m   1107\u001b[0m         \u001b[0;32mif\u001b[0m \u001b[0mcreated_buffer\u001b[0m\u001b[0;34m:\u001b[0m\u001b[0;34m\u001b[0m\u001b[0;34m\u001b[0m\u001b[0m\n",
      "\u001b[0;32m~/opt/anaconda3/envs/PythonData/lib/python3.7/site-packages/pandas/io/formats/csvs.py\u001b[0m in \u001b[0;36msave\u001b[0;34m(self)\u001b[0m\n\u001b[1;32m    241\u001b[0m             \u001b[0merrors\u001b[0m\u001b[0;34m=\u001b[0m\u001b[0mself\u001b[0m\u001b[0;34m.\u001b[0m\u001b[0merrors\u001b[0m\u001b[0;34m,\u001b[0m\u001b[0;34m\u001b[0m\u001b[0;34m\u001b[0m\u001b[0m\n\u001b[1;32m    242\u001b[0m             \u001b[0mcompression\u001b[0m\u001b[0;34m=\u001b[0m\u001b[0mself\u001b[0m\u001b[0;34m.\u001b[0m\u001b[0mcompression\u001b[0m\u001b[0;34m,\u001b[0m\u001b[0;34m\u001b[0m\u001b[0;34m\u001b[0m\u001b[0m\n\u001b[0;32m--> 243\u001b[0;31m             \u001b[0mstorage_options\u001b[0m\u001b[0;34m=\u001b[0m\u001b[0mself\u001b[0m\u001b[0;34m.\u001b[0m\u001b[0mstorage_options\u001b[0m\u001b[0;34m,\u001b[0m\u001b[0;34m\u001b[0m\u001b[0;34m\u001b[0m\u001b[0m\n\u001b[0m\u001b[1;32m    244\u001b[0m         ) as handles:\n\u001b[1;32m    245\u001b[0m \u001b[0;34m\u001b[0m\u001b[0m\n",
      "\u001b[0;32m~/opt/anaconda3/envs/PythonData/lib/python3.7/site-packages/pandas/io/common.py\u001b[0m in \u001b[0;36mget_handle\u001b[0;34m(path_or_buf, mode, encoding, compression, memory_map, is_text, errors, storage_options)\u001b[0m\n\u001b[1;32m    705\u001b[0m                 \u001b[0mencoding\u001b[0m\u001b[0;34m=\u001b[0m\u001b[0mioargs\u001b[0m\u001b[0;34m.\u001b[0m\u001b[0mencoding\u001b[0m\u001b[0;34m,\u001b[0m\u001b[0;34m\u001b[0m\u001b[0;34m\u001b[0m\u001b[0m\n\u001b[1;32m    706\u001b[0m                 \u001b[0merrors\u001b[0m\u001b[0;34m=\u001b[0m\u001b[0merrors\u001b[0m\u001b[0;34m,\u001b[0m\u001b[0;34m\u001b[0m\u001b[0;34m\u001b[0m\u001b[0m\n\u001b[0;32m--> 707\u001b[0;31m                 \u001b[0mnewline\u001b[0m\u001b[0;34m=\u001b[0m\u001b[0;34m\"\"\u001b[0m\u001b[0;34m,\u001b[0m\u001b[0;34m\u001b[0m\u001b[0;34m\u001b[0m\u001b[0m\n\u001b[0m\u001b[1;32m    708\u001b[0m             )\n\u001b[1;32m    709\u001b[0m         \u001b[0;32melse\u001b[0m\u001b[0;34m:\u001b[0m\u001b[0;34m\u001b[0m\u001b[0;34m\u001b[0m\u001b[0m\n",
      "\u001b[0;31mFileNotFoundError\u001b[0m: [Errno 2] No such file or directory: 'oleksii_branch/output/gdp_cleaned_full.csv'"
     ]
    }
   ],
   "source": [
    "# Saving new Data Frame to csv file\n",
    "gdp_df_final.to_csv('oleksii_branch/output/gdp_cleaned_full.csv', index=True)"
   ]
  },
  {
   "cell_type": "code",
   "execution_count": null,
   "id": "c39c55a5",
   "metadata": {},
   "outputs": [],
   "source": []
  },
  {
   "cell_type": "code",
   "execution_count": null,
   "id": "6fb65b72",
   "metadata": {},
   "outputs": [],
   "source": [
    "# ---------------------------------------------\n",
    "# Inflation Consumer Prices for 2002-2019"
   ]
  },
  {
   "cell_type": "code",
   "execution_count": null,
   "id": "3d4940a7",
   "metadata": {},
   "outputs": [],
   "source": [
    "# Dropping not needed columns\n",
    "infl_consum_prices_droped = inflation_consumer_prices_df.drop(columns=['Series Code', 'Series Name', '2020 [YR2020]', '2021 [YR2021]'])"
   ]
  },
  {
   "cell_type": "code",
   "execution_count": null,
   "id": "adfad8fd",
   "metadata": {},
   "outputs": [],
   "source": [
    "# Renaming the columns\n",
    "infl_consum_prices_renamed = infl_consum_prices_droped.rename(columns={\n",
    "    '2002 [YR2002]' : '2002',\n",
    "    '2003 [YR2003]' : '2003',\n",
    "    '2004 [YR2004]' : '2004',\n",
    "    '2005 [YR2005]' : '2005',\n",
    "    '2006 [YR2006]' : '2006',\n",
    "    '2007 [YR2007]' : '2007',\n",
    "    '2008 [YR2008]' : '2008',\n",
    "    '2009 [YR2009]' : '2009',\n",
    "    '2010 [YR2010]' : '2010',\n",
    "    '2011 [YR2011]' : '2011',\n",
    "    '2012 [YR2012]' : '2012',\n",
    "    '2013 [YR2013]' : '2013',\n",
    "    '2014 [YR2014]' : '2014',\n",
    "    '2015 [YR2015]' : '2015',\n",
    "    '2016 [YR2016]' : '2016',\n",
    "    '2017 [YR2017]' : '2017',\n",
    "    '2018 [YR2018]' : '2018',\n",
    "    '2019 [YR2019]' : '2019'  \n",
    "})"
   ]
  },
  {
   "cell_type": "code",
   "execution_count": null,
   "id": "cfa401e0",
   "metadata": {},
   "outputs": [],
   "source": [
    "# Replacing all empty values with NaN\n",
    "infl_consum_prices_droped = infl_consum_prices_renamed.replace('..', np.nan)\n",
    "# Dropping all NaN\n",
    "infl_consum_prices_final = infl_consum_prices_droped.dropna(axis=0)"
   ]
  },
  {
   "cell_type": "code",
   "execution_count": null,
   "id": "9c0ce80e",
   "metadata": {},
   "outputs": [],
   "source": [
    "# Changing object data type to float data type\n",
    "for i, col in enumerate(infl_consum_prices_final.columns):\n",
    "    if i >= 2 and infl_consum_prices_final[col].dtype == 'object':\n",
    "        infl_consum_prices_final[col] = infl_consum_prices_final[col].astype(float)\n",
    "infl_consum_prices_final"
   ]
  },
  {
   "cell_type": "code",
   "execution_count": null,
   "id": "c24a8682",
   "metadata": {},
   "outputs": [],
   "source": [
    "infl_consum_prices_final.head()"
   ]
  },
  {
   "cell_type": "code",
   "execution_count": null,
   "id": "6383ee6b",
   "metadata": {},
   "outputs": [],
   "source": [
    "# Saving new Data Frame to csv file\n",
    "infl_consum_prices_final.to_csv('oleksii_branch/output/inflation_consumer_prices_cleaned_full.csv', index=True)"
   ]
  },
  {
   "cell_type": "code",
   "execution_count": null,
   "id": "fdbba5b0",
   "metadata": {},
   "outputs": [],
   "source": []
  },
  {
   "cell_type": "code",
   "execution_count": null,
   "id": "12e4c1e2",
   "metadata": {},
   "outputs": [],
   "source": [
    "# ---------------------------------\n",
    "# The Mean of Adjusted Net National Income for the last 5 years (2015-2019)"
   ]
  },
  {
   "cell_type": "code",
   "execution_count": null,
   "id": "c00bece6",
   "metadata": {},
   "outputs": [],
   "source": []
  },
  {
   "cell_type": "code",
   "execution_count": null,
   "id": "870b001f",
   "metadata": {},
   "outputs": [],
   "source": [
    "# Locating first two columns and last five columns\n",
    "adj_net_nat_income_five_years_df = adj_net_nat_income_final.iloc[:, [0, 1, -5, -4, -3, -2, -1]]"
   ]
  },
  {
   "cell_type": "code",
   "execution_count": null,
   "id": "6b5473c1",
   "metadata": {},
   "outputs": [],
   "source": [
    "# Calculating the mean of the last five columns and assigning it to a new column\n",
    "adj_income_five_years_mean = adj_net_nat_income_five_years_df.assign(NetIncomeMean = adj_net_nat_income_five_years_df[['2015', '2016', '2017', '2018', '2019']].mean(axis=1))\n",
    "# Droppimg not needed columns\n",
    "adj_income_five_years_mean = adj_income_five_years_mean.drop(columns= ['2015', '2016', '2017', '2018', '2019'])"
   ]
  },
  {
   "cell_type": "code",
   "execution_count": null,
   "id": "30c67fe9",
   "metadata": {},
   "outputs": [],
   "source": [
    "adj_income_five_years_mean.head()"
   ]
  },
  {
   "cell_type": "code",
   "execution_count": null,
   "id": "e51b522d",
   "metadata": {},
   "outputs": [],
   "source": []
  },
  {
   "cell_type": "code",
   "execution_count": null,
   "id": "a9497d71",
   "metadata": {},
   "outputs": [],
   "source": [
    "# -------------------------------\n",
    "# The Mean of GPD per Capita for the Last 5 Years (2015-2019)"
   ]
  },
  {
   "cell_type": "code",
   "execution_count": null,
   "id": "ce33e7c2",
   "metadata": {},
   "outputs": [],
   "source": []
  },
  {
   "cell_type": "code",
   "execution_count": null,
   "id": "4b97e556",
   "metadata": {},
   "outputs": [],
   "source": [
    "# Locating first two columns and last five columns\n",
    "gdp_five_years_df = gdp_df_final.iloc[:, [0, 1, -5, -4, -3, -2, -1]]"
   ]
  },
  {
   "cell_type": "code",
   "execution_count": null,
   "id": "f5427561",
   "metadata": {},
   "outputs": [],
   "source": [
    "# Calculating the mean of the last five columns and assigning it to a new column\n",
    "gdp_five_years_mean = gdp_five_years_df.assign(NetIncomeMean = gdp_five_years_df[['2015', '2016', '2017', '2018', '2019']].mean(axis=1))\n",
    "# Droppimg not needed columns\n",
    "gdp_five_years_mean = gdp_five_years_mean.drop(columns= ['2015', '2016', '2017', '2018', '2019'])"
   ]
  },
  {
   "cell_type": "code",
   "execution_count": null,
   "id": "176b17d9",
   "metadata": {},
   "outputs": [],
   "source": [
    "gdp_five_years_mean.head()"
   ]
  },
  {
   "cell_type": "code",
   "execution_count": null,
   "id": "05188177",
   "metadata": {},
   "outputs": [],
   "source": []
  },
  {
   "cell_type": "code",
   "execution_count": null,
   "id": "da64b289",
   "metadata": {},
   "outputs": [],
   "source": [
    "# --------------------------------\n",
    "# The Mean of Inflation Consumer Prices for the last 5 years (2015-2019)"
   ]
  },
  {
   "cell_type": "code",
   "execution_count": null,
   "id": "379c1a8b",
   "metadata": {},
   "outputs": [],
   "source": []
  },
  {
   "cell_type": "code",
   "execution_count": null,
   "id": "6f910d95",
   "metadata": {},
   "outputs": [],
   "source": [
    "# Locating first two columns and last five columns\n",
    "infl_cons_prices_five_years_df = infl_consum_prices_final.iloc[:, [0, 1, -5, -4, -3, -2, -1]]"
   ]
  },
  {
   "cell_type": "code",
   "execution_count": null,
   "id": "87356fc5",
   "metadata": {},
   "outputs": [],
   "source": [
    "# Calculating the mean of the last five columns and assigning it to a new column\n",
    "infl_cons_prices_five_years_mean = infl_cons_prices_five_years_df.assign(NetIncomeMean = infl_cons_prices_five_years_df[['2015', '2016', '2017', '2018', '2019']].mean(axis=1))\n",
    "# Droppimg not needed columns\n",
    "infl_cons_prices_five_years_mean = infl_cons_prices_five_years_mean.drop(columns= ['2015', '2016', '2017', '2018', '2019'])"
   ]
  },
  {
   "cell_type": "code",
   "execution_count": null,
   "id": "c7b1fa0e",
   "metadata": {},
   "outputs": [],
   "source": [
    "infl_cons_prices_five_years_mean.head()"
   ]
  },
  {
   "cell_type": "code",
   "execution_count": null,
   "id": "4defd6f1",
   "metadata": {},
   "outputs": [],
   "source": []
  },
  {
   "cell_type": "code",
   "execution_count": null,
   "id": "5f1c0028",
   "metadata": {},
   "outputs": [],
   "source": [
    "# -------------------------------\n",
    "# Mearging 3 MEAN data frames together"
   ]
  },
  {
   "cell_type": "code",
   "execution_count": null,
   "id": "415423f3",
   "metadata": {},
   "outputs": [],
   "source": [
    "oleksiis_merged_df =  pd.merge(pd.merge\n",
    "            (left=adj_income_five_years_mean, right=gdp_five_years_mean, on=['Country Name', 'Country Code']), \n",
    "            infl_cons_prices_five_years_mean, on = ['Country Name', 'Country Code'])"
   ]
  },
  {
   "cell_type": "code",
   "execution_count": null,
   "id": "9024ab13",
   "metadata": {},
   "outputs": [],
   "source": [
    "oleksiis_merged_df"
   ]
  },
  {
   "cell_type": "code",
   "execution_count": null,
   "id": "28db3256",
   "metadata": {},
   "outputs": [],
   "source": [
    "# Saving new Data Frame to csv file\n",
    "oleksiis_merged_df.to_csv('oleksii_branch/output/oleksiis_three_merged_df.csv', index=True)"
   ]
  },
  {
   "cell_type": "code",
   "execution_count": null,
   "id": "0f0c5ceb",
   "metadata": {},
   "outputs": [],
   "source": []
  }
 ],
 "metadata": {
  "kernelspec": {
   "display_name": "Python 3 (ipykernel)",
   "language": "python",
   "name": "python3"
  },
  "language_info": {
   "codemirror_mode": {
    "name": "ipython",
    "version": 3
   },
   "file_extension": ".py",
   "mimetype": "text/x-python",
   "name": "python",
   "nbconvert_exporter": "python",
   "pygments_lexer": "ipython3",
   "version": "3.7.13"
  }
 },
 "nbformat": 4,
 "nbformat_minor": 5
}
